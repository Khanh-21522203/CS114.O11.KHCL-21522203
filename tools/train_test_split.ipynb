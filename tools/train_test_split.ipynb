{
 "cells": [
  {
   "cell_type": "code",
   "execution_count": 1,
   "metadata": {},
   "outputs": [],
   "source": [
    "import re\n",
    "from pyvi import ViTokenizer\n",
    "import ast\n",
    "import random"
   ]
  },
  {
   "cell_type": "code",
   "execution_count": 2,
   "metadata": {},
   "outputs": [],
   "source": [
    "def normalize(text):\n",
    "    t = text.replace('\\n', ' ')\n",
    "    t = t.lower()\n",
    "    return t\n",
    "\n",
    "def delete_hashtag(text):\n",
    "    return re.sub(r'#\\w+', '', text)\n",
    "\n",
    "def delete_link(text):\n",
    "    return re.sub(r'http\\S+', '', text)\n",
    "\n",
    "def remove_emojis(text):\n",
    "    emoj = re.compile(r\"\"\"[\\U0001F600-\\U0001F64F\\U0001F300-\\U0001F5FF\\U0001F680-\\U0001F6FF\\U0001F1E0-\\U0001F1FF\\U00002702-\\U000027B0\\U000024C2-\\U0001F251\\U0001f926-\\U0001f937\\U00010000-\\U0010ffff\\u200d\\u23cf\\u23e9\\u231a\\ufe0f\\u3030-]+(?<!\\n)\"\"\", re.UNICODE)\n",
    "    return re.sub(emoj, '', text)\n",
    "\n",
    "def encode_number(text):\n",
    "    t = text.split(' ')\n",
    "    t = map(lambda x: '<number>' if bool(re.match(r'^[0-9]+(\\.[0-9]+)?$', x)) else x, t)\n",
    "    return ' '.join(t)\n",
    "\n",
    "def delete_onelen_token(text):\n",
    "    t = text.split(' ')\n",
    "    t = filter(lambda x: len(x)>1, t)\n",
    "    return ' '.join(t)\n",
    "\n",
    "def preprocessing(text):\n",
    "    t = normalize(text)\n",
    "    t = delete_hashtag(t)\n",
    "    t = delete_link(t)\n",
    "    t = remove_emojis(t)\n",
    "    t = ViTokenizer.tokenize(t)\n",
    "    t = encode_number(t)\n",
    "    t = delete_onelen_token(t)\n",
    "    return t"
   ]
  },
  {
   "cell_type": "code",
   "execution_count": 3,
   "metadata": {},
   "outputs": [],
   "source": [
    "import pandas as pd\n",
    "\n",
    "df = pd.read_csv(\"data.csv\", encoding='utf-8-sig')\n",
    "texts = list(df['Contents'])\n",
    "labels = list(df['Hashtags'])"
   ]
  },
  {
   "cell_type": "code",
   "execution_count": 4,
   "metadata": {},
   "outputs": [],
   "source": [
    "texts = [preprocessing(t) for t in texts]\n",
    "p_labels = [ast.literal_eval(l) for l in labels]"
   ]
  },
  {
   "cell_type": "code",
   "execution_count": 17,
   "metadata": {},
   "outputs": [],
   "source": [
    "classes = ['#Q&A', '#cv', '#data', '#deep_learning', '#machine_learning', '#math', '#nlp', '#python', '#sharing']\n",
    "test_idxes = []\n",
    "\n",
    "for clas in classes:\n",
    "    idxes = [i for i in range(len(labels)) if clas in p_labels[i]]\n",
    "    # Lấy ngẫu nhiên 20% của danh sách\n",
    "    num_elements_to_take = int(len(idxes) * 0.1)\n",
    "    random_sample = random.sample(idxes, num_elements_to_take)\n",
    "    test_idxes = list(set(test_idxes).union(set(random_sample)))"
   ]
  },
  {
   "cell_type": "code",
   "execution_count": 18,
   "metadata": {},
   "outputs": [],
   "source": [
    "train_texts = [texts[i] for i in range(len(texts)) if i not in test_idxes]\n",
    "train_labels = [labels[i] for i in range(len(texts)) if i not in test_idxes]\n",
    "\n",
    "test_texts = [texts[i] for i in range(len(texts)) if i in test_idxes]\n",
    "test_labels = [labels[i] for i in range(len(texts)) if i in test_idxes]"
   ]
  },
  {
   "cell_type": "code",
   "execution_count": 19,
   "metadata": {},
   "outputs": [],
   "source": [
    "train_df = pd.DataFrame({'text': train_texts, 'label': train_labels})\n",
    "train_df.to_csv(\"train_data.csv\", encoding='utf-8-sig', index=False)\n",
    "\n",
    "test_df = pd.DataFrame({'text': test_texts, 'label': test_labels})\n",
    "test_df.to_csv(\"test_data.csv\", encoding='utf-8-sig', index=False)"
   ]
  },
  {
   "cell_type": "code",
   "execution_count": 20,
   "metadata": {},
   "outputs": [
    {
     "data": {
      "text/plain": [
       "1048"
      ]
     },
     "execution_count": 20,
     "metadata": {},
     "output_type": "execute_result"
    }
   ],
   "source": [
    "len(train_texts)"
   ]
  },
  {
   "cell_type": "code",
   "execution_count": 21,
   "metadata": {},
   "outputs": [
    {
     "data": {
      "text/plain": [
       "234"
      ]
     },
     "execution_count": 21,
     "metadata": {},
     "output_type": "execute_result"
    }
   ],
   "source": [
    "len(test_df)"
   ]
  },
  {
   "cell_type": "code",
   "execution_count": null,
   "metadata": {},
   "outputs": [],
   "source": []
  }
 ],
 "metadata": {
  "kernelspec": {
   "display_name": "Python 3",
   "language": "python",
   "name": "python3"
  },
  "language_info": {
   "codemirror_mode": {
    "name": "ipython",
    "version": 3
   },
   "file_extension": ".py",
   "mimetype": "text/x-python",
   "name": "python",
   "nbconvert_exporter": "python",
   "pygments_lexer": "ipython3",
   "version": "3.8.2"
  }
 },
 "nbformat": 4,
 "nbformat_minor": 2
}
