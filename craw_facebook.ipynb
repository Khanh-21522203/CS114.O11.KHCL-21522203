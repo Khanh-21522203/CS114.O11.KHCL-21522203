{
 "cells": [
  {
   "cell_type": "code",
   "execution_count": 1,
   "id": "b612f12d",
   "metadata": {},
   "outputs": [],
   "source": [
    "import pickle\n",
    "from bs4 import BeautifulSoup\n",
    "from selenium import webdriver\n",
    "from selenium.webdriver.common.by import By\n",
    "from selenium.webdriver.common.keys import Keys\n",
    "import time\n",
    "import pandas as pd"
   ]
  },
  {
   "cell_type": "code",
   "execution_count": 2,
   "id": "9ab49de6",
   "metadata": {},
   "outputs": [],
   "source": [
    "chromePath =\"C:\\seleniumdriver\\chromedriver-win64\\chromedriver-win64\\chromedriver.exe\""
   ]
  },
  {
   "cell_type": "code",
   "execution_count": 17,
   "id": "1bb1e04b",
   "metadata": {},
   "outputs": [
    {
     "name": "stderr",
     "output_type": "stream",
     "text": [
      "C:\\Users\\vuong\\AppData\\Local\\Temp\\ipykernel_16020\\2128556931.py:2: DeprecationWarning: executable_path has been deprecated, please pass in a Service object\n",
      "  driver=webdriver.Chrome(chromePath)\n"
     ]
    }
   ],
   "source": [
    "# Lấy cookie\n",
    "driver=webdriver.Chrome(chromePath)\n",
    "url = 'https://mbasic.facebook.com/'\n",
    "driver.get(url)\n",
    "time.sleep(3)\n",
    "\n",
    "email_box = driver.find_element(by=By.XPATH, value='//*[@id=\"m_login_email\"]')\n",
    "email_box.send_keys(\"100054308900987\")\n",
    "password_box = driver.find_element(by=By.XPATH, value='//*[@id=\"password_input_with_placeholder\"]/input')\n",
    "password_box.send_keys(\"D19641ziCqoK\")\n",
    "password_box.send_keys(Keys.ENTER)\n",
    "time.sleep(60)\n",
    "\n",
    "with open('my_cookie.pkl','wb') as file:\n",
    "    pickle.dump(driver.get_cookies(), file)\n",
    "\n",
    "driver.close()"
   ]
  },
  {
   "cell_type": "code",
   "execution_count": null,
   "id": "b67e1cb8",
   "metadata": {},
   "outputs": [],
   "source": [
    "/html/body/div/div/div[2]/div/div[1]/div[4]/div/a\n",
    "\n",
    "/html/body/div/div/div[2]/div/div[1]/div[4]/section/article[7]/footer/div[2]/a[1]\n",
    "\n",
    "/html/body/div/div/div[2]/div/div[1]/div[1]/div/div/div[1]\n",
    "\n",
    "/html/body/div/div/div[2]/div/div[1]/div[3]/section/article[1]/footer/div[2]/a[1]\n",
    "/html/body/div/div/div[2]/div/div[1]/div[4]/div/a\n",
    "\n",
    "/html/body/div/div/div[2]/div/div[1]/div[4]/section/article[7]/footer/div[2]/a[1]\n",
    "\n",
    "/html/body/div/div/div[2]/div/div[1]/div[1]/div/div/div[1]\n",
    "\n",
    "/html/body/div/div/div[2]/div/div[1]/div[4]/div/a"
   ]
  },
  {
   "cell_type": "code",
   "execution_count": 36,
   "id": "c65c64b1",
   "metadata": {},
   "outputs": [],
   "source": [
    "def load_more_posts(driver):\n",
    "    button = driver.find_element(by=By.XPATH, value='/html/body/div/div/div[2]/div/div[1]/div[4]/div/a')\n",
    "    button.click()"
   ]
  },
  {
   "cell_type": "code",
   "execution_count": 37,
   "id": "46df6e51",
   "metadata": {},
   "outputs": [],
   "source": [
    "def get_post_link(driver):\n",
    "    post_links = []\n",
    "    while True:\n",
    "        for i in range(1,8):\n",
    "            try:\n",
    "                xpath = f\"/html/body/div/div/div[2]/div/div[1]/div[4]/section/article[{i}]/footer/div[2]/a[1]\"\n",
    "                post_links.append(driver.find_element(by=By.XPATH, value=xpath).get_attribute('href'))\n",
    "            except:\n",
    "                break\n",
    "        try:\n",
    "            time.sleep(5)\n",
    "            load_more_posts(driver)\n",
    "        except:\n",
    "            break\n",
    "    return post_links"
   ]
  },
  {
   "cell_type": "code",
   "execution_count": 38,
   "id": "257e3046",
   "metadata": {},
   "outputs": [],
   "source": [
    "def get_post_content(driver, post_link):\n",
    "    driver.get(post_link)\n",
    "    xpath = \"/html/body/div/div/div[2]/div/div[1]/div[1]/div/div/div[1]\"\n",
    "    content = driver.find_element(by=By.XPATH, value=xpath).text\n",
    "    return content"
   ]
  },
  {
   "cell_type": "code",
   "execution_count": 39,
   "id": "af768e9c",
   "metadata": {},
   "outputs": [
    {
     "name": "stderr",
     "output_type": "stream",
     "text": [
      "C:\\Users\\vuong\\AppData\\Local\\Temp\\ipykernel_16020\\972977712.py:2: DeprecationWarning: executable_path has been deprecated, please pass in a Service object\n",
      "  driver=webdriver.Chrome(chromePath)\n"
     ]
    },
    {
     "ename": "WebDriverException",
     "evalue": "Message: disconnected: not connected to DevTools\n  (failed to check if window was closed: disconnected: not connected to DevTools)\n  (Session info: chrome=120.0.6099.130)\nStacktrace:\n\tGetHandleVerifier [0x00007FF615EE2142+3514994]\n\t(No symbol) [0x00007FF615B00CE2]\n\t(No symbol) [0x00007FF6159A76AA]\n\t(No symbol) [0x00007FF61598E1E9]\n\t(No symbol) [0x00007FF61598F7CE]\n\t(No symbol) [0x00007FF6159A7CC3]\n\t(No symbol) [0x00007FF615980580]\n\t(No symbol) [0x00007FF615A22EA1]\n\t(No symbol) [0x00007FF615A15FB0]\n\t(No symbol) [0x00007FF6159E4BDC]\n\t(No symbol) [0x00007FF6159E5C64]\n\tGetHandleVerifier [0x00007FF615F0E16B+3695259]\n\tGetHandleVerifier [0x00007FF615F66737+4057191]\n\tGetHandleVerifier [0x00007FF615F5E4E3+4023827]\n\tGetHandleVerifier [0x00007FF615C304F9+689705]\n\t(No symbol) [0x00007FF615B0C048]\n\t(No symbol) [0x00007FF615B08044]\n\t(No symbol) [0x00007FF615B081C9]\n\t(No symbol) [0x00007FF615AF88C4]\n\tBaseThreadInitThunk [0x00007FFB97AD257D+29]\n\tRtlUserThreadStart [0x00007FFB9838AA58+40]\n",
     "output_type": "error",
     "traceback": [
      "\u001b[1;31m---------------------------------------------------------------------------\u001b[0m",
      "\u001b[1;31mWebDriverException\u001b[0m                        Traceback (most recent call last)",
      "Input \u001b[1;32mIn [39]\u001b[0m, in \u001b[0;36m<cell line: 12>\u001b[1;34m()\u001b[0m\n\u001b[0;32m      9\u001b[0m time\u001b[38;5;241m.\u001b[39msleep(\u001b[38;5;241m3\u001b[39m)\n\u001b[0;32m     11\u001b[0m post_links \u001b[38;5;241m=\u001b[39m get_post_link(driver)\n\u001b[1;32m---> 12\u001b[0m \u001b[43mdriver\u001b[49m\u001b[38;5;241;43m.\u001b[39;49m\u001b[43mclose\u001b[49m\u001b[43m(\u001b[49m\u001b[43m)\u001b[49m\n",
      "File \u001b[1;32m~\\AppData\\Local\\Programs\\Python\\Python310\\lib\\site-packages\\selenium\\webdriver\\remote\\webdriver.py:551\u001b[0m, in \u001b[0;36mWebDriver.close\u001b[1;34m(self)\u001b[0m\n\u001b[0;32m    543\u001b[0m \u001b[38;5;28;01mdef\u001b[39;00m \u001b[38;5;21mclose\u001b[39m(\u001b[38;5;28mself\u001b[39m) \u001b[38;5;241m-\u001b[39m\u001b[38;5;241m>\u001b[39m \u001b[38;5;28;01mNone\u001b[39;00m:\n\u001b[0;32m    544\u001b[0m \u001b[38;5;250m    \u001b[39m\u001b[38;5;124;03m\"\"\"Closes the current window.\u001b[39;00m\n\u001b[0;32m    545\u001b[0m \n\u001b[0;32m    546\u001b[0m \u001b[38;5;124;03m    :Usage:\u001b[39;00m\n\u001b[1;32m   (...)\u001b[0m\n\u001b[0;32m    549\u001b[0m \u001b[38;5;124;03m            driver.close()\u001b[39;00m\n\u001b[0;32m    550\u001b[0m \u001b[38;5;124;03m    \"\"\"\u001b[39;00m\n\u001b[1;32m--> 551\u001b[0m     \u001b[38;5;28;43mself\u001b[39;49m\u001b[38;5;241;43m.\u001b[39;49m\u001b[43mexecute\u001b[49m\u001b[43m(\u001b[49m\u001b[43mCommand\u001b[49m\u001b[38;5;241;43m.\u001b[39;49m\u001b[43mCLOSE\u001b[49m\u001b[43m)\u001b[49m\n",
      "File \u001b[1;32m~\\AppData\\Local\\Programs\\Python\\Python310\\lib\\site-packages\\selenium\\webdriver\\remote\\webdriver.py:440\u001b[0m, in \u001b[0;36mWebDriver.execute\u001b[1;34m(self, driver_command, params)\u001b[0m\n\u001b[0;32m    438\u001b[0m response \u001b[38;5;241m=\u001b[39m \u001b[38;5;28mself\u001b[39m\u001b[38;5;241m.\u001b[39mcommand_executor\u001b[38;5;241m.\u001b[39mexecute(driver_command, params)\n\u001b[0;32m    439\u001b[0m \u001b[38;5;28;01mif\u001b[39;00m response:\n\u001b[1;32m--> 440\u001b[0m     \u001b[38;5;28;43mself\u001b[39;49m\u001b[38;5;241;43m.\u001b[39;49m\u001b[43merror_handler\u001b[49m\u001b[38;5;241;43m.\u001b[39;49m\u001b[43mcheck_response\u001b[49m\u001b[43m(\u001b[49m\u001b[43mresponse\u001b[49m\u001b[43m)\u001b[49m\n\u001b[0;32m    441\u001b[0m     response[\u001b[38;5;124m\"\u001b[39m\u001b[38;5;124mvalue\u001b[39m\u001b[38;5;124m\"\u001b[39m] \u001b[38;5;241m=\u001b[39m \u001b[38;5;28mself\u001b[39m\u001b[38;5;241m.\u001b[39m_unwrap_value(response\u001b[38;5;241m.\u001b[39mget(\u001b[38;5;124m\"\u001b[39m\u001b[38;5;124mvalue\u001b[39m\u001b[38;5;124m\"\u001b[39m, \u001b[38;5;28;01mNone\u001b[39;00m))\n\u001b[0;32m    442\u001b[0m     \u001b[38;5;28;01mreturn\u001b[39;00m response\n",
      "File \u001b[1;32m~\\AppData\\Local\\Programs\\Python\\Python310\\lib\\site-packages\\selenium\\webdriver\\remote\\errorhandler.py:245\u001b[0m, in \u001b[0;36mErrorHandler.check_response\u001b[1;34m(self, response)\u001b[0m\n\u001b[0;32m    243\u001b[0m         alert_text \u001b[38;5;241m=\u001b[39m value[\u001b[38;5;124m\"\u001b[39m\u001b[38;5;124malert\u001b[39m\u001b[38;5;124m\"\u001b[39m]\u001b[38;5;241m.\u001b[39mget(\u001b[38;5;124m\"\u001b[39m\u001b[38;5;124mtext\u001b[39m\u001b[38;5;124m\"\u001b[39m)\n\u001b[0;32m    244\u001b[0m     \u001b[38;5;28;01mraise\u001b[39;00m exception_class(message, screen, stacktrace, alert_text)  \u001b[38;5;66;03m# type: ignore[call-arg]  # mypy is not smart enough here\u001b[39;00m\n\u001b[1;32m--> 245\u001b[0m \u001b[38;5;28;01mraise\u001b[39;00m exception_class(message, screen, stacktrace)\n",
      "\u001b[1;31mWebDriverException\u001b[0m: Message: disconnected: not connected to DevTools\n  (failed to check if window was closed: disconnected: not connected to DevTools)\n  (Session info: chrome=120.0.6099.130)\nStacktrace:\n\tGetHandleVerifier [0x00007FF615EE2142+3514994]\n\t(No symbol) [0x00007FF615B00CE2]\n\t(No symbol) [0x00007FF6159A76AA]\n\t(No symbol) [0x00007FF61598E1E9]\n\t(No symbol) [0x00007FF61598F7CE]\n\t(No symbol) [0x00007FF6159A7CC3]\n\t(No symbol) [0x00007FF615980580]\n\t(No symbol) [0x00007FF615A22EA1]\n\t(No symbol) [0x00007FF615A15FB0]\n\t(No symbol) [0x00007FF6159E4BDC]\n\t(No symbol) [0x00007FF6159E5C64]\n\tGetHandleVerifier [0x00007FF615F0E16B+3695259]\n\tGetHandleVerifier [0x00007FF615F66737+4057191]\n\tGetHandleVerifier [0x00007FF615F5E4E3+4023827]\n\tGetHandleVerifier [0x00007FF615C304F9+689705]\n\t(No symbol) [0x00007FF615B0C048]\n\t(No symbol) [0x00007FF615B08044]\n\t(No symbol) [0x00007FF615B081C9]\n\t(No symbol) [0x00007FF615AF88C4]\n\tBaseThreadInitThunk [0x00007FFB97AD257D+29]\n\tRtlUserThreadStart [0x00007FFB9838AA58+40]\n"
     ]
    }
   ],
   "source": [
    "group_links = 'https://mbasic.facebook.com/groups/257768141347267'\n",
    "driver=webdriver.Chrome(chromePath)\n",
    "driver.get(group_links)\n",
    "\n",
    "cookies = pickle.load(open(\"my_cookie.pkl\",\"rb\"))\n",
    "for cookie in cookies:\n",
    "    driver.add_cookie(cookie)\n",
    "driver.get(group_links)\n",
    "time.sleep(3)\n",
    "\n",
    "post_links = get_post_link(driver)\n",
    "driver.close()"
   ]
  },
  {
   "cell_type": "code",
   "execution_count": 40,
   "id": "80e3dbba",
   "metadata": {},
   "outputs": [
    {
     "data": {
      "text/plain": [
       "3072"
      ]
     },
     "execution_count": 40,
     "metadata": {},
     "output_type": "execute_result"
    }
   ],
   "source": [
    "len(post_links)"
   ]
  },
  {
   "cell_type": "code",
   "execution_count": 45,
   "id": "3a568f1e",
   "metadata": {},
   "outputs": [
    {
     "name": "stderr",
     "output_type": "stream",
     "text": [
      "C:\\Users\\vuong\\AppData\\Local\\Temp\\ipykernel_16020\\661838019.py:1: DeprecationWarning: executable_path has been deprecated, please pass in a Service object\n",
      "  driver=webdriver.Chrome(chromePath)\n"
     ]
    }
   ],
   "source": [
    "driver=webdriver.Chrome(chromePath)\n",
    "driver.get(group_links)\n",
    "\n",
    "cookies = pickle.load(open(\"my_cookie.pkl\",\"rb\"))\n",
    "for cookie in cookies:\n",
    "    driver.add_cookie(cookie)\n",
    "driver.get(group_links)\n",
    "time.sleep(3)\n",
    "\n",
    "contents = []\n",
    "for link in post_links:\n",
    "    try:\n",
    "        content = get_post_content(driver, link)\n",
    "        contents.append(content)\n",
    "        time.sleep(1)\n",
    "    except:\n",
    "        contents.append('')"
   ]
  },
  {
   "cell_type": "code",
   "execution_count": 46,
   "id": "bb7dd5da",
   "metadata": {},
   "outputs": [
    {
     "data": {
      "text/plain": [
       "3072"
      ]
     },
     "execution_count": 46,
     "metadata": {},
     "output_type": "execute_result"
    }
   ],
   "source": [
    "len(contents)"
   ]
  },
  {
   "cell_type": "code",
   "execution_count": 47,
   "id": "0c9e5c80",
   "metadata": {},
   "outputs": [],
   "source": [
    "# Lưu dữ liệu vào file\n",
    "df = pd.DataFrame(zip(contents, post_links), columns=['Contents', 'Links'])\n",
    "file_name = \"mlcoban.csv\"\n",
    "df.to_csv(file_name, sep='\\t')"
   ]
  },
  {
   "cell_type": "code",
   "execution_count": 48,
   "id": "f46faa37",
   "metadata": {},
   "outputs": [
    {
     "data": {
      "text/html": [
       "<div>\n",
       "<style scoped>\n",
       "    .dataframe tbody tr th:only-of-type {\n",
       "        vertical-align: middle;\n",
       "    }\n",
       "\n",
       "    .dataframe tbody tr th {\n",
       "        vertical-align: top;\n",
       "    }\n",
       "\n",
       "    .dataframe thead th {\n",
       "        text-align: right;\n",
       "    }\n",
       "</style>\n",
       "<table border=\"1\" class=\"dataframe\">\n",
       "  <thead>\n",
       "    <tr style=\"text-align: right;\">\n",
       "      <th></th>\n",
       "      <th>Contents</th>\n",
       "      <th>Links</th>\n",
       "    </tr>\n",
       "  </thead>\n",
       "  <tbody>\n",
       "    <tr>\n",
       "      <th>0</th>\n",
       "      <td>Công cụ Mocap AI tạo hoạt ảnh khuôn mặt, chuyể...</td>\n",
       "      <td>https://mbasic.facebook.com/groups/machinelear...</td>\n",
       "    </tr>\n",
       "    <tr>\n",
       "      <th>1</th>\n",
       "      <td>Chào mọi người, em đang làm quen với ML cơ bản...</td>\n",
       "      <td>https://mbasic.facebook.com/groups/machinelear...</td>\n",
       "    </tr>\n",
       "    <tr>\n",
       "      <th>2</th>\n",
       "      <td>Merger 2 câu để tạo 1 câu mới.\\nTrong NLP, mọi...</td>\n",
       "      <td>https://mbasic.facebook.com/groups/machinelear...</td>\n",
       "    </tr>\n",
       "    <tr>\n",
       "      <th>3</th>\n",
       "      <td>Today, we introduce VinaLLaMA, a Vietnamese Fo...</td>\n",
       "      <td>https://mbasic.facebook.com/groups/machinelear...</td>\n",
       "    </tr>\n",
       "    <tr>\n",
       "      <th>4</th>\n",
       "      <td>có bác nào làm genai mà cũng hay dùng transfor...</td>\n",
       "      <td>https://mbasic.facebook.com/groups/machinelear...</td>\n",
       "    </tr>\n",
       "    <tr>\n",
       "      <th>...</th>\n",
       "      <td>...</td>\n",
       "      <td>...</td>\n",
       "    </tr>\n",
       "    <tr>\n",
       "      <th>3067</th>\n",
       "      <td>[Chia sẻ lời giải cuộc thi Kalapa's CreditScor...</td>\n",
       "      <td>https://mbasic.facebook.com/groups/machinelear...</td>\n",
       "    </tr>\n",
       "    <tr>\n",
       "      <th>3068</th>\n",
       "      <td>Chào mọi người, mình có trò chuyện với bác Jef...</td>\n",
       "      <td>https://mbasic.facebook.com/groups/machinelear...</td>\n",
       "    </tr>\n",
       "    <tr>\n",
       "      <th>3069</th>\n",
       "      <td>Mình xin chia sẻ Note cá nhân về ngành Bioinfo...</td>\n",
       "      <td>https://mbasic.facebook.com/groups/machinelear...</td>\n",
       "    </tr>\n",
       "    <tr>\n",
       "      <th>3070</th>\n",
       "      <td>chào các bạn, mình muốn tìm một quyển machine ...</td>\n",
       "      <td>https://mbasic.facebook.com/groups/machinelear...</td>\n",
       "    </tr>\n",
       "    <tr>\n",
       "      <th>3071</th>\n",
       "      <td>Question Answering with deep embedders (such a...</td>\n",
       "      <td>https://mbasic.facebook.com/groups/machinelear...</td>\n",
       "    </tr>\n",
       "  </tbody>\n",
       "</table>\n",
       "<p>3072 rows × 2 columns</p>\n",
       "</div>"
      ],
      "text/plain": [
       "                                               Contents  \\\n",
       "0     Công cụ Mocap AI tạo hoạt ảnh khuôn mặt, chuyể...   \n",
       "1     Chào mọi người, em đang làm quen với ML cơ bản...   \n",
       "2     Merger 2 câu để tạo 1 câu mới.\\nTrong NLP, mọi...   \n",
       "3     Today, we introduce VinaLLaMA, a Vietnamese Fo...   \n",
       "4     có bác nào làm genai mà cũng hay dùng transfor...   \n",
       "...                                                 ...   \n",
       "3067  [Chia sẻ lời giải cuộc thi Kalapa's CreditScor...   \n",
       "3068  Chào mọi người, mình có trò chuyện với bác Jef...   \n",
       "3069  Mình xin chia sẻ Note cá nhân về ngành Bioinfo...   \n",
       "3070  chào các bạn, mình muốn tìm một quyển machine ...   \n",
       "3071  Question Answering with deep embedders (such a...   \n",
       "\n",
       "                                                  Links  \n",
       "0     https://mbasic.facebook.com/groups/machinelear...  \n",
       "1     https://mbasic.facebook.com/groups/machinelear...  \n",
       "2     https://mbasic.facebook.com/groups/machinelear...  \n",
       "3     https://mbasic.facebook.com/groups/machinelear...  \n",
       "4     https://mbasic.facebook.com/groups/machinelear...  \n",
       "...                                                 ...  \n",
       "3067  https://mbasic.facebook.com/groups/machinelear...  \n",
       "3068  https://mbasic.facebook.com/groups/machinelear...  \n",
       "3069  https://mbasic.facebook.com/groups/machinelear...  \n",
       "3070  https://mbasic.facebook.com/groups/machinelear...  \n",
       "3071  https://mbasic.facebook.com/groups/machinelear...  \n",
       "\n",
       "[3072 rows x 2 columns]"
      ]
     },
     "execution_count": 48,
     "metadata": {},
     "output_type": "execute_result"
    }
   ],
   "source": [
    "df"
   ]
  },
  {
   "cell_type": "code",
   "execution_count": null,
   "id": "ce1cf3e0",
   "metadata": {},
   "outputs": [],
   "source": []
  },
  {
   "cell_type": "code",
   "execution_count": null,
   "id": "15c7aebd",
   "metadata": {},
   "outputs": [],
   "source": []
  },
  {
   "cell_type": "code",
   "execution_count": null,
   "id": "8678ce53",
   "metadata": {},
   "outputs": [],
   "source": []
  }
 ],
 "metadata": {
  "kernelspec": {
   "display_name": "Python 3 (ipykernel)",
   "language": "python",
   "name": "python3"
  },
  "language_info": {
   "codemirror_mode": {
    "name": "ipython",
    "version": 3
   },
   "file_extension": ".py",
   "mimetype": "text/x-python",
   "name": "python",
   "nbconvert_exporter": "python",
   "pygments_lexer": "ipython3",
   "version": "3.10.11"
  }
 },
 "nbformat": 4,
 "nbformat_minor": 5
}
