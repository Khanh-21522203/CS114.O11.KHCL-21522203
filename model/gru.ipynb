{
  "nbformat": 4,
  "nbformat_minor": 0,
  "metadata": {
    "colab": {
      "provenance": [],
      "gpuType": "T4"
    },
    "kernelspec": {
      "name": "python3",
      "display_name": "Python 3"
    },
    "language_info": {
      "name": "python"
    },
    "accelerator": "GPU"
  },
  "cells": [
    {
      "cell_type": "code",
      "source": [
        "from google.colab import drive\n",
        "drive.mount('/content/drive')"
      ],
      "metadata": {
        "colab": {
          "base_uri": "https://localhost:8080/"
        },
        "id": "oaujuhxR34Jv",
        "outputId": "d3aca9aa-6129-451a-cc18-b5b827247db4"
      },
      "execution_count": 1,
      "outputs": [
        {
          "output_type": "stream",
          "name": "stdout",
          "text": [
            "Mounted at /content/drive\n"
          ]
        }
      ]
    },
    {
      "cell_type": "markdown",
      "source": [
        "## Download"
      ],
      "metadata": {
        "id": "if-7rsvSuyGZ"
      }
    },
    {
      "cell_type": "code",
      "source": [
        "!pip install pyvi"
      ],
      "metadata": {
        "colab": {
          "base_uri": "https://localhost:8080/"
        },
        "id": "-LHlaSTo8LX_",
        "outputId": "edb492d8-31dc-4430-f050-22b3969f1b58"
      },
      "execution_count": 2,
      "outputs": [
        {
          "output_type": "stream",
          "name": "stdout",
          "text": [
            "Collecting pyvi\n",
            "  Downloading pyvi-0.1.1-py2.py3-none-any.whl (8.5 MB)\n",
            "\u001b[2K     \u001b[90m━━━━━━━━━━━━━━━━━━━━━━━━━━━━━━━━━━━━━━━━\u001b[0m \u001b[32m8.5/8.5 MB\u001b[0m \u001b[31m64.1 MB/s\u001b[0m eta \u001b[36m0:00:00\u001b[0m\n",
            "\u001b[?25hRequirement already satisfied: scikit-learn in /usr/local/lib/python3.10/dist-packages (from pyvi) (1.2.2)\n",
            "Collecting sklearn-crfsuite (from pyvi)\n",
            "  Downloading sklearn_crfsuite-0.3.6-py2.py3-none-any.whl (12 kB)\n",
            "Requirement already satisfied: numpy>=1.17.3 in /usr/local/lib/python3.10/dist-packages (from scikit-learn->pyvi) (1.23.5)\n",
            "Requirement already satisfied: scipy>=1.3.2 in /usr/local/lib/python3.10/dist-packages (from scikit-learn->pyvi) (1.11.4)\n",
            "Requirement already satisfied: joblib>=1.1.1 in /usr/local/lib/python3.10/dist-packages (from scikit-learn->pyvi) (1.3.2)\n",
            "Requirement already satisfied: threadpoolctl>=2.0.0 in /usr/local/lib/python3.10/dist-packages (from scikit-learn->pyvi) (3.2.0)\n",
            "Collecting python-crfsuite>=0.8.3 (from sklearn-crfsuite->pyvi)\n",
            "  Downloading python_crfsuite-0.9.10-cp310-cp310-manylinux_2_17_x86_64.manylinux2014_x86_64.whl (1.1 MB)\n",
            "\u001b[2K     \u001b[90m━━━━━━━━━━━━━━━━━━━━━━━━━━━━━━━━━━━━━━━━\u001b[0m \u001b[32m1.1/1.1 MB\u001b[0m \u001b[31m78.1 MB/s\u001b[0m eta \u001b[36m0:00:00\u001b[0m\n",
            "\u001b[?25hRequirement already satisfied: six in /usr/local/lib/python3.10/dist-packages (from sklearn-crfsuite->pyvi) (1.16.0)\n",
            "Requirement already satisfied: tabulate in /usr/local/lib/python3.10/dist-packages (from sklearn-crfsuite->pyvi) (0.9.0)\n",
            "Requirement already satisfied: tqdm>=2.0 in /usr/local/lib/python3.10/dist-packages (from sklearn-crfsuite->pyvi) (4.66.1)\n",
            "Installing collected packages: python-crfsuite, sklearn-crfsuite, pyvi\n",
            "Successfully installed python-crfsuite-0.9.10 pyvi-0.1.1 sklearn-crfsuite-0.3.6\n"
          ]
        }
      ]
    },
    {
      "cell_type": "markdown",
      "source": [
        "## Import libraries"
      ],
      "metadata": {
        "id": "StKObUYmu2QG"
      }
    },
    {
      "cell_type": "code",
      "source": [
        "import re\n",
        "import ast\n",
        "import math\n",
        "import numpy as np\n",
        "import pandas as pd\n",
        "import torch\n",
        "import torch.nn as nn\n",
        "from tqdm import tqdm\n",
        "import torch.optim as optim\n",
        "from torch.optim import Adam\n",
        "from torchtext.transforms import ToTensor\n",
        "from torch.utils.data import Dataset, DataLoader\n",
        "from pyvi import ViTokenizer"
      ],
      "metadata": {
        "id": "LsIy8pyGiRkt"
      },
      "execution_count": 3,
      "outputs": []
    },
    {
      "cell_type": "markdown",
      "source": [
        "# pre-processing"
      ],
      "metadata": {
        "id": "xYoo07Zj8QFj"
      }
    },
    {
      "cell_type": "code",
      "source": [
        "def normalize(text):\n",
        "    t = text.replace('\\n', ' ')\n",
        "    t = t.lower()\n",
        "    return t\n",
        "\n",
        "def delete_hashtag(text):\n",
        "    return re.sub(r'#\\w+', '', text)\n",
        "\n",
        "def delete_link(text):\n",
        "    return re.sub(r'http\\S+', '', text)\n",
        "\n",
        "def remove_emojis(text):\n",
        "    emoj = re.compile(r\"\"\"[\\U0001F600-\\U0001F64F\\U0001F300-\\U0001F5FF\\U0001F680-\\U0001F6FF\\U0001F1E0-\\U0001F1FF\\U00002702-\\U000027B0\\U000024C2-\\U0001F251\\U0001f926-\\U0001f937\\U00010000-\\U0010ffff\\u200d\\u23cf\\u23e9\\u231a\\ufe0f\\u3030-]+(?<!\\n)\"\"\", re.UNICODE)\n",
        "    return re.sub(emoj, '', text)\n",
        "\n",
        "def encode_number(text):\n",
        "    t = text.split(' ')\n",
        "    t = map(lambda x: '<number>' if bool(re.match(r'^[0-9]+(\\.[0-9]+)?$', x)) else x, t)\n",
        "    return ' '.join(t)\n",
        "\n",
        "def delete_onelen_token(text):\n",
        "    t = text.split(' ')\n",
        "    t = filter(lambda x: len(x)>1, t)\n",
        "    return ' '.join(t)\n",
        "\n",
        "def preprocessing(text):\n",
        "    t = normalize(text)\n",
        "    t = delete_hashtag(t)\n",
        "    t = delete_link(t)\n",
        "    t = remove_emojis(t)\n",
        "    t = ViTokenizer.tokenize(t)\n",
        "    t = encode_number(t)\n",
        "    t = delete_onelen_token(t)\n",
        "    return t"
      ],
      "metadata": {
        "id": "n5dyW92A8IQJ"
      },
      "execution_count": 4,
      "outputs": []
    },
    {
      "cell_type": "markdown",
      "source": [
        "#Model and Training"
      ],
      "metadata": {
        "id": "jyVQgwEt8ZI3"
      }
    },
    {
      "cell_type": "code",
      "source": [
        "%cd /content/drive/MyDrive/CS114"
      ],
      "metadata": {
        "colab": {
          "base_uri": "https://localhost:8080/"
        },
        "id": "f-QKWrCn85R-",
        "outputId": "a59ec39c-e8cd-4711-9768-eb4114667215"
      },
      "execution_count": 5,
      "outputs": [
        {
          "output_type": "stream",
          "name": "stdout",
          "text": [
            "/content/drive/.shortcut-targets-by-id/1Y8ECOyKvn31ywCsUN8dtq1YwMiMpEqep/CS114\n"
          ]
        }
      ]
    },
    {
      "cell_type": "markdown",
      "source": [
        "## Define class dataset"
      ],
      "metadata": {
        "id": "PSK34vy28oyy"
      }
    },
    {
      "cell_type": "code",
      "source": [
        "class HashTag_Dataset(Dataset):\n",
        "  def __init__(self, root, max_length=250):\n",
        "    super(HashTag_Dataset, self).__init__()\n",
        "    self.classes = ['#Q&A', '#cv', '#data', '#deep_learning', '#machine_learning', '#math', '#nlp', '#python', '#sharing']\n",
        "    text, labels = [], []\n",
        "\n",
        "    df = pd.read_csv(root, encoding='utf-8-sig')\n",
        "    texts = df['text']\n",
        "    labels = df[\"label\"]\n",
        "    self.texts = texts\n",
        "    self.labels = labels\n",
        "    self.vocab = self.make_vocab(texts)\n",
        "    self.max_length = max_length\n",
        "  def make_vocab(self, texts):\n",
        "    vocab = dict()\n",
        "    for text in texts:\n",
        "      words = text.split()\n",
        "      for word in words:\n",
        "        if word not in vocab:\n",
        "          vocab[word] = 1\n",
        "        else:\n",
        "          vocab[word] += 1\n",
        "    vocab = list(dict(filter(lambda x: x[1]>3, vocab.items())).keys())\n",
        "    vocab.append('<UNK>')\n",
        "    vocab.append('<PAD>')\n",
        "    return vocab\n",
        "  def encode_text(self, text):\n",
        "    words = text.split()\n",
        "    if len(words) > self.max_length:\n",
        "      words = words[:self.max_length]\n",
        "    else:\n",
        "      words += ['<PAD>']*(self.max_length-len(words))\n",
        "    enc = [self.vocab.index(w) if w in self.vocab else self.vocab.index('<UNK>') for w in words]\n",
        "    return enc\n",
        "  def encode_label(self, label):\n",
        "    enc = ast.literal_eval(label)\n",
        "    enc = [1 if l in enc else 0 for l in self.classes]\n",
        "    return enc\n",
        "  def __len__(self):\n",
        "    return len(self.labels)\n",
        "\n",
        "  def len_vocab(self):\n",
        "    return len(self.vocab)\n",
        "\n",
        "  def num_classes(self):\n",
        "    return len(self.classes)\n",
        "\n",
        "  def __getitem__(self, idx):\n",
        "    text = self.texts[idx]\n",
        "    label = self.labels[idx]\n",
        "    encode = self.encode_text(text)\n",
        "    label = self.encode_label(label)\n",
        "    encode = torch.tensor(encode, dtype=torch.long)\n",
        "    label = torch.tensor(label, dtype=torch.float32)\n",
        "    return encode, label"
      ],
      "metadata": {
        "id": "wvvOIVml8awq"
      },
      "execution_count": 6,
      "outputs": []
    },
    {
      "cell_type": "markdown",
      "source": [
        "## Create the model"
      ],
      "metadata": {
        "id": "e9aQW8j-vjmN"
      }
    },
    {
      "cell_type": "code",
      "source": [
        "class HashtagRecommendation(nn.Module):\n",
        "  def __init__(self, embedding_dim, hidden_dim, vocab_size, num_labels):\n",
        "    super(HashtagRecommendation, self).__init__()\n",
        "    self.word_embeddings = nn.Embedding(vocab_size, embedding_dim)\n",
        "    self.gru = nn.GRU(embedding_dim, hidden_dim, batch_first=True)\n",
        "    self.fc1 = nn.Linear(hidden_dim, 128)\n",
        "    self.fc2 = nn.Linear(128, 64)\n",
        "    self.fc3 = nn.Linear(64, num_labels)\n",
        "    self.relu = nn.ReLU()\n",
        "    self.sigmoid = nn.Sigmoid()\n",
        "    self.dropout = nn.Dropout(p=0.2)\n",
        "\n",
        "  def forward(self, sentence):\n",
        "    embeds = self.word_embeddings(sentence)\n",
        "    gru_out, _ = self.gru(embeds)\n",
        "    # Select the last output of GRU layer\n",
        "    gru_out = gru_out[:, -1, :]\n",
        "    x = self.relu(self.fc1(gru_out))\n",
        "    x = self.dropout(x)\n",
        "    x = self.relu(self.fc2(x))\n",
        "    x = self.dropout(x)\n",
        "    logits = self.fc3(x)\n",
        "    probs = self.sigmoid(logits)\n",
        "    return probs"
      ],
      "metadata": {
        "id": "xyAD52AnEpmV"
      },
      "execution_count": 7,
      "outputs": []
    },
    {
      "cell_type": "markdown",
      "source": [
        "# Training"
      ],
      "metadata": {
        "id": "3g2P0MKrH_bt"
      }
    },
    {
      "cell_type": "code",
      "source": [
        "def accuracy(y_true, y_pred):\n",
        "    temp = 0\n",
        "    for i in range(y_true.shape[0]):\n",
        "        temp += sum(np.logical_and(y_true[i], y_pred[i])) / sum(np.logical_or(y_true[i], y_pred[i]))\n",
        "    return temp / y_true.shape[0]"
      ],
      "metadata": {
        "id": "_Qbkx7B0qwUc"
      },
      "execution_count": 8,
      "outputs": []
    },
    {
      "cell_type": "code",
      "source": [
        "train_set = HashTag_Dataset(root = \"train_data.csv\")\n",
        "test_set = HashTag_Dataset(root = \"test_data.csv\")\n",
        "test_loader = DataLoader(test_set, batch_size=2)\n",
        "train_loader = DataLoader(train_set, batch_size=4, shuffle=True, num_workers=2, drop_last=True)\n",
        "if torch.cuda.is_available():\n",
        "    device = 'cuda'\n",
        "else:\n",
        "    device = 'cpu'\n",
        "num_epochs = 250"
      ],
      "metadata": {
        "id": "jyL5Zt_cH-4v"
      },
      "execution_count": 9,
      "outputs": []
    },
    {
      "cell_type": "code",
      "source": [
        "model = HashtagRecommendation(embedding_dim=100,hidden_dim=256,num_labels=train_set.num_classes(), vocab_size=train_set.len_vocab())\n",
        "model = model.to(device)\n",
        "criterion = nn.BCELoss()\n",
        "optimizer = Adam(model.parameters(), lr=0.0001)\n",
        "num_iters = len(train_loader)"
      ],
      "metadata": {
        "id": "vMQVkmd3IFoo"
      },
      "execution_count": 10,
      "outputs": []
    },
    {
      "cell_type": "code",
      "source": [
        "best_acc = 0\n",
        "\n",
        "for epoch in range(num_epochs):\n",
        "    model.train()\n",
        "    progress_bar = tqdm(train_loader, colour='green')\n",
        "\n",
        "    for iter, (texts, labels) in enumerate(progress_bar):\n",
        "        texts = texts.to(device)\n",
        "        labels = labels.to(dtype=torch.float).to(device)\n",
        "\n",
        "        # forward\n",
        "        outputs = model(texts)\n",
        "        loss_value = criterion(outputs, labels)  # Assuming your model has a single output node\n",
        "        progress_bar.set_description(\"Epoch {}/{}. Iteration {}/{}. Loss {:.5f}\".format(epoch+1, num_epochs, iter+1, num_iters, loss_value.item()))\n",
        "\n",
        "        # backward\n",
        "        optimizer.zero_grad()\n",
        "        loss_value.backward()\n",
        "        optimizer.step()\n",
        "\n",
        "    # evaluate\n",
        "    model.eval()\n",
        "    y_true = []\n",
        "    y_pred = []\n",
        "\n",
        "    with torch.no_grad():\n",
        "        for iter, (texts, labels) in enumerate(progress_bar):\n",
        "            texts = texts.to(device)\n",
        "            labels = labels.to(dtype=torch.float).to(device)\n",
        "            outputs = np.array(model(texts).tolist())\n",
        "            y_pred.extend((outputs >= 0.5).astype(np.float32))\n",
        "            y_true.extend(labels.cpu().numpy())\n",
        "\n",
        "    y_true = np.array(y_true)\n",
        "    y_pred = np.array(y_pred)\n",
        "    acc = accuracy(y_true, y_pred)\n",
        "\n",
        "    print(f\"Accuracy: {acc}\")\n",
        "\n",
        "    if acc > best_acc:\n",
        "        best_acc = acc\n",
        "        torch.save(model, '/content/drive/MyDrive/CS114/best_model.pth')"
      ],
      "metadata": {
        "colab": {
          "base_uri": "https://localhost:8080/"
        },
        "id": "nfr0y9ojINq2",
        "outputId": "faed44c2-781c-415d-e025-9d62a5c01086"
      },
      "execution_count": 12,
      "outputs": [
        {
          "output_type": "stream",
          "name": "stderr",
          "text": [
            "Epoch 1/250. Iteration 262/262. Loss 0.30729: 100%|\u001b[32m██████████\u001b[0m| 262/262 [00:17<00:00, 14.89it/s]\n"
          ]
        },
        {
          "output_type": "stream",
          "name": "stdout",
          "text": [
            "Accuracy: 0.3652989821882948\n"
          ]
        },
        {
          "output_type": "stream",
          "name": "stderr",
          "text": [
            "Epoch 2/250. Iteration 262/262. Loss 0.45523: 100%|\u001b[32m██████████\u001b[0m| 262/262 [00:16<00:00, 15.44it/s]\n"
          ]
        },
        {
          "output_type": "stream",
          "name": "stdout",
          "text": [
            "Accuracy: 0.4973759541984724\n"
          ]
        },
        {
          "output_type": "stream",
          "name": "stderr",
          "text": [
            "Epoch 3/250. Iteration 262/262. Loss 0.45006: 100%|\u001b[32m██████████\u001b[0m| 262/262 [00:17<00:00, 15.30it/s]\n"
          ]
        },
        {
          "output_type": "stream",
          "name": "stdout",
          "text": [
            "Accuracy: 0.5054866412213733\n"
          ]
        },
        {
          "output_type": "stream",
          "name": "stderr",
          "text": [
            "Epoch 4/250. Iteration 262/262. Loss 0.53755: 100%|\u001b[32m██████████\u001b[0m| 262/262 [00:16<00:00, 15.56it/s]\n"
          ]
        },
        {
          "output_type": "stream",
          "name": "stdout",
          "text": [
            "Accuracy: 0.4770992366412206\n"
          ]
        },
        {
          "output_type": "stream",
          "name": "stderr",
          "text": [
            "Epoch 5/250. Iteration 262/262. Loss 0.32531: 100%|\u001b[32m██████████\u001b[0m| 262/262 [00:16<00:00, 15.61it/s]\n"
          ]
        },
        {
          "output_type": "stream",
          "name": "stdout",
          "text": [
            "Accuracy: 0.5467557251908391\n"
          ]
        },
        {
          "output_type": "stream",
          "name": "stderr",
          "text": [
            "Epoch 6/250. Iteration 262/262. Loss 0.30727: 100%|\u001b[32m██████████\u001b[0m| 262/262 [00:16<00:00, 15.70it/s]\n"
          ]
        },
        {
          "output_type": "stream",
          "name": "stdout",
          "text": [
            "Accuracy: 0.5648854961832058\n"
          ]
        },
        {
          "output_type": "stream",
          "name": "stderr",
          "text": [
            "Epoch 7/250. Iteration 262/262. Loss 0.30100: 100%|\u001b[32m██████████\u001b[0m| 262/262 [00:16<00:00, 15.73it/s]\n"
          ]
        },
        {
          "output_type": "stream",
          "name": "stdout",
          "text": [
            "Accuracy: 0.566157760814249\n"
          ]
        },
        {
          "output_type": "stream",
          "name": "stderr",
          "text": [
            "Epoch 8/250. Iteration 262/262. Loss 0.25564: 100%|\u001b[32m██████████\u001b[0m| 262/262 [00:16<00:00, 15.76it/s]\n"
          ]
        },
        {
          "output_type": "stream",
          "name": "stdout",
          "text": [
            "Accuracy: 0.5709287531806615\n"
          ]
        },
        {
          "output_type": "stream",
          "name": "stderr",
          "text": [
            "Epoch 9/250. Iteration 262/262. Loss 0.32242: 100%|\u001b[32m██████████\u001b[0m| 262/262 [00:16<00:00, 15.59it/s]\n"
          ]
        },
        {
          "output_type": "stream",
          "name": "stdout",
          "text": [
            "Accuracy: 0.5760178117048343\n"
          ]
        },
        {
          "output_type": "stream",
          "name": "stderr",
          "text": [
            "Epoch 10/250. Iteration 262/262. Loss 0.43426: 100%|\u001b[32m██████████\u001b[0m| 262/262 [00:16<00:00, 15.98it/s]\n"
          ]
        },
        {
          "output_type": "stream",
          "name": "stdout",
          "text": [
            "Accuracy: 0.5815839694656486\n"
          ]
        },
        {
          "output_type": "stream",
          "name": "stderr",
          "text": [
            "Epoch 11/250. Iteration 262/262. Loss 0.34762: 100%|\u001b[32m██████████\u001b[0m| 262/262 [00:16<00:00, 15.82it/s]\n"
          ]
        },
        {
          "output_type": "stream",
          "name": "stdout",
          "text": [
            "Accuracy: 0.5855597964376589\n"
          ]
        },
        {
          "output_type": "stream",
          "name": "stderr",
          "text": [
            "Epoch 12/250. Iteration 262/262. Loss 0.24668: 100%|\u001b[32m██████████\u001b[0m| 262/262 [00:17<00:00, 15.36it/s]\n"
          ]
        },
        {
          "output_type": "stream",
          "name": "stdout",
          "text": [
            "Accuracy: 0.5830152671755723\n"
          ]
        },
        {
          "output_type": "stream",
          "name": "stderr",
          "text": [
            "Epoch 13/250. Iteration 262/262. Loss 0.20848: 100%|\u001b[32m██████████\u001b[0m| 262/262 [00:16<00:00, 15.47it/s]\n"
          ]
        },
        {
          "output_type": "stream",
          "name": "stdout",
          "text": [
            "Accuracy: 0.5760178117048341\n"
          ]
        },
        {
          "output_type": "stream",
          "name": "stderr",
          "text": [
            "Epoch 14/250. Iteration 262/262. Loss 0.41686: 100%|\u001b[32m██████████\u001b[0m| 262/262 [00:16<00:00, 15.72it/s]\n"
          ]
        },
        {
          "output_type": "stream",
          "name": "stdout",
          "text": [
            "Accuracy: 0.5879452926208656\n"
          ]
        },
        {
          "output_type": "stream",
          "name": "stderr",
          "text": [
            "Epoch 15/250. Iteration 262/262. Loss 0.31108: 100%|\u001b[32m██████████\u001b[0m| 262/262 [00:16<00:00, 15.70it/s]\n"
          ]
        },
        {
          "output_type": "stream",
          "name": "stdout",
          "text": [
            "Accuracy: 0.5854007633587786\n"
          ]
        },
        {
          "output_type": "stream",
          "name": "stderr",
          "text": [
            "Epoch 16/250. Iteration 262/262. Loss 0.26594: 100%|\u001b[32m██████████\u001b[0m| 262/262 [00:16<00:00, 15.68it/s]\n"
          ]
        },
        {
          "output_type": "stream",
          "name": "stdout",
          "text": [
            "Accuracy: 0.5831743002544528\n"
          ]
        },
        {
          "output_type": "stream",
          "name": "stderr",
          "text": [
            "Epoch 17/250. Iteration 262/262. Loss 0.51067: 100%|\u001b[32m██████████\u001b[0m| 262/262 [00:16<00:00, 15.60it/s]\n"
          ]
        },
        {
          "output_type": "stream",
          "name": "stdout",
          "text": [
            "Accuracy: 0.586673027989822\n"
          ]
        },
        {
          "output_type": "stream",
          "name": "stderr",
          "text": [
            "Epoch 18/250. Iteration 262/262. Loss 0.33523: 100%|\u001b[32m██████████\u001b[0m| 262/262 [00:17<00:00, 15.38it/s]\n"
          ]
        },
        {
          "output_type": "stream",
          "name": "stdout",
          "text": [
            "Accuracy: 0.5888994910941472\n"
          ]
        },
        {
          "output_type": "stream",
          "name": "stderr",
          "text": [
            "Epoch 19/250. Iteration 262/262. Loss 0.30995: 100%|\u001b[32m██████████\u001b[0m| 262/262 [00:16<00:00, 15.60it/s]\n"
          ]
        },
        {
          "output_type": "stream",
          "name": "stdout",
          "text": [
            "Accuracy: 0.5925572519083968\n"
          ]
        },
        {
          "output_type": "stream",
          "name": "stderr",
          "text": [
            "Epoch 20/250. Iteration 262/262. Loss 0.29108: 100%|\u001b[32m██████████\u001b[0m| 262/262 [00:17<00:00, 15.21it/s]\n"
          ]
        },
        {
          "output_type": "stream",
          "name": "stdout",
          "text": [
            "Accuracy: 0.5944656488549619\n"
          ]
        },
        {
          "output_type": "stream",
          "name": "stderr",
          "text": [
            "Epoch 21/250. Iteration 262/262. Loss 0.36773: 100%|\u001b[32m██████████\u001b[0m| 262/262 [00:16<00:00, 15.77it/s]\n"
          ]
        },
        {
          "output_type": "stream",
          "name": "stdout",
          "text": [
            "Accuracy: 0.5930343511450383\n"
          ]
        },
        {
          "output_type": "stream",
          "name": "stderr",
          "text": [
            "Epoch 22/250. Iteration 262/262. Loss 0.29299: 100%|\u001b[32m██████████\u001b[0m| 262/262 [00:16<00:00, 15.86it/s]\n"
          ]
        },
        {
          "output_type": "stream",
          "name": "stdout",
          "text": [
            "Accuracy: 0.5954198473282446\n"
          ]
        },
        {
          "output_type": "stream",
          "name": "stderr",
          "text": [
            "Epoch 23/250. Iteration 262/262. Loss 0.41159: 100%|\u001b[32m██████████\u001b[0m| 262/262 [00:16<00:00, 15.81it/s]\n"
          ]
        },
        {
          "output_type": "stream",
          "name": "stdout",
          "text": [
            "Accuracy: 0.575858778625954\n"
          ]
        },
        {
          "output_type": "stream",
          "name": "stderr",
          "text": [
            "Epoch 24/250. Iteration 262/262. Loss 0.25556: 100%|\u001b[32m██████████\u001b[0m| 262/262 [00:16<00:00, 15.73it/s]\n"
          ]
        },
        {
          "output_type": "stream",
          "name": "stdout",
          "text": [
            "Accuracy: 0.5930343511450377\n"
          ]
        },
        {
          "output_type": "stream",
          "name": "stderr",
          "text": [
            "Epoch 25/250. Iteration 262/262. Loss 0.20133: 100%|\u001b[32m██████████\u001b[0m| 262/262 [00:16<00:00, 15.68it/s]\n"
          ]
        },
        {
          "output_type": "stream",
          "name": "stdout",
          "text": [
            "Accuracy: 0.5949427480916031\n"
          ]
        },
        {
          "output_type": "stream",
          "name": "stderr",
          "text": [
            "Epoch 26/250. Iteration 262/262. Loss 0.29541: 100%|\u001b[32m██████████\u001b[0m| 262/262 [00:17<00:00, 15.33it/s]\n"
          ]
        },
        {
          "output_type": "stream",
          "name": "stdout",
          "text": [
            "Accuracy: 0.5963740458015266\n"
          ]
        },
        {
          "output_type": "stream",
          "name": "stderr",
          "text": [
            "Epoch 27/250. Iteration 262/262. Loss 0.29249: 100%|\u001b[32m██████████\u001b[0m| 262/262 [00:16<00:00, 15.46it/s]\n"
          ]
        },
        {
          "output_type": "stream",
          "name": "stdout",
          "text": [
            "Accuracy: 0.5951017811704836\n"
          ]
        },
        {
          "output_type": "stream",
          "name": "stderr",
          "text": [
            "Epoch 28/250. Iteration 262/262. Loss 0.42033: 100%|\u001b[32m██████████\u001b[0m| 262/262 [00:16<00:00, 15.49it/s]\n"
          ]
        },
        {
          "output_type": "stream",
          "name": "stdout",
          "text": [
            "Accuracy: 0.5954198473282444\n"
          ]
        },
        {
          "output_type": "stream",
          "name": "stderr",
          "text": [
            "Epoch 29/250. Iteration 262/262. Loss 0.27097: 100%|\u001b[32m██████████\u001b[0m| 262/262 [00:16<00:00, 15.49it/s]\n"
          ]
        },
        {
          "output_type": "stream",
          "name": "stdout",
          "text": [
            "Accuracy: 0.5978053435114504\n"
          ]
        },
        {
          "output_type": "stream",
          "name": "stderr",
          "text": [
            "Epoch 30/250. Iteration 262/262. Loss 0.37332: 100%|\u001b[32m██████████\u001b[0m| 262/262 [00:16<00:00, 15.74it/s]\n"
          ]
        },
        {
          "output_type": "stream",
          "name": "stdout",
          "text": [
            "Accuracy: 0.5982824427480916\n"
          ]
        },
        {
          "output_type": "stream",
          "name": "stderr",
          "text": [
            "Epoch 31/250. Iteration 262/262. Loss 0.26466: 100%|\u001b[32m██████████\u001b[0m| 262/262 [00:16<00:00, 15.73it/s]\n"
          ]
        },
        {
          "output_type": "stream",
          "name": "stdout",
          "text": [
            "Accuracy: 0.5973282442748092\n"
          ]
        },
        {
          "output_type": "stream",
          "name": "stderr",
          "text": [
            "Epoch 32/250. Iteration 262/262. Loss 0.29544: 100%|\u001b[32m██████████\u001b[0m| 262/262 [00:16<00:00, 15.93it/s]\n"
          ]
        },
        {
          "output_type": "stream",
          "name": "stdout",
          "text": [
            "Accuracy: 0.5972487277353693\n"
          ]
        },
        {
          "output_type": "stream",
          "name": "stderr",
          "text": [
            "Epoch 33/250. Iteration 262/262. Loss 0.24729: 100%|\u001b[32m██████████\u001b[0m| 262/262 [00:16<00:00, 15.77it/s]\n"
          ]
        },
        {
          "output_type": "stream",
          "name": "stdout",
          "text": [
            "Accuracy: 0.6016221374045805\n"
          ]
        },
        {
          "output_type": "stream",
          "name": "stderr",
          "text": [
            "Epoch 34/250. Iteration 262/262. Loss 0.44004: 100%|\u001b[32m██████████\u001b[0m| 262/262 [00:16<00:00, 15.57it/s]\n"
          ]
        },
        {
          "output_type": "stream",
          "name": "stdout",
          "text": [
            "Accuracy: 0.6025763358778629\n"
          ]
        },
        {
          "output_type": "stream",
          "name": "stderr",
          "text": [
            "Epoch 35/250. Iteration 262/262. Loss 0.21743: 100%|\u001b[32m██████████\u001b[0m| 262/262 [00:16<00:00, 15.70it/s]\n"
          ]
        },
        {
          "output_type": "stream",
          "name": "stdout",
          "text": [
            "Accuracy: 0.6020992366412213\n"
          ]
        },
        {
          "output_type": "stream",
          "name": "stderr",
          "text": [
            "Epoch 36/250. Iteration 262/262. Loss 0.14947: 100%|\u001b[32m██████████\u001b[0m| 262/262 [00:16<00:00, 15.75it/s]\n"
          ]
        },
        {
          "output_type": "stream",
          "name": "stdout",
          "text": [
            "Accuracy: 0.6020992366412217\n"
          ]
        },
        {
          "output_type": "stream",
          "name": "stderr",
          "text": [
            "Epoch 37/250. Iteration 262/262. Loss 0.29458: 100%|\u001b[32m██████████\u001b[0m| 262/262 [00:16<00:00, 15.54it/s]\n"
          ]
        },
        {
          "output_type": "stream",
          "name": "stdout",
          "text": [
            "Accuracy: 0.6016221374045799\n"
          ]
        },
        {
          "output_type": "stream",
          "name": "stderr",
          "text": [
            "Epoch 38/250. Iteration 262/262. Loss 0.37161: 100%|\u001b[32m██████████\u001b[0m| 262/262 [00:16<00:00, 15.69it/s]\n"
          ]
        },
        {
          "output_type": "stream",
          "name": "stdout",
          "text": [
            "Accuracy: 0.60543893129771\n"
          ]
        },
        {
          "output_type": "stream",
          "name": "stderr",
          "text": [
            "Epoch 39/250. Iteration 262/262. Loss 0.18652: 100%|\u001b[32m██████████\u001b[0m| 262/262 [00:16<00:00, 15.59it/s]\n"
          ]
        },
        {
          "output_type": "stream",
          "name": "stdout",
          "text": [
            "Accuracy: 0.6059160305343518\n"
          ]
        },
        {
          "output_type": "stream",
          "name": "stderr",
          "text": [
            "Epoch 40/250. Iteration 262/262. Loss 0.25152: 100%|\u001b[32m██████████\u001b[0m| 262/262 [00:16<00:00, 15.42it/s]\n"
          ]
        },
        {
          "output_type": "stream",
          "name": "stdout",
          "text": [
            "Accuracy: 0.6025763358778626\n"
          ]
        },
        {
          "output_type": "stream",
          "name": "stderr",
          "text": [
            "Epoch 41/250. Iteration 262/262. Loss 0.41349: 100%|\u001b[32m██████████\u001b[0m| 262/262 [00:17<00:00, 14.77it/s]\n"
          ]
        },
        {
          "output_type": "stream",
          "name": "stdout",
          "text": [
            "Accuracy: 0.6063931297709926\n"
          ]
        },
        {
          "output_type": "stream",
          "name": "stderr",
          "text": [
            "Epoch 42/250. Iteration 262/262. Loss 0.31307: 100%|\u001b[32m██████████\u001b[0m| 262/262 [00:17<00:00, 15.11it/s]\n"
          ]
        },
        {
          "output_type": "stream",
          "name": "stdout",
          "text": [
            "Accuracy: 0.6059160305343514\n"
          ]
        },
        {
          "output_type": "stream",
          "name": "stderr",
          "text": [
            "Epoch 43/250. Iteration 262/262. Loss 0.29948: 100%|\u001b[32m██████████\u001b[0m| 262/262 [00:16<00:00, 15.72it/s]\n"
          ]
        },
        {
          "output_type": "stream",
          "name": "stdout",
          "text": [
            "Accuracy: 0.6059160305343518\n"
          ]
        },
        {
          "output_type": "stream",
          "name": "stderr",
          "text": [
            "Epoch 44/250. Iteration 262/262. Loss 0.22681: 100%|\u001b[32m██████████\u001b[0m| 262/262 [00:16<00:00, 15.51it/s]\n"
          ]
        },
        {
          "output_type": "stream",
          "name": "stdout",
          "text": [
            "Accuracy: 0.6035305343511452\n"
          ]
        },
        {
          "output_type": "stream",
          "name": "stderr",
          "text": [
            "Epoch 45/250. Iteration 262/262. Loss 0.68876: 100%|\u001b[32m██████████\u001b[0m| 262/262 [00:16<00:00, 15.67it/s]\n"
          ]
        },
        {
          "output_type": "stream",
          "name": "stdout",
          "text": [
            "Accuracy: 0.60559796437659\n"
          ]
        },
        {
          "output_type": "stream",
          "name": "stderr",
          "text": [
            "Epoch 46/250. Iteration 262/262. Loss 0.20284: 100%|\u001b[32m██████████\u001b[0m| 262/262 [00:16<00:00, 15.61it/s]\n"
          ]
        },
        {
          "output_type": "stream",
          "name": "stdout",
          "text": [
            "Accuracy: 0.6054389312977099\n"
          ]
        },
        {
          "output_type": "stream",
          "name": "stderr",
          "text": [
            "Epoch 47/250. Iteration 262/262. Loss 0.48941: 100%|\u001b[32m██████████\u001b[0m| 262/262 [00:16<00:00, 15.57it/s]\n"
          ]
        },
        {
          "output_type": "stream",
          "name": "stdout",
          "text": [
            "Accuracy: 0.60543893129771\n"
          ]
        },
        {
          "output_type": "stream",
          "name": "stderr",
          "text": [
            "Epoch 48/250. Iteration 262/262. Loss 0.32796: 100%|\u001b[32m██████████\u001b[0m| 262/262 [00:16<00:00, 15.55it/s]\n"
          ]
        },
        {
          "output_type": "stream",
          "name": "stdout",
          "text": [
            "Accuracy: 0.6054389312977101\n"
          ]
        },
        {
          "output_type": "stream",
          "name": "stderr",
          "text": [
            "Epoch 49/250. Iteration 262/262. Loss 0.25753: 100%|\u001b[32m██████████\u001b[0m| 262/262 [00:17<00:00, 14.65it/s]\n"
          ]
        },
        {
          "output_type": "stream",
          "name": "stdout",
          "text": [
            "Accuracy: 0.6011450381679393\n"
          ]
        },
        {
          "output_type": "stream",
          "name": "stderr",
          "text": [
            "Epoch 50/250. Iteration 262/262. Loss 0.33112: 100%|\u001b[32m██████████\u001b[0m| 262/262 [00:16<00:00, 15.63it/s]\n"
          ]
        },
        {
          "output_type": "stream",
          "name": "stdout",
          "text": [
            "Accuracy: 0.6059160305343516\n"
          ]
        },
        {
          "output_type": "stream",
          "name": "stderr",
          "text": [
            "Epoch 51/250. Iteration 262/262. Loss 0.20917: 100%|\u001b[32m██████████\u001b[0m| 262/262 [00:19<00:00, 13.17it/s]\n"
          ]
        },
        {
          "output_type": "stream",
          "name": "stdout",
          "text": [
            "Accuracy: 0.6059160305343508\n"
          ]
        },
        {
          "output_type": "stream",
          "name": "stderr",
          "text": [
            "Epoch 52/250. Iteration 262/262. Loss 0.42895: 100%|\u001b[32m██████████\u001b[0m| 262/262 [00:16<00:00, 15.69it/s]\n"
          ]
        },
        {
          "output_type": "stream",
          "name": "stdout",
          "text": [
            "Accuracy: 0.6059160305343516\n"
          ]
        },
        {
          "output_type": "stream",
          "name": "stderr",
          "text": [
            "Epoch 53/250. Iteration 262/262. Loss 0.24655: 100%|\u001b[32m██████████\u001b[0m| 262/262 [00:16<00:00, 15.70it/s]\n"
          ]
        },
        {
          "output_type": "stream",
          "name": "stdout",
          "text": [
            "Accuracy: 0.6059160305343515\n"
          ]
        },
        {
          "output_type": "stream",
          "name": "stderr",
          "text": [
            "Epoch 54/250. Iteration 262/262. Loss 0.28759: 100%|\u001b[32m██████████\u001b[0m| 262/262 [00:16<00:00, 15.54it/s]\n"
          ]
        },
        {
          "output_type": "stream",
          "name": "stdout",
          "text": [
            "Accuracy: 0.6059160305343514\n"
          ]
        },
        {
          "output_type": "stream",
          "name": "stderr",
          "text": [
            "Epoch 55/250. Iteration 262/262. Loss 0.44729: 100%|\u001b[32m██████████\u001b[0m| 262/262 [00:16<00:00, 15.71it/s]\n"
          ]
        },
        {
          "output_type": "stream",
          "name": "stdout",
          "text": [
            "Accuracy: 0.6059160305343507\n"
          ]
        },
        {
          "output_type": "stream",
          "name": "stderr",
          "text": [
            "Epoch 56/250. Iteration 262/262. Loss 0.25976: 100%|\u001b[32m██████████\u001b[0m| 262/262 [00:16<00:00, 15.61it/s]\n"
          ]
        },
        {
          "output_type": "stream",
          "name": "stdout",
          "text": [
            "Accuracy: 0.6059160305343515\n"
          ]
        },
        {
          "output_type": "stream",
          "name": "stderr",
          "text": [
            "Epoch 57/250. Iteration 262/262. Loss 0.20709: 100%|\u001b[32m██████████\u001b[0m| 262/262 [00:16<00:00, 15.82it/s]\n"
          ]
        },
        {
          "output_type": "stream",
          "name": "stdout",
          "text": [
            "Accuracy: 0.6059160305343512\n"
          ]
        },
        {
          "output_type": "stream",
          "name": "stderr",
          "text": [
            "Epoch 58/250. Iteration 262/262. Loss 0.31150: 100%|\u001b[32m██████████\u001b[0m| 262/262 [00:16<00:00, 15.68it/s]\n"
          ]
        },
        {
          "output_type": "stream",
          "name": "stdout",
          "text": [
            "Accuracy: 0.606870229007634\n"
          ]
        },
        {
          "output_type": "stream",
          "name": "stderr",
          "text": [
            "Epoch 59/250. Iteration 262/262. Loss 0.32740: 100%|\u001b[32m██████████\u001b[0m| 262/262 [00:16<00:00, 15.59it/s]\n"
          ]
        },
        {
          "output_type": "stream",
          "name": "stdout",
          "text": [
            "Accuracy: 0.6065521628498733\n"
          ]
        },
        {
          "output_type": "stream",
          "name": "stderr",
          "text": [
            "Epoch 60/250. Iteration 262/262. Loss 0.23226: 100%|\u001b[32m██████████\u001b[0m| 262/262 [00:16<00:00, 15.53it/s]\n"
          ]
        },
        {
          "output_type": "stream",
          "name": "stdout",
          "text": [
            "Accuracy: 0.6068702290076334\n"
          ]
        },
        {
          "output_type": "stream",
          "name": "stderr",
          "text": [
            "Epoch 61/250. Iteration 262/262. Loss 0.37990: 100%|\u001b[32m██████████\u001b[0m| 262/262 [00:16<00:00, 15.63it/s]\n"
          ]
        },
        {
          "output_type": "stream",
          "name": "stdout",
          "text": [
            "Accuracy: 0.6068702290076339\n"
          ]
        },
        {
          "output_type": "stream",
          "name": "stderr",
          "text": [
            "Epoch 62/250. Iteration 262/262. Loss 0.15699: 100%|\u001b[32m██████████\u001b[0m| 262/262 [00:16<00:00, 15.53it/s]\n"
          ]
        },
        {
          "output_type": "stream",
          "name": "stdout",
          "text": [
            "Accuracy: 0.6068702290076338\n"
          ]
        },
        {
          "output_type": "stream",
          "name": "stderr",
          "text": [
            "Epoch 63/250. Iteration 262/262. Loss 0.35557: 100%|\u001b[32m██████████\u001b[0m| 262/262 [00:16<00:00, 15.69it/s]\n"
          ]
        },
        {
          "output_type": "stream",
          "name": "stdout",
          "text": [
            "Accuracy: 0.603291984732825\n"
          ]
        },
        {
          "output_type": "stream",
          "name": "stderr",
          "text": [
            "Epoch 64/250. Iteration 262/262. Loss 0.24477: 100%|\u001b[32m██████████\u001b[0m| 262/262 [00:17<00:00, 15.35it/s]\n"
          ]
        },
        {
          "output_type": "stream",
          "name": "stdout",
          "text": [
            "Accuracy: 0.6059160305343516\n"
          ]
        },
        {
          "output_type": "stream",
          "name": "stderr",
          "text": [
            "Epoch 65/250. Iteration 262/262. Loss 0.64306: 100%|\u001b[32m██████████\u001b[0m| 262/262 [00:16<00:00, 15.62it/s]\n"
          ]
        },
        {
          "output_type": "stream",
          "name": "stdout",
          "text": [
            "Accuracy: 0.606870229007634\n"
          ]
        },
        {
          "output_type": "stream",
          "name": "stderr",
          "text": [
            "Epoch 66/250. Iteration 262/262. Loss 0.21283: 100%|\u001b[32m██████████\u001b[0m| 262/262 [00:16<00:00, 15.67it/s]\n"
          ]
        },
        {
          "output_type": "stream",
          "name": "stdout",
          "text": [
            "Accuracy: 0.6068702290076337\n"
          ]
        },
        {
          "output_type": "stream",
          "name": "stderr",
          "text": [
            "Epoch 67/250. Iteration 262/262. Loss 0.14580: 100%|\u001b[32m██████████\u001b[0m| 262/262 [00:16<00:00, 15.56it/s]\n"
          ]
        },
        {
          "output_type": "stream",
          "name": "stdout",
          "text": [
            "Accuracy: 0.6063931297709922\n"
          ]
        },
        {
          "output_type": "stream",
          "name": "stderr",
          "text": [
            "Epoch 68/250. Iteration 262/262. Loss 0.44874: 100%|\u001b[32m██████████\u001b[0m| 262/262 [00:16<00:00, 15.68it/s]\n"
          ]
        },
        {
          "output_type": "stream",
          "name": "stdout",
          "text": [
            "Accuracy: 0.6083015267175569\n"
          ]
        },
        {
          "output_type": "stream",
          "name": "stderr",
          "text": [
            "Epoch 69/250. Iteration 262/262. Loss 0.23791: 100%|\u001b[32m██████████\u001b[0m| 262/262 [00:16<00:00, 15.67it/s]\n"
          ]
        },
        {
          "output_type": "stream",
          "name": "stdout",
          "text": [
            "Accuracy: 0.6075063613231556\n"
          ]
        },
        {
          "output_type": "stream",
          "name": "stderr",
          "text": [
            "Epoch 70/250. Iteration 262/262. Loss 0.29594: 100%|\u001b[32m██████████\u001b[0m| 262/262 [00:16<00:00, 15.71it/s]\n"
          ]
        },
        {
          "output_type": "stream",
          "name": "stdout",
          "text": [
            "Accuracy: 0.6070292620865143\n"
          ]
        },
        {
          "output_type": "stream",
          "name": "stderr",
          "text": [
            "Epoch 71/250. Iteration 262/262. Loss 0.26217: 100%|\u001b[32m██████████\u001b[0m| 262/262 [00:16<00:00, 15.60it/s]\n"
          ]
        },
        {
          "output_type": "stream",
          "name": "stdout",
          "text": [
            "Accuracy: 0.6055184478371505\n"
          ]
        },
        {
          "output_type": "stream",
          "name": "stderr",
          "text": [
            "Epoch 72/250. Iteration 262/262. Loss 0.35729: 100%|\u001b[32m██████████\u001b[0m| 262/262 [00:16<00:00, 15.64it/s]\n"
          ]
        },
        {
          "output_type": "stream",
          "name": "stdout",
          "text": [
            "Accuracy: 0.6083015267175573\n"
          ]
        },
        {
          "output_type": "stream",
          "name": "stderr",
          "text": [
            "Epoch 73/250. Iteration 262/262. Loss 0.31404: 100%|\u001b[32m██████████\u001b[0m| 262/262 [00:16<00:00, 15.49it/s]\n"
          ]
        },
        {
          "output_type": "stream",
          "name": "stdout",
          "text": [
            "Accuracy: 0.608301526717557\n"
          ]
        },
        {
          "output_type": "stream",
          "name": "stderr",
          "text": [
            "Epoch 74/250. Iteration 262/262. Loss 0.37804: 100%|\u001b[32m██████████\u001b[0m| 262/262 [00:17<00:00, 15.38it/s]\n"
          ]
        },
        {
          "output_type": "stream",
          "name": "stdout",
          "text": [
            "Accuracy: 0.6083015267175571\n"
          ]
        },
        {
          "output_type": "stream",
          "name": "stderr",
          "text": [
            "Epoch 75/250. Iteration 262/262. Loss 0.16844: 100%|\u001b[32m██████████\u001b[0m| 262/262 [00:16<00:00, 15.68it/s]\n"
          ]
        },
        {
          "output_type": "stream",
          "name": "stdout",
          "text": [
            "Accuracy: 0.6073473282442746\n"
          ]
        },
        {
          "output_type": "stream",
          "name": "stderr",
          "text": [
            "Epoch 76/250. Iteration 262/262. Loss 0.37533: 100%|\u001b[32m██████████\u001b[0m| 262/262 [00:16<00:00, 15.55it/s]\n"
          ]
        },
        {
          "output_type": "stream",
          "name": "stdout",
          "text": [
            "Accuracy: 0.607824427480916\n"
          ]
        },
        {
          "output_type": "stream",
          "name": "stderr",
          "text": [
            "Epoch 77/250. Iteration 262/262. Loss 0.35913: 100%|\u001b[32m██████████\u001b[0m| 262/262 [00:16<00:00, 15.64it/s]\n"
          ]
        },
        {
          "output_type": "stream",
          "name": "stdout",
          "text": [
            "Accuracy: 0.607824427480916\n"
          ]
        },
        {
          "output_type": "stream",
          "name": "stderr",
          "text": [
            "Epoch 78/250. Iteration 262/262. Loss 0.32438: 100%|\u001b[32m██████████\u001b[0m| 262/262 [00:16<00:00, 15.65it/s]\n"
          ]
        },
        {
          "output_type": "stream",
          "name": "stdout",
          "text": [
            "Accuracy: 0.6048027989821887\n"
          ]
        },
        {
          "output_type": "stream",
          "name": "stderr",
          "text": [
            "Epoch 79/250. Iteration 262/262. Loss 0.14107: 100%|\u001b[32m██████████\u001b[0m| 262/262 [00:16<00:00, 15.59it/s]\n"
          ]
        },
        {
          "output_type": "stream",
          "name": "stdout",
          "text": [
            "Accuracy: 0.6073473282442752\n"
          ]
        },
        {
          "output_type": "stream",
          "name": "stderr",
          "text": [
            "Epoch 80/250. Iteration 262/262. Loss 0.22017: 100%|\u001b[32m██████████\u001b[0m| 262/262 [00:16<00:00, 15.68it/s]\n"
          ]
        },
        {
          "output_type": "stream",
          "name": "stdout",
          "text": [
            "Accuracy: 0.6083015267175576\n"
          ]
        },
        {
          "output_type": "stream",
          "name": "stderr",
          "text": [
            "Epoch 81/250. Iteration 262/262. Loss 0.22122: 100%|\u001b[32m██████████\u001b[0m| 262/262 [00:16<00:00, 15.61it/s]\n"
          ]
        },
        {
          "output_type": "stream",
          "name": "stdout",
          "text": [
            "Accuracy: 0.6083015267175574\n"
          ]
        },
        {
          "output_type": "stream",
          "name": "stderr",
          "text": [
            "Epoch 82/250. Iteration 262/262. Loss 0.39451: 100%|\u001b[32m██████████\u001b[0m| 262/262 [00:16<00:00, 15.83it/s]\n"
          ]
        },
        {
          "output_type": "stream",
          "name": "stdout",
          "text": [
            "Accuracy: 0.6078244274809165\n"
          ]
        },
        {
          "output_type": "stream",
          "name": "stderr",
          "text": [
            "Epoch 83/250. Iteration 262/262. Loss 0.16084: 100%|\u001b[32m██████████\u001b[0m| 262/262 [00:16<00:00, 15.63it/s]\n"
          ]
        },
        {
          "output_type": "stream",
          "name": "stdout",
          "text": [
            "Accuracy: 0.6092557251908397\n"
          ]
        },
        {
          "output_type": "stream",
          "name": "stderr",
          "text": [
            "Epoch 84/250. Iteration 262/262. Loss 0.30328: 100%|\u001b[32m██████████\u001b[0m| 262/262 [00:16<00:00, 15.55it/s]\n"
          ]
        },
        {
          "output_type": "stream",
          "name": "stdout",
          "text": [
            "Accuracy: 0.6087786259541988\n"
          ]
        },
        {
          "output_type": "stream",
          "name": "stderr",
          "text": [
            "Epoch 85/250. Iteration 262/262. Loss 0.27503: 100%|\u001b[32m██████████\u001b[0m| 262/262 [00:16<00:00, 15.58it/s]\n"
          ]
        },
        {
          "output_type": "stream",
          "name": "stdout",
          "text": [
            "Accuracy: 0.6092557251908397\n"
          ]
        },
        {
          "output_type": "stream",
          "name": "stderr",
          "text": [
            "Epoch 86/250. Iteration 262/262. Loss 0.43419: 100%|\u001b[32m██████████\u001b[0m| 262/262 [00:16<00:00, 15.57it/s]\n"
          ]
        },
        {
          "output_type": "stream",
          "name": "stdout",
          "text": [
            "Accuracy: 0.6084605597964376\n"
          ]
        },
        {
          "output_type": "stream",
          "name": "stderr",
          "text": [
            "Epoch 87/250. Iteration 262/262. Loss 0.27293: 100%|\u001b[32m██████████\u001b[0m| 262/262 [00:17<00:00, 15.28it/s]\n"
          ]
        },
        {
          "output_type": "stream",
          "name": "stdout",
          "text": [
            "Accuracy: 0.608778625954199\n"
          ]
        },
        {
          "output_type": "stream",
          "name": "stderr",
          "text": [
            "Epoch 88/250. Iteration 262/262. Loss 0.04775: 100%|\u001b[32m██████████\u001b[0m| 262/262 [00:16<00:00, 15.59it/s]\n"
          ]
        },
        {
          "output_type": "stream",
          "name": "stdout",
          "text": [
            "Accuracy: 0.6097328244274808\n"
          ]
        },
        {
          "output_type": "stream",
          "name": "stderr",
          "text": [
            "Epoch 89/250. Iteration 262/262. Loss 0.39286: 100%|\u001b[32m██████████\u001b[0m| 262/262 [00:16<00:00, 15.49it/s]\n"
          ]
        },
        {
          "output_type": "stream",
          "name": "stdout",
          "text": [
            "Accuracy: 0.6095737913486008\n"
          ]
        },
        {
          "output_type": "stream",
          "name": "stderr",
          "text": [
            "Epoch 90/250. Iteration 262/262. Loss 0.27201: 100%|\u001b[32m██████████\u001b[0m| 262/262 [00:16<00:00, 15.66it/s]\n"
          ]
        },
        {
          "output_type": "stream",
          "name": "stdout",
          "text": [
            "Accuracy: 0.6067111959287528\n"
          ]
        },
        {
          "output_type": "stream",
          "name": "stderr",
          "text": [
            "Epoch 91/250. Iteration 262/262. Loss 0.30313: 100%|\u001b[32m██████████\u001b[0m| 262/262 [00:16<00:00, 15.68it/s]\n"
          ]
        },
        {
          "output_type": "stream",
          "name": "stdout",
          "text": [
            "Accuracy: 0.6087786259541985\n"
          ]
        },
        {
          "output_type": "stream",
          "name": "stderr",
          "text": [
            "Epoch 92/250. Iteration 262/262. Loss 0.13162: 100%|\u001b[32m██████████\u001b[0m| 262/262 [00:16<00:00, 15.54it/s]\n"
          ]
        },
        {
          "output_type": "stream",
          "name": "stdout",
          "text": [
            "Accuracy: 0.6087786259541984\n"
          ]
        },
        {
          "output_type": "stream",
          "name": "stderr",
          "text": [
            "Epoch 93/250. Iteration 262/262. Loss 0.29901: 100%|\u001b[32m██████████\u001b[0m| 262/262 [00:16<00:00, 15.63it/s]\n"
          ]
        },
        {
          "output_type": "stream",
          "name": "stdout",
          "text": [
            "Accuracy: 0.6106870229007635\n"
          ]
        },
        {
          "output_type": "stream",
          "name": "stderr",
          "text": [
            "Epoch 94/250. Iteration 262/262. Loss 0.36005: 100%|\u001b[32m██████████\u001b[0m| 262/262 [00:16<00:00, 15.70it/s]\n"
          ]
        },
        {
          "output_type": "stream",
          "name": "stdout",
          "text": [
            "Accuracy: 0.6106870229007635\n"
          ]
        },
        {
          "output_type": "stream",
          "name": "stderr",
          "text": [
            "Epoch 95/250. Iteration 262/262. Loss 0.35466: 100%|\u001b[32m██████████\u001b[0m| 262/262 [00:16<00:00, 15.59it/s]\n"
          ]
        },
        {
          "output_type": "stream",
          "name": "stdout",
          "text": [
            "Accuracy: 0.6106870229007636\n"
          ]
        },
        {
          "output_type": "stream",
          "name": "stderr",
          "text": [
            "Epoch 96/250. Iteration 262/262. Loss 0.22736: 100%|\u001b[32m██████████\u001b[0m| 262/262 [00:16<00:00, 15.49it/s]\n"
          ]
        },
        {
          "output_type": "stream",
          "name": "stdout",
          "text": [
            "Accuracy: 0.6116412213740459\n"
          ]
        },
        {
          "output_type": "stream",
          "name": "stderr",
          "text": [
            "Epoch 97/250. Iteration 262/262. Loss 0.29093: 100%|\u001b[32m██████████\u001b[0m| 262/262 [00:16<00:00, 15.59it/s]\n"
          ]
        },
        {
          "output_type": "stream",
          "name": "stdout",
          "text": [
            "Accuracy: 0.6116412213740458\n"
          ]
        },
        {
          "output_type": "stream",
          "name": "stderr",
          "text": [
            "Epoch 98/250. Iteration 262/262. Loss 0.31597: 100%|\u001b[32m██████████\u001b[0m| 262/262 [00:17<00:00, 15.22it/s]\n"
          ]
        },
        {
          "output_type": "stream",
          "name": "stdout",
          "text": [
            "Accuracy: 0.6121183206106874\n"
          ]
        },
        {
          "output_type": "stream",
          "name": "stderr",
          "text": [
            "Epoch 99/250. Iteration 262/262. Loss 0.25392: 100%|\u001b[32m██████████\u001b[0m| 262/262 [00:16<00:00, 15.58it/s]\n"
          ]
        },
        {
          "output_type": "stream",
          "name": "stdout",
          "text": [
            "Accuracy: 0.611641221374046\n"
          ]
        },
        {
          "output_type": "stream",
          "name": "stderr",
          "text": [
            "Epoch 100/250. Iteration 262/262. Loss 0.36900: 100%|\u001b[32m██████████\u001b[0m| 262/262 [00:16<00:00, 15.48it/s]\n"
          ]
        },
        {
          "output_type": "stream",
          "name": "stdout",
          "text": [
            "Accuracy: 0.6120388040712471\n"
          ]
        },
        {
          "output_type": "stream",
          "name": "stderr",
          "text": [
            "Epoch 101/250. Iteration 262/262. Loss 0.27211: 100%|\u001b[32m██████████\u001b[0m| 262/262 [00:16<00:00, 15.68it/s]\n"
          ]
        },
        {
          "output_type": "stream",
          "name": "stdout",
          "text": [
            "Accuracy: 0.6108460559796436\n"
          ]
        },
        {
          "output_type": "stream",
          "name": "stderr",
          "text": [
            "Epoch 102/250. Iteration 262/262. Loss 0.24229: 100%|\u001b[32m██████████\u001b[0m| 262/262 [00:16<00:00, 15.64it/s]\n"
          ]
        },
        {
          "output_type": "stream",
          "name": "stdout",
          "text": [
            "Accuracy: 0.6118002544529264\n"
          ]
        },
        {
          "output_type": "stream",
          "name": "stderr",
          "text": [
            "Epoch 103/250. Iteration 262/262. Loss 0.16949: 100%|\u001b[32m██████████\u001b[0m| 262/262 [00:16<00:00, 15.67it/s]\n"
          ]
        },
        {
          "output_type": "stream",
          "name": "stdout",
          "text": [
            "Accuracy: 0.6125954198473286\n"
          ]
        },
        {
          "output_type": "stream",
          "name": "stderr",
          "text": [
            "Epoch 104/250. Iteration 262/262. Loss 0.31372: 100%|\u001b[32m██████████\u001b[0m| 262/262 [00:16<00:00, 15.43it/s]\n"
          ]
        },
        {
          "output_type": "stream",
          "name": "stdout",
          "text": [
            "Accuracy: 0.6125954198473285\n"
          ]
        },
        {
          "output_type": "stream",
          "name": "stderr",
          "text": [
            "Epoch 105/250. Iteration 262/262. Loss 0.23141: 100%|\u001b[32m██████████\u001b[0m| 262/262 [00:16<00:00, 15.69it/s]\n"
          ]
        },
        {
          "output_type": "stream",
          "name": "stdout",
          "text": [
            "Accuracy: 0.6122773536895674\n"
          ]
        },
        {
          "output_type": "stream",
          "name": "stderr",
          "text": [
            "Epoch 106/250. Iteration 262/262. Loss 0.22553: 100%|\u001b[32m██████████\u001b[0m| 262/262 [00:17<00:00, 15.30it/s]\n"
          ]
        },
        {
          "output_type": "stream",
          "name": "stdout",
          "text": [
            "Accuracy: 0.612118320610687\n"
          ]
        },
        {
          "output_type": "stream",
          "name": "stderr",
          "text": [
            "Epoch 107/250. Iteration 262/262. Loss 0.23167: 100%|\u001b[32m██████████\u001b[0m| 262/262 [00:16<00:00, 15.68it/s]\n"
          ]
        },
        {
          "output_type": "stream",
          "name": "stdout",
          "text": [
            "Accuracy: 0.5892970737913489\n"
          ]
        },
        {
          "output_type": "stream",
          "name": "stderr",
          "text": [
            "Epoch 108/250. Iteration 262/262. Loss 0.22928: 100%|\u001b[32m██████████\u001b[0m| 262/262 [00:16<00:00, 15.44it/s]\n"
          ]
        },
        {
          "output_type": "stream",
          "name": "stdout",
          "text": [
            "Accuracy: 0.6125954198473285\n"
          ]
        },
        {
          "output_type": "stream",
          "name": "stderr",
          "text": [
            "Epoch 109/250. Iteration 262/262. Loss 0.30458: 100%|\u001b[32m██████████\u001b[0m| 262/262 [00:16<00:00, 15.57it/s]\n"
          ]
        },
        {
          "output_type": "stream",
          "name": "stdout",
          "text": [
            "Accuracy: 0.6125954198473283\n"
          ]
        },
        {
          "output_type": "stream",
          "name": "stderr",
          "text": [
            "Epoch 110/250. Iteration 262/262. Loss 0.34392: 100%|\u001b[32m██████████\u001b[0m| 262/262 [00:17<00:00, 15.34it/s]\n"
          ]
        },
        {
          "output_type": "stream",
          "name": "stdout",
          "text": [
            "Accuracy: 0.6125954198473281\n"
          ]
        },
        {
          "output_type": "stream",
          "name": "stderr",
          "text": [
            "Epoch 111/250. Iteration 262/262. Loss 0.18780: 100%|\u001b[32m██████████\u001b[0m| 262/262 [00:16<00:00, 15.63it/s]\n"
          ]
        },
        {
          "output_type": "stream",
          "name": "stdout",
          "text": [
            "Accuracy: 0.6125954198473282\n"
          ]
        },
        {
          "output_type": "stream",
          "name": "stderr",
          "text": [
            "Epoch 112/250. Iteration 262/262. Loss 0.36585: 100%|\u001b[32m██████████\u001b[0m| 262/262 [00:16<00:00, 15.52it/s]\n"
          ]
        },
        {
          "output_type": "stream",
          "name": "stdout",
          "text": [
            "Accuracy: 0.6125954198473285\n"
          ]
        },
        {
          "output_type": "stream",
          "name": "stderr",
          "text": [
            "Epoch 113/250. Iteration 262/262. Loss 0.28982: 100%|\u001b[32m██████████\u001b[0m| 262/262 [00:16<00:00, 15.50it/s]\n"
          ]
        },
        {
          "output_type": "stream",
          "name": "stdout",
          "text": [
            "Accuracy: 0.6122773536895677\n"
          ]
        },
        {
          "output_type": "stream",
          "name": "stderr",
          "text": [
            "Epoch 114/250. Iteration 262/262. Loss 0.13593: 100%|\u001b[32m██████████\u001b[0m| 262/262 [00:16<00:00, 15.43it/s]\n"
          ]
        },
        {
          "output_type": "stream",
          "name": "stdout",
          "text": [
            "Accuracy: 0.6121183206106876\n"
          ]
        },
        {
          "output_type": "stream",
          "name": "stderr",
          "text": [
            "Epoch 115/250. Iteration 262/262. Loss 0.16381: 100%|\u001b[32m██████████\u001b[0m| 262/262 [00:17<00:00, 15.36it/s]\n"
          ]
        },
        {
          "output_type": "stream",
          "name": "stdout",
          "text": [
            "Accuracy: 0.6125954198473285\n"
          ]
        },
        {
          "output_type": "stream",
          "name": "stderr",
          "text": [
            "Epoch 116/250. Iteration 262/262. Loss 0.35940: 100%|\u001b[32m██████████\u001b[0m| 262/262 [00:17<00:00, 15.18it/s]\n"
          ]
        },
        {
          "output_type": "stream",
          "name": "stdout",
          "text": [
            "Accuracy: 0.612118320610687\n"
          ]
        },
        {
          "output_type": "stream",
          "name": "stderr",
          "text": [
            "Epoch 117/250. Iteration 262/262. Loss 0.34369: 100%|\u001b[32m██████████\u001b[0m| 262/262 [00:16<00:00, 15.54it/s]\n"
          ]
        },
        {
          "output_type": "stream",
          "name": "stdout",
          "text": [
            "Accuracy: 0.6121183206106874\n"
          ]
        },
        {
          "output_type": "stream",
          "name": "stderr",
          "text": [
            "Epoch 118/250. Iteration 262/262. Loss 0.27024: 100%|\u001b[32m██████████\u001b[0m| 262/262 [00:16<00:00, 15.61it/s]\n"
          ]
        },
        {
          "output_type": "stream",
          "name": "stdout",
          "text": [
            "Accuracy: 0.6119592875318068\n"
          ]
        },
        {
          "output_type": "stream",
          "name": "stderr",
          "text": [
            "Epoch 119/250. Iteration 262/262. Loss 0.12793: 100%|\u001b[32m██████████\u001b[0m| 262/262 [00:16<00:00, 15.47it/s]\n"
          ]
        },
        {
          "output_type": "stream",
          "name": "stdout",
          "text": [
            "Accuracy: 0.611641221374046\n"
          ]
        },
        {
          "output_type": "stream",
          "name": "stderr",
          "text": [
            "Epoch 120/250. Iteration 262/262. Loss 0.26364: 100%|\u001b[32m██████████\u001b[0m| 262/262 [00:16<00:00, 15.55it/s]\n"
          ]
        },
        {
          "output_type": "stream",
          "name": "stdout",
          "text": [
            "Accuracy: 0.6124363867684484\n"
          ]
        },
        {
          "output_type": "stream",
          "name": "stderr",
          "text": [
            "Epoch 121/250. Iteration 262/262. Loss 0.22379: 100%|\u001b[32m██████████\u001b[0m| 262/262 [00:16<00:00, 15.53it/s]\n"
          ]
        },
        {
          "output_type": "stream",
          "name": "stdout",
          "text": [
            "Accuracy: 0.6149013994910942\n"
          ]
        },
        {
          "output_type": "stream",
          "name": "stderr",
          "text": [
            "Epoch 122/250. Iteration 262/262. Loss 0.20212: 100%|\u001b[32m██████████\u001b[0m| 262/262 [00:16<00:00, 15.59it/s]\n"
          ]
        },
        {
          "output_type": "stream",
          "name": "stdout",
          "text": [
            "Accuracy: 0.6086195928753182\n"
          ]
        },
        {
          "output_type": "stream",
          "name": "stderr",
          "text": [
            "Epoch 123/250. Iteration 262/262. Loss 0.19933: 100%|\u001b[32m██████████\u001b[0m| 262/262 [00:16<00:00, 15.65it/s]\n"
          ]
        },
        {
          "output_type": "stream",
          "name": "stdout",
          "text": [
            "Accuracy: 0.6204675572519085\n"
          ]
        },
        {
          "output_type": "stream",
          "name": "stderr",
          "text": [
            "Epoch 124/250. Iteration 262/262. Loss 0.06802: 100%|\u001b[32m██████████\u001b[0m| 262/262 [00:17<00:00, 15.36it/s]\n"
          ]
        },
        {
          "output_type": "stream",
          "name": "stdout",
          "text": [
            "Accuracy: 0.6241253180661578\n"
          ]
        },
        {
          "output_type": "stream",
          "name": "stderr",
          "text": [
            "Epoch 125/250. Iteration 262/262. Loss 0.19819: 100%|\u001b[32m██████████\u001b[0m| 262/262 [00:16<00:00, 15.58it/s]\n"
          ]
        },
        {
          "output_type": "stream",
          "name": "stdout",
          "text": [
            "Accuracy: 0.6293734096692116\n"
          ]
        },
        {
          "output_type": "stream",
          "name": "stderr",
          "text": [
            "Epoch 126/250. Iteration 262/262. Loss 0.23552: 100%|\u001b[32m██████████\u001b[0m| 262/262 [00:17<00:00, 15.31it/s]\n"
          ]
        },
        {
          "output_type": "stream",
          "name": "stdout",
          "text": [
            "Accuracy: 0.6324268447837149\n"
          ]
        },
        {
          "output_type": "stream",
          "name": "stderr",
          "text": [
            "Epoch 127/250. Iteration 262/262. Loss 0.25140: 100%|\u001b[32m██████████\u001b[0m| 262/262 [00:17<00:00, 15.15it/s]\n"
          ]
        },
        {
          "output_type": "stream",
          "name": "stdout",
          "text": [
            "Accuracy: 0.6356870229007636\n"
          ]
        },
        {
          "output_type": "stream",
          "name": "stderr",
          "text": [
            "Epoch 128/250. Iteration 262/262. Loss 0.22777: 100%|\u001b[32m██████████\u001b[0m| 262/262 [00:16<00:00, 15.43it/s]\n"
          ]
        },
        {
          "output_type": "stream",
          "name": "stdout",
          "text": [
            "Accuracy: 0.6394243002544528\n"
          ]
        },
        {
          "output_type": "stream",
          "name": "stderr",
          "text": [
            "Epoch 129/250. Iteration 262/262. Loss 0.22560: 100%|\u001b[32m██████████\u001b[0m| 262/262 [00:17<00:00, 15.15it/s]\n"
          ]
        },
        {
          "output_type": "stream",
          "name": "stdout",
          "text": [
            "Accuracy: 0.630407124681934\n"
          ]
        },
        {
          "output_type": "stream",
          "name": "stderr",
          "text": [
            "Epoch 130/250. Iteration 262/262. Loss 0.24655: 100%|\u001b[32m██████████\u001b[0m| 262/262 [00:16<00:00, 15.49it/s]\n"
          ]
        },
        {
          "output_type": "stream",
          "name": "stdout",
          "text": [
            "Accuracy: 0.6344147582697198\n"
          ]
        },
        {
          "output_type": "stream",
          "name": "stderr",
          "text": [
            "Epoch 131/250. Iteration 262/262. Loss 0.27301: 100%|\u001b[32m██████████\u001b[0m| 262/262 [00:16<00:00, 15.45it/s]\n"
          ]
        },
        {
          "output_type": "stream",
          "name": "stdout",
          "text": [
            "Accuracy: 0.629993638676845\n"
          ]
        },
        {
          "output_type": "stream",
          "name": "stderr",
          "text": [
            "Epoch 132/250. Iteration 262/262. Loss 0.34697: 100%|\u001b[32m██████████\u001b[0m| 262/262 [00:16<00:00, 15.56it/s]\n"
          ]
        },
        {
          "output_type": "stream",
          "name": "stdout",
          "text": [
            "Accuracy: 0.6273377862595423\n"
          ]
        },
        {
          "output_type": "stream",
          "name": "stderr",
          "text": [
            "Epoch 133/250. Iteration 262/262. Loss 0.10965: 100%|\u001b[32m██████████\u001b[0m| 262/262 [00:16<00:00, 15.46it/s]\n"
          ]
        },
        {
          "output_type": "stream",
          "name": "stdout",
          "text": [
            "Accuracy: 0.6391857506361328\n"
          ]
        },
        {
          "output_type": "stream",
          "name": "stderr",
          "text": [
            "Epoch 134/250. Iteration 262/262. Loss 0.22781: 100%|\u001b[32m██████████\u001b[0m| 262/262 [00:16<00:00, 15.57it/s]\n"
          ]
        },
        {
          "output_type": "stream",
          "name": "stdout",
          "text": [
            "Accuracy: 0.6471692111959294\n"
          ]
        },
        {
          "output_type": "stream",
          "name": "stderr",
          "text": [
            "Epoch 135/250. Iteration 262/262. Loss 0.18476: 100%|\u001b[32m██████████\u001b[0m| 262/262 [00:16<00:00, 15.49it/s]\n"
          ]
        },
        {
          "output_type": "stream",
          "name": "stdout",
          "text": [
            "Accuracy: 0.6393447837150131\n"
          ]
        },
        {
          "output_type": "stream",
          "name": "stderr",
          "text": [
            "Epoch 136/250. Iteration 262/262. Loss 0.26444: 100%|\u001b[32m██████████\u001b[0m| 262/262 [00:16<00:00, 15.57it/s]\n"
          ]
        },
        {
          "output_type": "stream",
          "name": "stdout",
          "text": [
            "Accuracy: 0.6513040712468197\n"
          ]
        },
        {
          "output_type": "stream",
          "name": "stderr",
          "text": [
            "Epoch 137/250. Iteration 262/262. Loss 0.16248: 100%|\u001b[32m██████████\u001b[0m| 262/262 [00:16<00:00, 15.44it/s]\n"
          ]
        },
        {
          "output_type": "stream",
          "name": "stdout",
          "text": [
            "Accuracy: 0.6581424936386774\n"
          ]
        },
        {
          "output_type": "stream",
          "name": "stderr",
          "text": [
            "Epoch 138/250. Iteration 262/262. Loss 0.08862: 100%|\u001b[32m██████████\u001b[0m| 262/262 [00:16<00:00, 15.44it/s]\n"
          ]
        },
        {
          "output_type": "stream",
          "name": "stdout",
          "text": [
            "Accuracy: 0.6435114503816792\n"
          ]
        },
        {
          "output_type": "stream",
          "name": "stderr",
          "text": [
            "Epoch 139/250. Iteration 262/262. Loss 0.12113: 100%|\u001b[32m██████████\u001b[0m| 262/262 [00:16<00:00, 15.50it/s]\n"
          ]
        },
        {
          "output_type": "stream",
          "name": "stdout",
          "text": [
            "Accuracy: 0.6662054707379139\n"
          ]
        },
        {
          "output_type": "stream",
          "name": "stderr",
          "text": [
            "Epoch 140/250. Iteration 262/262. Loss 0.22161: 100%|\u001b[32m██████████\u001b[0m| 262/262 [00:16<00:00, 15.46it/s]\n"
          ]
        },
        {
          "output_type": "stream",
          "name": "stdout",
          "text": [
            "Accuracy: 0.6588581424936394\n"
          ]
        },
        {
          "output_type": "stream",
          "name": "stderr",
          "text": [
            "Epoch 141/250. Iteration 262/262. Loss 0.10708: 100%|\u001b[32m██████████\u001b[0m| 262/262 [00:16<00:00, 15.51it/s]\n"
          ]
        },
        {
          "output_type": "stream",
          "name": "stdout",
          "text": [
            "Accuracy: 0.662388676844784\n"
          ]
        },
        {
          "output_type": "stream",
          "name": "stderr",
          "text": [
            "Epoch 142/250. Iteration 262/262. Loss 0.14895: 100%|\u001b[32m██████████\u001b[0m| 262/262 [00:17<00:00, 15.33it/s]\n"
          ]
        },
        {
          "output_type": "stream",
          "name": "stdout",
          "text": [
            "Accuracy: 0.6620388040712472\n"
          ]
        },
        {
          "output_type": "stream",
          "name": "stderr",
          "text": [
            "Epoch 143/250. Iteration 262/262. Loss 0.27312: 100%|\u001b[32m██████████\u001b[0m| 262/262 [00:17<00:00, 15.11it/s]\n"
          ]
        },
        {
          "output_type": "stream",
          "name": "stdout",
          "text": [
            "Accuracy: 0.6788167938931301\n"
          ]
        },
        {
          "output_type": "stream",
          "name": "stderr",
          "text": [
            "Epoch 144/250. Iteration 262/262. Loss 0.16188: 100%|\u001b[32m██████████\u001b[0m| 262/262 [00:17<00:00, 15.28it/s]\n"
          ]
        },
        {
          "output_type": "stream",
          "name": "stdout",
          "text": [
            "Accuracy: 0.6894720101781174\n"
          ]
        },
        {
          "output_type": "stream",
          "name": "stderr",
          "text": [
            "Epoch 145/250. Iteration 262/262. Loss 0.18310: 100%|\u001b[32m██████████\u001b[0m| 262/262 [00:17<00:00, 15.39it/s]\n"
          ]
        },
        {
          "output_type": "stream",
          "name": "stdout",
          "text": [
            "Accuracy: 0.6717398218829523\n"
          ]
        },
        {
          "output_type": "stream",
          "name": "stderr",
          "text": [
            "Epoch 146/250. Iteration 262/262. Loss 0.07735: 100%|\u001b[32m██████████\u001b[0m| 262/262 [00:16<00:00, 15.55it/s]\n"
          ]
        },
        {
          "output_type": "stream",
          "name": "stdout",
          "text": [
            "Accuracy: 0.6786100508905853\n"
          ]
        },
        {
          "output_type": "stream",
          "name": "stderr",
          "text": [
            "Epoch 147/250. Iteration 262/262. Loss 0.12994: 100%|\u001b[32m██████████\u001b[0m| 262/262 [00:16<00:00, 15.51it/s]\n"
          ]
        },
        {
          "output_type": "stream",
          "name": "stdout",
          "text": [
            "Accuracy: 0.6899809160305341\n"
          ]
        },
        {
          "output_type": "stream",
          "name": "stderr",
          "text": [
            "Epoch 148/250. Iteration 262/262. Loss 0.46035: 100%|\u001b[32m██████████\u001b[0m| 262/262 [00:16<00:00, 15.45it/s]\n"
          ]
        },
        {
          "output_type": "stream",
          "name": "stdout",
          "text": [
            "Accuracy: 0.7134701017811705\n"
          ]
        },
        {
          "output_type": "stream",
          "name": "stderr",
          "text": [
            "Epoch 149/250. Iteration 262/262. Loss 0.32716: 100%|\u001b[32m██████████\u001b[0m| 262/262 [00:16<00:00, 15.62it/s]\n"
          ]
        },
        {
          "output_type": "stream",
          "name": "stdout",
          "text": [
            "Accuracy: 0.7077290076335877\n"
          ]
        },
        {
          "output_type": "stream",
          "name": "stderr",
          "text": [
            "Epoch 150/250. Iteration 262/262. Loss 0.14688: 100%|\u001b[32m██████████\u001b[0m| 262/262 [00:17<00:00, 15.38it/s]\n"
          ]
        },
        {
          "output_type": "stream",
          "name": "stdout",
          "text": [
            "Accuracy: 0.7277989821882951\n"
          ]
        },
        {
          "output_type": "stream",
          "name": "stderr",
          "text": [
            "Epoch 151/250. Iteration 262/262. Loss 0.28204: 100%|\u001b[32m██████████\u001b[0m| 262/262 [00:16<00:00, 15.50it/s]\n"
          ]
        },
        {
          "output_type": "stream",
          "name": "stdout",
          "text": [
            "Accuracy: 0.7313295165394406\n"
          ]
        },
        {
          "output_type": "stream",
          "name": "stderr",
          "text": [
            "Epoch 152/250. Iteration 262/262. Loss 0.20470: 100%|\u001b[32m██████████\u001b[0m| 262/262 [00:17<00:00, 15.30it/s]\n"
          ]
        },
        {
          "output_type": "stream",
          "name": "stdout",
          "text": [
            "Accuracy: 0.729564249363868\n"
          ]
        },
        {
          "output_type": "stream",
          "name": "stderr",
          "text": [
            "Epoch 153/250. Iteration 262/262. Loss 0.17211: 100%|\u001b[32m██████████\u001b[0m| 262/262 [00:17<00:00, 15.38it/s]\n"
          ]
        },
        {
          "output_type": "stream",
          "name": "stdout",
          "text": [
            "Accuracy: 0.7298505089058523\n"
          ]
        },
        {
          "output_type": "stream",
          "name": "stderr",
          "text": [
            "Epoch 154/250. Iteration 262/262. Loss 0.20945: 100%|\u001b[32m██████████\u001b[0m| 262/262 [00:16<00:00, 15.46it/s]\n"
          ]
        },
        {
          "output_type": "stream",
          "name": "stdout",
          "text": [
            "Accuracy: 0.7453562340966926\n"
          ]
        },
        {
          "output_type": "stream",
          "name": "stderr",
          "text": [
            "Epoch 155/250. Iteration 262/262. Loss 0.18082: 100%|\u001b[32m██████████\u001b[0m| 262/262 [00:16<00:00, 15.50it/s]\n"
          ]
        },
        {
          "output_type": "stream",
          "name": "stdout",
          "text": [
            "Accuracy: 0.742000636132316\n"
          ]
        },
        {
          "output_type": "stream",
          "name": "stderr",
          "text": [
            "Epoch 156/250. Iteration 262/262. Loss 0.06771: 100%|\u001b[32m██████████\u001b[0m| 262/262 [00:17<00:00, 15.33it/s]\n"
          ]
        },
        {
          "output_type": "stream",
          "name": "stdout",
          "text": [
            "Accuracy: 0.725747455470738\n"
          ]
        },
        {
          "output_type": "stream",
          "name": "stderr",
          "text": [
            "Epoch 157/250. Iteration 262/262. Loss 0.20663: 100%|\u001b[32m██████████\u001b[0m| 262/262 [00:17<00:00, 15.31it/s]\n"
          ]
        },
        {
          "output_type": "stream",
          "name": "stdout",
          "text": [
            "Accuracy: 0.7393447837150122\n"
          ]
        },
        {
          "output_type": "stream",
          "name": "stderr",
          "text": [
            "Epoch 158/250. Iteration 262/262. Loss 0.22958: 100%|\u001b[32m██████████\u001b[0m| 262/262 [00:17<00:00, 15.28it/s]\n"
          ]
        },
        {
          "output_type": "stream",
          "name": "stdout",
          "text": [
            "Accuracy: 0.7575222646310432\n"
          ]
        },
        {
          "output_type": "stream",
          "name": "stderr",
          "text": [
            "Epoch 159/250. Iteration 262/262. Loss 0.19320: 100%|\u001b[32m██████████\u001b[0m| 262/262 [00:17<00:00, 15.34it/s]\n"
          ]
        },
        {
          "output_type": "stream",
          "name": "stdout",
          "text": [
            "Accuracy: 0.7733301526717558\n"
          ]
        },
        {
          "output_type": "stream",
          "name": "stderr",
          "text": [
            "Epoch 160/250. Iteration 262/262. Loss 0.29196: 100%|\u001b[32m██████████\u001b[0m| 262/262 [00:17<00:00, 15.25it/s]\n"
          ]
        },
        {
          "output_type": "stream",
          "name": "stdout",
          "text": [
            "Accuracy: 0.7775922391857507\n"
          ]
        },
        {
          "output_type": "stream",
          "name": "stderr",
          "text": [
            "Epoch 161/250. Iteration 262/262. Loss 0.23225: 100%|\u001b[32m██████████\u001b[0m| 262/262 [00:16<00:00, 15.50it/s]\n"
          ]
        },
        {
          "output_type": "stream",
          "name": "stdout",
          "text": [
            "Accuracy: 0.776017811704835\n"
          ]
        },
        {
          "output_type": "stream",
          "name": "stderr",
          "text": [
            "Epoch 162/250. Iteration 262/262. Loss 0.12398: 100%|\u001b[32m██████████\u001b[0m| 262/262 [00:17<00:00, 15.31it/s]\n"
          ]
        },
        {
          "output_type": "stream",
          "name": "stdout",
          "text": [
            "Accuracy: 0.7908237913486004\n"
          ]
        },
        {
          "output_type": "stream",
          "name": "stderr",
          "text": [
            "Epoch 163/250. Iteration 262/262. Loss 0.22658: 100%|\u001b[32m██████████\u001b[0m| 262/262 [00:17<00:00, 15.10it/s]\n"
          ]
        },
        {
          "output_type": "stream",
          "name": "stdout",
          "text": [
            "Accuracy: 0.7796755725190839\n"
          ]
        },
        {
          "output_type": "stream",
          "name": "stderr",
          "text": [
            "Epoch 164/250. Iteration 262/262. Loss 0.28338: 100%|\u001b[32m██████████\u001b[0m| 262/262 [00:16<00:00, 15.43it/s]\n"
          ]
        },
        {
          "output_type": "stream",
          "name": "stdout",
          "text": [
            "Accuracy: 0.7725031806615774\n"
          ]
        },
        {
          "output_type": "stream",
          "name": "stderr",
          "text": [
            "Epoch 165/250. Iteration 262/262. Loss 0.13142: 100%|\u001b[32m██████████\u001b[0m| 262/262 [00:16<00:00, 15.44it/s]\n"
          ]
        },
        {
          "output_type": "stream",
          "name": "stdout",
          "text": [
            "Accuracy: 0.8078880407124678\n"
          ]
        },
        {
          "output_type": "stream",
          "name": "stderr",
          "text": [
            "Epoch 166/250. Iteration 262/262. Loss 0.07561: 100%|\u001b[32m██████████\u001b[0m| 262/262 [00:16<00:00, 15.45it/s]\n"
          ]
        },
        {
          "output_type": "stream",
          "name": "stdout",
          "text": [
            "Accuracy: 0.7896946564885494\n"
          ]
        },
        {
          "output_type": "stream",
          "name": "stderr",
          "text": [
            "Epoch 167/250. Iteration 262/262. Loss 0.09492: 100%|\u001b[32m██████████\u001b[0m| 262/262 [00:17<00:00, 15.33it/s]\n"
          ]
        },
        {
          "output_type": "stream",
          "name": "stdout",
          "text": [
            "Accuracy: 0.7983460559796438\n"
          ]
        },
        {
          "output_type": "stream",
          "name": "stderr",
          "text": [
            "Epoch 168/250. Iteration 262/262. Loss 0.15232: 100%|\u001b[32m██████████\u001b[0m| 262/262 [00:16<00:00, 15.55it/s]\n"
          ]
        },
        {
          "output_type": "stream",
          "name": "stdout",
          "text": [
            "Accuracy: 0.8189567430025443\n"
          ]
        },
        {
          "output_type": "stream",
          "name": "stderr",
          "text": [
            "Epoch 169/250. Iteration 262/262. Loss 0.08516: 100%|\u001b[32m██████████\u001b[0m| 262/262 [00:16<00:00, 15.46it/s]\n"
          ]
        },
        {
          "output_type": "stream",
          "name": "stdout",
          "text": [
            "Accuracy: 0.8239503816793885\n"
          ]
        },
        {
          "output_type": "stream",
          "name": "stderr",
          "text": [
            "Epoch 170/250. Iteration 262/262. Loss 0.06007: 100%|\u001b[32m██████████\u001b[0m| 262/262 [00:17<00:00, 15.41it/s]\n"
          ]
        },
        {
          "output_type": "stream",
          "name": "stdout",
          "text": [
            "Accuracy: 0.8239185750636125\n"
          ]
        },
        {
          "output_type": "stream",
          "name": "stderr",
          "text": [
            "Epoch 171/250. Iteration 262/262. Loss 0.05999: 100%|\u001b[32m██████████\u001b[0m| 262/262 [00:17<00:00, 15.36it/s]\n"
          ]
        },
        {
          "output_type": "stream",
          "name": "stdout",
          "text": [
            "Accuracy: 0.8127385496183201\n"
          ]
        },
        {
          "output_type": "stream",
          "name": "stderr",
          "text": [
            "Epoch 172/250. Iteration 262/262. Loss 0.11717: 100%|\u001b[32m██████████\u001b[0m| 262/262 [00:17<00:00, 15.27it/s]\n"
          ]
        },
        {
          "output_type": "stream",
          "name": "stdout",
          "text": [
            "Accuracy: 0.8089853689567426\n"
          ]
        },
        {
          "output_type": "stream",
          "name": "stderr",
          "text": [
            "Epoch 173/250. Iteration 262/262. Loss 0.11678: 100%|\u001b[32m██████████\u001b[0m| 262/262 [00:17<00:00, 15.16it/s]\n"
          ]
        },
        {
          "output_type": "stream",
          "name": "stdout",
          "text": [
            "Accuracy: 0.7995069974554703\n"
          ]
        },
        {
          "output_type": "stream",
          "name": "stderr",
          "text": [
            "Epoch 174/250. Iteration 262/262. Loss 0.07218: 100%|\u001b[32m██████████\u001b[0m| 262/262 [00:16<00:00, 15.47it/s]\n"
          ]
        },
        {
          "output_type": "stream",
          "name": "stdout",
          "text": [
            "Accuracy: 0.8483619592875317\n"
          ]
        },
        {
          "output_type": "stream",
          "name": "stderr",
          "text": [
            "Epoch 175/250. Iteration 262/262. Loss 0.06116: 100%|\u001b[32m██████████\u001b[0m| 262/262 [00:16<00:00, 15.41it/s]\n"
          ]
        },
        {
          "output_type": "stream",
          "name": "stdout",
          "text": [
            "Accuracy: 0.821358142493638\n"
          ]
        },
        {
          "output_type": "stream",
          "name": "stderr",
          "text": [
            "Epoch 176/250. Iteration 262/262. Loss 0.07203: 100%|\u001b[32m██████████\u001b[0m| 262/262 [00:16<00:00, 15.59it/s]\n"
          ]
        },
        {
          "output_type": "stream",
          "name": "stdout",
          "text": [
            "Accuracy: 0.8407124681933836\n"
          ]
        },
        {
          "output_type": "stream",
          "name": "stderr",
          "text": [
            "Epoch 177/250. Iteration 262/262. Loss 0.20891: 100%|\u001b[32m██████████\u001b[0m| 262/262 [00:17<00:00, 15.32it/s]\n"
          ]
        },
        {
          "output_type": "stream",
          "name": "stdout",
          "text": [
            "Accuracy: 0.8182729007633583\n"
          ]
        },
        {
          "output_type": "stream",
          "name": "stderr",
          "text": [
            "Epoch 178/250. Iteration 262/262. Loss 0.15032: 100%|\u001b[32m██████████\u001b[0m| 262/262 [00:17<00:00, 15.38it/s]\n"
          ]
        },
        {
          "output_type": "stream",
          "name": "stdout",
          "text": [
            "Accuracy: 0.8134223918575056\n"
          ]
        },
        {
          "output_type": "stream",
          "name": "stderr",
          "text": [
            "Epoch 179/250. Iteration 262/262. Loss 0.15428: 100%|\u001b[32m██████████\u001b[0m| 262/262 [00:17<00:00, 15.15it/s]\n"
          ]
        },
        {
          "output_type": "stream",
          "name": "stdout",
          "text": [
            "Accuracy: 0.8395038167938931\n"
          ]
        },
        {
          "output_type": "stream",
          "name": "stderr",
          "text": [
            "Epoch 180/250. Iteration 262/262. Loss 0.11330: 100%|\u001b[32m██████████\u001b[0m| 262/262 [00:17<00:00, 15.26it/s]\n"
          ]
        },
        {
          "output_type": "stream",
          "name": "stdout",
          "text": [
            "Accuracy: 0.8469783715012716\n"
          ]
        },
        {
          "output_type": "stream",
          "name": "stderr",
          "text": [
            "Epoch 181/250. Iteration 262/262. Loss 0.11820: 100%|\u001b[32m██████████\u001b[0m| 262/262 [00:17<00:00, 15.14it/s]\n"
          ]
        },
        {
          "output_type": "stream",
          "name": "stdout",
          "text": [
            "Accuracy: 0.8651240458015259\n"
          ]
        },
        {
          "output_type": "stream",
          "name": "stderr",
          "text": [
            "Epoch 182/250. Iteration 262/262. Loss 0.18450: 100%|\u001b[32m██████████\u001b[0m| 262/262 [00:17<00:00, 14.82it/s]\n"
          ]
        },
        {
          "output_type": "stream",
          "name": "stdout",
          "text": [
            "Accuracy: 0.8589376590330781\n"
          ]
        },
        {
          "output_type": "stream",
          "name": "stderr",
          "text": [
            "Epoch 183/250. Iteration 262/262. Loss 0.16570: 100%|\u001b[32m██████████\u001b[0m| 262/262 [00:17<00:00, 14.96it/s]\n"
          ]
        },
        {
          "output_type": "stream",
          "name": "stdout",
          "text": [
            "Accuracy: 0.863199745547073\n"
          ]
        },
        {
          "output_type": "stream",
          "name": "stderr",
          "text": [
            "Epoch 184/250. Iteration 262/262. Loss 0.26590: 100%|\u001b[32m██████████\u001b[0m| 262/262 [00:17<00:00, 15.34it/s]\n"
          ]
        },
        {
          "output_type": "stream",
          "name": "stdout",
          "text": [
            "Accuracy: 0.8620069974554704\n"
          ]
        },
        {
          "output_type": "stream",
          "name": "stderr",
          "text": [
            "Epoch 185/250. Iteration 262/262. Loss 0.06396: 100%|\u001b[32m██████████\u001b[0m| 262/262 [00:17<00:00, 15.15it/s]\n"
          ]
        },
        {
          "output_type": "stream",
          "name": "stdout",
          "text": [
            "Accuracy: 0.8931456743002534\n"
          ]
        },
        {
          "output_type": "stream",
          "name": "stderr",
          "text": [
            "Epoch 186/250. Iteration 262/262. Loss 0.10096: 100%|\u001b[32m██████████\u001b[0m| 262/262 [00:17<00:00, 15.15it/s]\n"
          ]
        },
        {
          "output_type": "stream",
          "name": "stdout",
          "text": [
            "Accuracy: 0.8712309160305335\n"
          ]
        },
        {
          "output_type": "stream",
          "name": "stderr",
          "text": [
            "Epoch 187/250. Iteration 262/262. Loss 0.24120: 100%|\u001b[32m██████████\u001b[0m| 262/262 [00:17<00:00, 15.01it/s]\n"
          ]
        },
        {
          "output_type": "stream",
          "name": "stdout",
          "text": [
            "Accuracy: 0.8316316793893124\n"
          ]
        },
        {
          "output_type": "stream",
          "name": "stderr",
          "text": [
            "Epoch 188/250. Iteration 262/262. Loss 0.12007: 100%|\u001b[32m██████████\u001b[0m| 262/262 [00:17<00:00, 14.88it/s]\n"
          ]
        },
        {
          "output_type": "stream",
          "name": "stdout",
          "text": [
            "Accuracy: 0.8996660305343502\n"
          ]
        },
        {
          "output_type": "stream",
          "name": "stderr",
          "text": [
            "Epoch 189/250. Iteration 262/262. Loss 0.02710: 100%|\u001b[32m██████████\u001b[0m| 262/262 [00:17<00:00, 15.08it/s]\n"
          ]
        },
        {
          "output_type": "stream",
          "name": "stdout",
          "text": [
            "Accuracy: 0.8738390585241725\n"
          ]
        },
        {
          "output_type": "stream",
          "name": "stderr",
          "text": [
            "Epoch 190/250. Iteration 262/262. Loss 0.02052: 100%|\u001b[32m██████████\u001b[0m| 262/262 [00:17<00:00, 14.83it/s]\n"
          ]
        },
        {
          "output_type": "stream",
          "name": "stdout",
          "text": [
            "Accuracy: 0.9023695928753175\n"
          ]
        },
        {
          "output_type": "stream",
          "name": "stderr",
          "text": [
            "Epoch 191/250. Iteration 262/262. Loss 0.09462: 100%|\u001b[32m██████████\u001b[0m| 262/262 [00:17<00:00, 15.19it/s]\n"
          ]
        },
        {
          "output_type": "stream",
          "name": "stdout",
          "text": [
            "Accuracy: 0.9033555979643757\n"
          ]
        },
        {
          "output_type": "stream",
          "name": "stderr",
          "text": [
            "Epoch 192/250. Iteration 262/262. Loss 0.24468: 100%|\u001b[32m██████████\u001b[0m| 262/262 [00:17<00:00, 15.32it/s]\n"
          ]
        },
        {
          "output_type": "stream",
          "name": "stdout",
          "text": [
            "Accuracy: 0.8903307888040705\n"
          ]
        },
        {
          "output_type": "stream",
          "name": "stderr",
          "text": [
            "Epoch 193/250. Iteration 262/262. Loss 0.11165: 100%|\u001b[32m██████████\u001b[0m| 262/262 [00:17<00:00, 15.33it/s]\n"
          ]
        },
        {
          "output_type": "stream",
          "name": "stdout",
          "text": [
            "Accuracy: 0.8719147582697196\n"
          ]
        },
        {
          "output_type": "stream",
          "name": "stderr",
          "text": [
            "Epoch 194/250. Iteration 262/262. Loss 0.28575: 100%|\u001b[32m██████████\u001b[0m| 262/262 [00:17<00:00, 15.14it/s]\n"
          ]
        },
        {
          "output_type": "stream",
          "name": "stdout",
          "text": [
            "Accuracy: 0.8973123409669206\n"
          ]
        },
        {
          "output_type": "stream",
          "name": "stderr",
          "text": [
            "Epoch 195/250. Iteration 262/262. Loss 0.06168: 100%|\u001b[32m██████████\u001b[0m| 262/262 [00:17<00:00, 15.35it/s]\n"
          ]
        },
        {
          "output_type": "stream",
          "name": "stdout",
          "text": [
            "Accuracy: 0.9186704834605591\n"
          ]
        },
        {
          "output_type": "stream",
          "name": "stderr",
          "text": [
            "Epoch 196/250. Iteration 262/262. Loss 0.10383: 100%|\u001b[32m██████████\u001b[0m| 262/262 [00:17<00:00, 15.30it/s]\n"
          ]
        },
        {
          "output_type": "stream",
          "name": "stdout",
          "text": [
            "Accuracy: 0.8948632315521617\n"
          ]
        },
        {
          "output_type": "stream",
          "name": "stderr",
          "text": [
            "Epoch 197/250. Iteration 262/262. Loss 0.23033: 100%|\u001b[32m██████████\u001b[0m| 262/262 [00:17<00:00, 15.34it/s]\n"
          ]
        },
        {
          "output_type": "stream",
          "name": "stdout",
          "text": [
            "Accuracy: 0.9149650127226459\n"
          ]
        },
        {
          "output_type": "stream",
          "name": "stderr",
          "text": [
            "Epoch 198/250. Iteration 262/262. Loss 0.06975: 100%|\u001b[32m██████████\u001b[0m| 262/262 [00:17<00:00, 15.25it/s]\n"
          ]
        },
        {
          "output_type": "stream",
          "name": "stdout",
          "text": [
            "Accuracy: 0.9143447837150115\n"
          ]
        },
        {
          "output_type": "stream",
          "name": "stderr",
          "text": [
            "Epoch 199/250. Iteration 262/262. Loss 0.01802: 100%|\u001b[32m██████████\u001b[0m| 262/262 [00:17<00:00, 15.34it/s]\n"
          ]
        },
        {
          "output_type": "stream",
          "name": "stdout",
          "text": [
            "Accuracy: 0.9176049618320602\n"
          ]
        },
        {
          "output_type": "stream",
          "name": "stderr",
          "text": [
            "Epoch 200/250. Iteration 262/262. Loss 0.19747: 100%|\u001b[32m██████████\u001b[0m| 262/262 [00:17<00:00, 15.16it/s]\n"
          ]
        },
        {
          "output_type": "stream",
          "name": "stdout",
          "text": [
            "Accuracy: 0.8694497455470735\n"
          ]
        },
        {
          "output_type": "stream",
          "name": "stderr",
          "text": [
            "Epoch 201/250. Iteration 262/262. Loss 0.06329: 100%|\u001b[32m██████████\u001b[0m| 262/262 [00:17<00:00, 15.17it/s]\n"
          ]
        },
        {
          "output_type": "stream",
          "name": "stdout",
          "text": [
            "Accuracy: 0.9238708651399482\n"
          ]
        },
        {
          "output_type": "stream",
          "name": "stderr",
          "text": [
            "Epoch 202/250. Iteration 262/262. Loss 0.18409: 100%|\u001b[32m██████████\u001b[0m| 262/262 [00:20<00:00, 12.61it/s]\n"
          ]
        },
        {
          "output_type": "stream",
          "name": "stdout",
          "text": [
            "Accuracy: 0.9189408396946552\n"
          ]
        },
        {
          "output_type": "stream",
          "name": "stderr",
          "text": [
            "Epoch 203/250. Iteration 262/262. Loss 0.08361: 100%|\u001b[32m██████████\u001b[0m| 262/262 [00:17<00:00, 15.22it/s]\n"
          ]
        },
        {
          "output_type": "stream",
          "name": "stdout",
          "text": [
            "Accuracy: 0.906456743002544\n"
          ]
        },
        {
          "output_type": "stream",
          "name": "stderr",
          "text": [
            "Epoch 204/250. Iteration 262/262. Loss 0.13617: 100%|\u001b[32m██████████\u001b[0m| 262/262 [00:17<00:00, 15.20it/s]\n"
          ]
        },
        {
          "output_type": "stream",
          "name": "stdout",
          "text": [
            "Accuracy: 0.8672073791348596\n"
          ]
        },
        {
          "output_type": "stream",
          "name": "stderr",
          "text": [
            "Epoch 205/250. Iteration 262/262. Loss 0.19413: 100%|\u001b[32m██████████\u001b[0m| 262/262 [00:18<00:00, 14.26it/s]\n"
          ]
        },
        {
          "output_type": "stream",
          "name": "stdout",
          "text": [
            "Accuracy: 0.9059955470737904\n"
          ]
        },
        {
          "output_type": "stream",
          "name": "stderr",
          "text": [
            "Epoch 206/250. Iteration 262/262. Loss 0.06755: 100%|\u001b[32m██████████\u001b[0m| 262/262 [00:17<00:00, 15.26it/s]\n"
          ]
        },
        {
          "output_type": "stream",
          "name": "stdout",
          "text": [
            "Accuracy: 0.9156806615776073\n"
          ]
        },
        {
          "output_type": "stream",
          "name": "stderr",
          "text": [
            "Epoch 207/250. Iteration 262/262. Loss 0.04666: 100%|\u001b[32m██████████\u001b[0m| 262/262 [00:17<00:00, 14.81it/s]\n"
          ]
        },
        {
          "output_type": "stream",
          "name": "stdout",
          "text": [
            "Accuracy: 0.9244274809160298\n"
          ]
        },
        {
          "output_type": "stream",
          "name": "stderr",
          "text": [
            "Epoch 208/250. Iteration 262/262. Loss 0.07779: 100%|\u001b[32m██████████\u001b[0m| 262/262 [00:17<00:00, 15.39it/s]\n"
          ]
        },
        {
          "output_type": "stream",
          "name": "stdout",
          "text": [
            "Accuracy: 0.9268129770992354\n"
          ]
        },
        {
          "output_type": "stream",
          "name": "stderr",
          "text": [
            "Epoch 209/250. Iteration 262/262. Loss 0.17073: 100%|\u001b[32m██████████\u001b[0m| 262/262 [00:17<00:00, 15.12it/s]\n"
          ]
        },
        {
          "output_type": "stream",
          "name": "stdout",
          "text": [
            "Accuracy: 0.9369910941475814\n"
          ]
        },
        {
          "output_type": "stream",
          "name": "stderr",
          "text": [
            "Epoch 210/250. Iteration 262/262. Loss 0.03241: 100%|\u001b[32m██████████\u001b[0m| 262/262 [00:16<00:00, 15.42it/s]\n"
          ]
        },
        {
          "output_type": "stream",
          "name": "stdout",
          "text": [
            "Accuracy: 0.9238708651399484\n"
          ]
        },
        {
          "output_type": "stream",
          "name": "stderr",
          "text": [
            "Epoch 211/250. Iteration 262/262. Loss 0.01549: 100%|\u001b[32m██████████\u001b[0m| 262/262 [00:17<00:00, 15.04it/s]\n"
          ]
        },
        {
          "output_type": "stream",
          "name": "stdout",
          "text": [
            "Accuracy: 0.9328244274809149\n"
          ]
        },
        {
          "output_type": "stream",
          "name": "stderr",
          "text": [
            "Epoch 212/250. Iteration 262/262. Loss 0.08905: 100%|\u001b[32m██████████\u001b[0m| 262/262 [00:17<00:00, 15.29it/s]\n"
          ]
        },
        {
          "output_type": "stream",
          "name": "stdout",
          "text": [
            "Accuracy: 0.9380407124681923\n"
          ]
        },
        {
          "output_type": "stream",
          "name": "stderr",
          "text": [
            "Epoch 213/250. Iteration 262/262. Loss 0.04913: 100%|\u001b[32m██████████\u001b[0m| 262/262 [00:17<00:00, 15.14it/s]\n"
          ]
        },
        {
          "output_type": "stream",
          "name": "stdout",
          "text": [
            "Accuracy: 0.941046437659032\n"
          ]
        },
        {
          "output_type": "stream",
          "name": "stderr",
          "text": [
            "Epoch 214/250. Iteration 262/262. Loss 0.03648: 100%|\u001b[32m██████████\u001b[0m| 262/262 [00:17<00:00, 14.72it/s]\n"
          ]
        },
        {
          "output_type": "stream",
          "name": "stdout",
          "text": [
            "Accuracy: 0.9385337150127218\n"
          ]
        },
        {
          "output_type": "stream",
          "name": "stderr",
          "text": [
            "Epoch 215/250. Iteration 262/262. Loss 0.21264: 100%|\u001b[32m██████████\u001b[0m| 262/262 [00:17<00:00, 14.86it/s]\n"
          ]
        },
        {
          "output_type": "stream",
          "name": "stdout",
          "text": [
            "Accuracy: 0.8746501272264632\n"
          ]
        },
        {
          "output_type": "stream",
          "name": "stderr",
          "text": [
            "Epoch 216/250. Iteration 262/262. Loss 0.03831: 100%|\u001b[32m██████████\u001b[0m| 262/262 [00:17<00:00, 15.05it/s]\n"
          ]
        },
        {
          "output_type": "stream",
          "name": "stdout",
          "text": [
            "Accuracy: 0.9344942748091594\n"
          ]
        },
        {
          "output_type": "stream",
          "name": "stderr",
          "text": [
            "Epoch 217/250. Iteration 262/262. Loss 0.10261: 100%|\u001b[32m██████████\u001b[0m| 262/262 [00:17<00:00, 15.16it/s]\n"
          ]
        },
        {
          "output_type": "stream",
          "name": "stdout",
          "text": [
            "Accuracy: 0.9383746819338412\n"
          ]
        },
        {
          "output_type": "stream",
          "name": "stderr",
          "text": [
            "Epoch 218/250. Iteration 262/262. Loss 0.11923: 100%|\u001b[32m██████████\u001b[0m| 262/262 [00:17<00:00, 15.18it/s]\n"
          ]
        },
        {
          "output_type": "stream",
          "name": "stdout",
          "text": [
            "Accuracy: 0.9431456743002538\n"
          ]
        },
        {
          "output_type": "stream",
          "name": "stderr",
          "text": [
            "Epoch 219/250. Iteration 262/262. Loss 0.02234: 100%|\u001b[32m██████████\u001b[0m| 262/262 [00:17<00:00, 15.11it/s]\n"
          ]
        },
        {
          "output_type": "stream",
          "name": "stdout",
          "text": [
            "Accuracy: 0.9492366412213725\n"
          ]
        },
        {
          "output_type": "stream",
          "name": "stderr",
          "text": [
            "Epoch 220/250. Iteration 262/262. Loss 0.05695: 100%|\u001b[32m██████████\u001b[0m| 262/262 [00:17<00:00, 15.06it/s]\n"
          ]
        },
        {
          "output_type": "stream",
          "name": "stdout",
          "text": [
            "Accuracy: 0.8999522900763353\n"
          ]
        },
        {
          "output_type": "stream",
          "name": "stderr",
          "text": [
            "Epoch 221/250. Iteration 262/262. Loss 0.02304: 100%|\u001b[32m██████████\u001b[0m| 262/262 [00:17<00:00, 15.12it/s]\n"
          ]
        },
        {
          "output_type": "stream",
          "name": "stdout",
          "text": [
            "Accuracy: 0.9468511450381669\n"
          ]
        },
        {
          "output_type": "stream",
          "name": "stderr",
          "text": [
            "Epoch 222/250. Iteration 262/262. Loss 0.05793: 100%|\u001b[32m██████████\u001b[0m| 262/262 [00:17<00:00, 15.27it/s]\n"
          ]
        },
        {
          "output_type": "stream",
          "name": "stdout",
          "text": [
            "Accuracy: 0.945419847328243\n"
          ]
        },
        {
          "output_type": "stream",
          "name": "stderr",
          "text": [
            "Epoch 223/250. Iteration 262/262. Loss 0.19319: 100%|\u001b[32m██████████\u001b[0m| 262/262 [00:17<00:00, 15.23it/s]\n"
          ]
        },
        {
          "output_type": "stream",
          "name": "stdout",
          "text": [
            "Accuracy: 0.954627862595419\n"
          ]
        },
        {
          "output_type": "stream",
          "name": "stderr",
          "text": [
            "Epoch 224/250. Iteration 262/262. Loss 0.02028: 100%|\u001b[32m██████████\u001b[0m| 262/262 [00:17<00:00, 15.25it/s]\n"
          ]
        },
        {
          "output_type": "stream",
          "name": "stdout",
          "text": [
            "Accuracy: 0.9111641221374037\n"
          ]
        },
        {
          "output_type": "stream",
          "name": "stderr",
          "text": [
            "Epoch 225/250. Iteration 262/262. Loss 0.03182: 100%|\u001b[32m██████████\u001b[0m| 262/262 [00:17<00:00, 15.03it/s]\n"
          ]
        },
        {
          "output_type": "stream",
          "name": "stdout",
          "text": [
            "Accuracy: 0.94731234096692\n"
          ]
        },
        {
          "output_type": "stream",
          "name": "stderr",
          "text": [
            "Epoch 226/250. Iteration 262/262. Loss 0.02497: 100%|\u001b[32m██████████\u001b[0m| 262/262 [00:17<00:00, 14.93it/s]\n"
          ]
        },
        {
          "output_type": "stream",
          "name": "stdout",
          "text": [
            "Accuracy: 0.9181933842239178\n"
          ]
        },
        {
          "output_type": "stream",
          "name": "stderr",
          "text": [
            "Epoch 227/250. Iteration 262/262. Loss 0.02680: 100%|\u001b[32m██████████\u001b[0m| 262/262 [00:17<00:00, 15.35it/s]\n"
          ]
        },
        {
          "output_type": "stream",
          "name": "stdout",
          "text": [
            "Accuracy: 0.9493479643765893\n"
          ]
        },
        {
          "output_type": "stream",
          "name": "stderr",
          "text": [
            "Epoch 228/250. Iteration 262/262. Loss 0.05012: 100%|\u001b[32m██████████\u001b[0m| 262/262 [00:17<00:00, 15.20it/s]\n"
          ]
        },
        {
          "output_type": "stream",
          "name": "stdout",
          "text": [
            "Accuracy: 0.9494751908396938\n"
          ]
        },
        {
          "output_type": "stream",
          "name": "stderr",
          "text": [
            "Epoch 229/250. Iteration 262/262. Loss 0.11271: 100%|\u001b[32m██████████\u001b[0m| 262/262 [00:17<00:00, 15.27it/s]\n"
          ]
        },
        {
          "output_type": "stream",
          "name": "stdout",
          "text": [
            "Accuracy: 0.9562659033078871\n"
          ]
        },
        {
          "output_type": "stream",
          "name": "stderr",
          "text": [
            "Epoch 230/250. Iteration 262/262. Loss 0.01571: 100%|\u001b[32m██████████\u001b[0m| 262/262 [00:17<00:00, 14.90it/s]\n"
          ]
        },
        {
          "output_type": "stream",
          "name": "stdout",
          "text": [
            "Accuracy: 0.9524491094147575\n"
          ]
        },
        {
          "output_type": "stream",
          "name": "stderr",
          "text": [
            "Epoch 231/250. Iteration 262/262. Loss 0.03687: 100%|\u001b[32m██████████\u001b[0m| 262/262 [00:17<00:00, 14.80it/s]\n"
          ]
        },
        {
          "output_type": "stream",
          "name": "stdout",
          "text": [
            "Accuracy: 0.9526717557251899\n"
          ]
        },
        {
          "output_type": "stream",
          "name": "stderr",
          "text": [
            "Epoch 232/250. Iteration 262/262. Loss 0.03324: 100%|\u001b[32m██████████\u001b[0m| 262/262 [00:17<00:00, 14.77it/s]\n"
          ]
        },
        {
          "output_type": "stream",
          "name": "stdout",
          "text": [
            "Accuracy: 0.9563136132315512\n"
          ]
        },
        {
          "output_type": "stream",
          "name": "stderr",
          "text": [
            "Epoch 233/250. Iteration 262/262. Loss 0.03476: 100%|\u001b[32m██████████\u001b[0m| 262/262 [00:17<00:00, 14.90it/s]\n"
          ]
        },
        {
          "output_type": "stream",
          "name": "stdout",
          "text": [
            "Accuracy: 0.9475826972010163\n"
          ]
        },
        {
          "output_type": "stream",
          "name": "stderr",
          "text": [
            "Epoch 234/250. Iteration 262/262. Loss 0.01711: 100%|\u001b[32m██████████\u001b[0m| 262/262 [00:17<00:00, 15.18it/s]\n"
          ]
        },
        {
          "output_type": "stream",
          "name": "stdout",
          "text": [
            "Accuracy: 0.9469624681933835\n"
          ]
        },
        {
          "output_type": "stream",
          "name": "stderr",
          "text": [
            "Epoch 235/250. Iteration 262/262. Loss 0.03491: 100%|\u001b[32m██████████\u001b[0m| 262/262 [00:17<00:00, 15.12it/s]\n"
          ]
        },
        {
          "output_type": "stream",
          "name": "stdout",
          "text": [
            "Accuracy: 0.9489503816793885\n"
          ]
        },
        {
          "output_type": "stream",
          "name": "stderr",
          "text": [
            "Epoch 236/250. Iteration 262/262. Loss 0.00792: 100%|\u001b[32m██████████\u001b[0m| 262/262 [00:17<00:00, 15.25it/s]\n"
          ]
        },
        {
          "output_type": "stream",
          "name": "stdout",
          "text": [
            "Accuracy: 0.9460559796437648\n"
          ]
        },
        {
          "output_type": "stream",
          "name": "stderr",
          "text": [
            "Epoch 237/250. Iteration 262/262. Loss 0.01583: 100%|\u001b[32m██████████\u001b[0m| 262/262 [00:17<00:00, 15.07it/s]\n"
          ]
        },
        {
          "output_type": "stream",
          "name": "stdout",
          "text": [
            "Accuracy: 0.9562499999999985\n"
          ]
        },
        {
          "output_type": "stream",
          "name": "stderr",
          "text": [
            "Epoch 238/250. Iteration 262/262. Loss 0.00092: 100%|\u001b[32m██████████\u001b[0m| 262/262 [00:17<00:00, 15.27it/s]\n"
          ]
        },
        {
          "output_type": "stream",
          "name": "stdout",
          "text": [
            "Accuracy: 0.9558365139949099\n"
          ]
        },
        {
          "output_type": "stream",
          "name": "stderr",
          "text": [
            "Epoch 239/250. Iteration 262/262. Loss 0.01373: 100%|\u001b[32m██████████\u001b[0m| 262/262 [00:17<00:00, 15.13it/s]\n"
          ]
        },
        {
          "output_type": "stream",
          "name": "stdout",
          "text": [
            "Accuracy: 0.9623091603053427\n"
          ]
        },
        {
          "output_type": "stream",
          "name": "stderr",
          "text": [
            "Epoch 240/250. Iteration 262/262. Loss 0.05079: 100%|\u001b[32m██████████\u001b[0m| 262/262 [00:17<00:00, 14.85it/s]\n"
          ]
        },
        {
          "output_type": "stream",
          "name": "stdout",
          "text": [
            "Accuracy: 0.9561227735368949\n"
          ]
        },
        {
          "output_type": "stream",
          "name": "stderr",
          "text": [
            "Epoch 241/250. Iteration 262/262. Loss 0.11872: 100%|\u001b[32m██████████\u001b[0m| 262/262 [00:17<00:00, 14.86it/s]\n"
          ]
        },
        {
          "output_type": "stream",
          "name": "stdout",
          "text": [
            "Accuracy: 0.9489662849872766\n"
          ]
        },
        {
          "output_type": "stream",
          "name": "stderr",
          "text": [
            "Epoch 242/250. Iteration 262/262. Loss 0.04530: 100%|\u001b[32m██████████\u001b[0m| 262/262 [00:17<00:00, 15.07it/s]\n"
          ]
        },
        {
          "output_type": "stream",
          "name": "stdout",
          "text": [
            "Accuracy: 0.9556933842239178\n"
          ]
        },
        {
          "output_type": "stream",
          "name": "stderr",
          "text": [
            "Epoch 243/250. Iteration 262/262. Loss 0.08032: 100%|\u001b[32m██████████\u001b[0m| 262/262 [00:17<00:00, 14.98it/s]\n"
          ]
        },
        {
          "output_type": "stream",
          "name": "stdout",
          "text": [
            "Accuracy: 0.9611959287531803\n"
          ]
        },
        {
          "output_type": "stream",
          "name": "stderr",
          "text": [
            "Epoch 244/250. Iteration 262/262. Loss 0.05071: 100%|\u001b[32m██████████\u001b[0m| 262/262 [00:17<00:00, 14.86it/s]\n"
          ]
        },
        {
          "output_type": "stream",
          "name": "stdout",
          "text": [
            "Accuracy: 0.9545642493638671\n"
          ]
        },
        {
          "output_type": "stream",
          "name": "stderr",
          "text": [
            "Epoch 245/250. Iteration 262/262. Loss 0.02897: 100%|\u001b[32m██████████\u001b[0m| 262/262 [00:17<00:00, 14.78it/s]\n"
          ]
        },
        {
          "output_type": "stream",
          "name": "stdout",
          "text": [
            "Accuracy: 0.9505407124681926\n"
          ]
        },
        {
          "output_type": "stream",
          "name": "stderr",
          "text": [
            "Epoch 246/250. Iteration 262/262. Loss 0.02431: 100%|\u001b[32m██████████\u001b[0m| 262/262 [00:17<00:00, 15.07it/s]\n"
          ]
        },
        {
          "output_type": "stream",
          "name": "stdout",
          "text": [
            "Accuracy: 0.9641380407124674\n"
          ]
        },
        {
          "output_type": "stream",
          "name": "stderr",
          "text": [
            "Epoch 247/250. Iteration 262/262. Loss 0.16571: 100%|\u001b[32m██████████\u001b[0m| 262/262 [00:17<00:00, 14.85it/s]\n"
          ]
        },
        {
          "output_type": "stream",
          "name": "stdout",
          "text": [
            "Accuracy: 0.9578403307888033\n"
          ]
        },
        {
          "output_type": "stream",
          "name": "stderr",
          "text": [
            "Epoch 248/250. Iteration 262/262. Loss 0.00944: 100%|\u001b[32m██████████\u001b[0m| 262/262 [00:17<00:00, 15.09it/s]\n"
          ]
        },
        {
          "output_type": "stream",
          "name": "stdout",
          "text": [
            "Accuracy: 0.9562977099236639\n"
          ]
        },
        {
          "output_type": "stream",
          "name": "stderr",
          "text": [
            "Epoch 249/250. Iteration 262/262. Loss 0.12386: 100%|\u001b[32m██████████\u001b[0m| 262/262 [00:17<00:00, 15.02it/s]\n"
          ]
        },
        {
          "output_type": "stream",
          "name": "stdout",
          "text": [
            "Accuracy: 0.9520038167938923\n"
          ]
        },
        {
          "output_type": "stream",
          "name": "stderr",
          "text": [
            "Epoch 250/250. Iteration 262/262. Loss 0.01448: 100%|\u001b[32m██████████\u001b[0m| 262/262 [00:18<00:00, 14.50it/s]\n"
          ]
        },
        {
          "output_type": "stream",
          "name": "stdout",
          "text": [
            "Accuracy: 0.9598759541984726\n"
          ]
        }
      ]
    },
    {
      "cell_type": "markdown",
      "source": [
        "## Evaluate on test set"
      ],
      "metadata": {
        "id": "7IaCRIe6w6FW"
      }
    },
    {
      "cell_type": "code",
      "source": [
        "model = torch.load('/content/drive/MyDrive/CS114/best_model.pth')\n",
        "model.eval()\n",
        "y_true = []\n",
        "y_pred = []\n",
        "progress_bar = tqdm(test_loader, colour='yellow')\n",
        "with torch.no_grad():\n",
        "    for iter, (texts, labels) in enumerate(progress_bar):\n",
        "        texts = texts.to(device)\n",
        "        labels = labels.to(dtype=torch.float).to(device)\n",
        "        outputs = np.array(model(texts).tolist())\n",
        "        y_pred.extend((outputs >= 0.5).astype(np.float32))\n",
        "        y_true.extend(labels.cpu().numpy())\n",
        "\n",
        "y_true = np.array(y_true)\n",
        "y_pred = np.array(y_pred)\n",
        "acc = accuracy(y_true, y_pred)\n",
        "\n",
        "print(f\"Accuracy: {acc}\")"
      ],
      "metadata": {
        "colab": {
          "base_uri": "https://localhost:8080/"
        },
        "id": "0v7bsW3Hw9Vb",
        "outputId": "fbb18cc4-9707-4d60-c0f3-724c331b19b0"
      },
      "execution_count": 16,
      "outputs": [
        {
          "output_type": "stream",
          "name": "stderr",
          "text": [
            "100%|\u001b[33m██████████\u001b[0m| 117/117 [00:01<00:00, 79.47it/s]"
          ]
        },
        {
          "output_type": "stream",
          "name": "stdout",
          "text": [
            "Accuracy: 0.22542735042735054\n"
          ]
        },
        {
          "output_type": "stream",
          "name": "stderr",
          "text": [
            "\n"
          ]
        }
      ]
    },
    {
      "cell_type": "markdown",
      "source": [
        "#Testing"
      ],
      "metadata": {
        "id": "W66nZ8oWd-Ia"
      }
    },
    {
      "cell_type": "code",
      "source": [
        "#load model\n",
        "model = torch.load('/content/drive/MyDrive/CS114/best_model.pth')\n",
        "print(model)"
      ],
      "metadata": {
        "id": "paYaqHPQ5NWB",
        "colab": {
          "base_uri": "https://localhost:8080/"
        },
        "outputId": "31910dc3-df63-4b4b-ca6b-2cb07e2a59d6"
      },
      "execution_count": 17,
      "outputs": [
        {
          "output_type": "stream",
          "name": "stdout",
          "text": [
            "HashtagRecommendation(\n",
            "  (word_embeddings): Embedding(2180, 100)\n",
            "  (lstm): GRU(100, 256, batch_first=True)\n",
            "  (fc1): Linear(in_features=256, out_features=128, bias=True)\n",
            "  (fc2): Linear(in_features=128, out_features=64, bias=True)\n",
            "  (fc3): Linear(in_features=64, out_features=9, bias=True)\n",
            "  (relu): ReLU()\n",
            "  (sigmoid): Sigmoid()\n",
            "  (dropout): Dropout(p=0.2, inplace=False)\n",
            ")\n"
          ]
        }
      ]
    },
    {
      "cell_type": "code",
      "source": [
        "sentence = input()"
      ],
      "metadata": {
        "id": "fCjrYMEAREUZ",
        "colab": {
          "base_uri": "https://localhost:8080/"
        },
        "outputId": "361a41c2-1f5e-47e3-e8c6-423334fdd81f"
      },
      "execution_count": 22,
      "outputs": [
        {
          "name": "stdout",
          "output_type": "stream",
          "text": [
            "giáo_trình và hướng_dẫn_giải bài_tập xác_suất thống_kê của bách_khoa hà_nội mình xin chia_sẻ với các bạn <number> quyển sách mình từng học học_kì thứ <number> tại đại_học bách_khoa hà_nội nhờ <number> quyển sách này mà sau_này khi học về data science và machine learning mình gần như_không phải ôn lại kiến_thức toán link to pdf\n"
          ]
        }
      ]
    },
    {
      "cell_type": "code",
      "source": [
        "# test = preprocessing(sentence)\n",
        "test = train_set.encode_text(sentence)\n",
        "test = ToTensor()(test)[None, :]\n",
        "test = test.to(device)\n",
        "pred = model(test)[0].tolist()\n",
        "pred = [train_set.classes[i] for i in range(len(pred)) if pred[i]>0.5]\n",
        "print(\"Predict label: \", *pred)"
      ],
      "metadata": {
        "colab": {
          "base_uri": "https://localhost:8080/"
        },
        "id": "EVh4eA44eAuH",
        "outputId": "ed6dfb24-a806-4ff0-8b48-df29d446780b"
      },
      "execution_count": 25,
      "outputs": [
        {
          "output_type": "stream",
          "name": "stdout",
          "text": [
            "Predict label:  #machine_learning #sharing\n"
          ]
        }
      ]
    }
  ]
}