{
  "nbformat": 4,
  "nbformat_minor": 0,
  "metadata": {
    "colab": {
      "provenance": [],
      "gpuType": "T4"
    },
    "kernelspec": {
      "name": "python3",
      "display_name": "Python 3"
    },
    "language_info": {
      "name": "python"
    },
    "accelerator": "GPU"
  },
  "cells": [
    {
      "cell_type": "code",
      "source": [
        "from google.colab import drive\n",
        "drive.mount('/content/drive')"
      ],
      "metadata": {
        "colab": {
          "base_uri": "https://localhost:8080/"
        },
        "id": "oaujuhxR34Jv",
        "outputId": "ddaf8af0-03fb-432a-ebd4-a24acdc7dc27"
      },
      "execution_count": 1,
      "outputs": [
        {
          "output_type": "stream",
          "name": "stdout",
          "text": [
            "Mounted at /content/drive\n"
          ]
        }
      ]
    },
    {
      "cell_type": "markdown",
      "source": [
        "## Download"
      ],
      "metadata": {
        "id": "if-7rsvSuyGZ"
      }
    },
    {
      "cell_type": "code",
      "source": [
        "!pip install pyvi"
      ],
      "metadata": {
        "colab": {
          "base_uri": "https://localhost:8080/"
        },
        "id": "-LHlaSTo8LX_",
        "outputId": "9fb93e01-135a-43af-a553-e07f2459feb0"
      },
      "execution_count": 2,
      "outputs": [
        {
          "output_type": "stream",
          "name": "stdout",
          "text": [
            "Collecting pyvi\n",
            "  Downloading pyvi-0.1.1-py2.py3-none-any.whl (8.5 MB)\n",
            "\u001b[2K     \u001b[90m━━━━━━━━━━━━━━━━━━━━━━━━━━━━━━━━━━━━━━━━\u001b[0m \u001b[32m8.5/8.5 MB\u001b[0m \u001b[31m40.6 MB/s\u001b[0m eta \u001b[36m0:00:00\u001b[0m\n",
            "\u001b[?25hRequirement already satisfied: scikit-learn in /usr/local/lib/python3.10/dist-packages (from pyvi) (1.2.2)\n",
            "Collecting sklearn-crfsuite (from pyvi)\n",
            "  Downloading sklearn_crfsuite-0.3.6-py2.py3-none-any.whl (12 kB)\n",
            "Requirement already satisfied: numpy>=1.17.3 in /usr/local/lib/python3.10/dist-packages (from scikit-learn->pyvi) (1.23.5)\n",
            "Requirement already satisfied: scipy>=1.3.2 in /usr/local/lib/python3.10/dist-packages (from scikit-learn->pyvi) (1.11.4)\n",
            "Requirement already satisfied: joblib>=1.1.1 in /usr/local/lib/python3.10/dist-packages (from scikit-learn->pyvi) (1.3.2)\n",
            "Requirement already satisfied: threadpoolctl>=2.0.0 in /usr/local/lib/python3.10/dist-packages (from scikit-learn->pyvi) (3.2.0)\n",
            "Collecting python-crfsuite>=0.8.3 (from sklearn-crfsuite->pyvi)\n",
            "  Downloading python_crfsuite-0.9.10-cp310-cp310-manylinux_2_17_x86_64.manylinux2014_x86_64.whl (1.1 MB)\n",
            "\u001b[2K     \u001b[90m━━━━━━━━━━━━━━━━━━━━━━━━━━━━━━━━━━━━━━━━\u001b[0m \u001b[32m1.1/1.1 MB\u001b[0m \u001b[31m61.2 MB/s\u001b[0m eta \u001b[36m0:00:00\u001b[0m\n",
            "\u001b[?25hRequirement already satisfied: six in /usr/local/lib/python3.10/dist-packages (from sklearn-crfsuite->pyvi) (1.16.0)\n",
            "Requirement already satisfied: tabulate in /usr/local/lib/python3.10/dist-packages (from sklearn-crfsuite->pyvi) (0.9.0)\n",
            "Requirement already satisfied: tqdm>=2.0 in /usr/local/lib/python3.10/dist-packages (from sklearn-crfsuite->pyvi) (4.66.1)\n",
            "Installing collected packages: python-crfsuite, sklearn-crfsuite, pyvi\n",
            "Successfully installed python-crfsuite-0.9.10 pyvi-0.1.1 sklearn-crfsuite-0.3.6\n"
          ]
        }
      ]
    },
    {
      "cell_type": "markdown",
      "source": [
        "## Import libraries"
      ],
      "metadata": {
        "id": "StKObUYmu2QG"
      }
    },
    {
      "cell_type": "code",
      "source": [
        "import re\n",
        "import ast\n",
        "import math\n",
        "import numpy as np\n",
        "import pandas as pd\n",
        "import torch\n",
        "import torch.nn as nn\n",
        "from tqdm import tqdm\n",
        "import torch.optim as optim\n",
        "from torch.optim import Adam\n",
        "from torchtext.transforms import ToTensor\n",
        "from torch.utils.data import Dataset, DataLoader\n",
        "import matplotlib.pyplot as plt\n",
        "from pyvi import ViTokenizer"
      ],
      "metadata": {
        "id": "LsIy8pyGiRkt"
      },
      "execution_count": 3,
      "outputs": []
    },
    {
      "cell_type": "markdown",
      "source": [
        "# pre-processing"
      ],
      "metadata": {
        "id": "xYoo07Zj8QFj"
      }
    },
    {
      "cell_type": "code",
      "source": [
        "def normalize(text):\n",
        "    t = text.replace('\\n', ' ')\n",
        "    t = t.lower()\n",
        "    return t\n",
        "\n",
        "def delete_hashtag(text):\n",
        "    return re.sub(r'#\\w+', '', text)\n",
        "\n",
        "def delete_link(text):\n",
        "    return re.sub(r'http\\S+', '', text)\n",
        "\n",
        "def remove_emojis(text):\n",
        "    emoj = re.compile(r\"\"\"[\\U0001F600-\\U0001F64F\\U0001F300-\\U0001F5FF\\U0001F680-\\U0001F6FF\\U0001F1E0-\\U0001F1FF\\U00002702-\\U000027B0\\U000024C2-\\U0001F251\\U0001f926-\\U0001f937\\U00010000-\\U0010ffff\\u200d\\u23cf\\u23e9\\u231a\\ufe0f\\u3030-]+(?<!\\n)\"\"\", re.UNICODE)\n",
        "    return re.sub(emoj, '', text)\n",
        "\n",
        "def encode_number(text):\n",
        "    t = text.split(' ')\n",
        "    t = map(lambda x: '<number>' if bool(re.match(r'^[0-9]+(\\.[0-9]+)?$', x)) else x, t)\n",
        "    return ' '.join(t)\n",
        "\n",
        "def delete_onelen_token(text):\n",
        "    t = text.split(' ')\n",
        "    t = filter(lambda x: len(x)>1, t)\n",
        "    return ' '.join(t)\n",
        "\n",
        "def preprocessing(text):\n",
        "    t = normalize(text)\n",
        "    t = delete_hashtag(t)\n",
        "    t = delete_link(t)\n",
        "    t = remove_emojis(t)\n",
        "    t = ViTokenizer.tokenize(t)\n",
        "    t = encode_number(t)\n",
        "    t = delete_onelen_token(t)\n",
        "    return t"
      ],
      "metadata": {
        "id": "n5dyW92A8IQJ"
      },
      "execution_count": 4,
      "outputs": []
    },
    {
      "cell_type": "markdown",
      "source": [
        "#Model and Training"
      ],
      "metadata": {
        "id": "jyVQgwEt8ZI3"
      }
    },
    {
      "cell_type": "code",
      "source": [
        "%cd /content/drive/MyDrive/CS114"
      ],
      "metadata": {
        "colab": {
          "base_uri": "https://localhost:8080/"
        },
        "id": "f-QKWrCn85R-",
        "outputId": "8904b862-fb1f-4932-e516-dabb0164c4e8"
      },
      "execution_count": 5,
      "outputs": [
        {
          "output_type": "stream",
          "name": "stdout",
          "text": [
            "/content/drive/.shortcut-targets-by-id/1Y8ECOyKvn31ywCsUN8dtq1YwMiMpEqep/CS114\n"
          ]
        }
      ]
    },
    {
      "cell_type": "markdown",
      "source": [
        "## Define class dataset"
      ],
      "metadata": {
        "id": "PSK34vy28oyy"
      }
    },
    {
      "cell_type": "code",
      "source": [
        "class HashTag_Dataset(Dataset):\n",
        "  def __init__(self, root, max_length=250):\n",
        "    super(HashTag_Dataset, self).__init__()\n",
        "    self.classes = ['#Q&A', '#cv', '#data', '#deep_learning', '#machine_learning', '#math', '#nlp', '#python', '#sharing']\n",
        "    text, labels = [], []\n",
        "\n",
        "    df = pd.read_csv(root, encoding='utf-8-sig')\n",
        "    texts = df['text']\n",
        "    labels = df[\"label\"]\n",
        "    self.texts = texts\n",
        "    self.labels = labels\n",
        "    self.vocab = self.make_vocab(texts)\n",
        "    self.max_length = max_length\n",
        "  def make_vocab(self, texts):\n",
        "    vocab = dict()\n",
        "    for text in texts:\n",
        "      words = text.split()\n",
        "      for word in words:\n",
        "        if word not in vocab:\n",
        "          vocab[word] = 1\n",
        "        else:\n",
        "          vocab[word] += 1\n",
        "    vocab = list(dict(filter(lambda x: x[1]>3, vocab.items())).keys())\n",
        "    vocab.append('<UNK>')\n",
        "    vocab.append('<PAD>')\n",
        "    return vocab\n",
        "  def encode_text(self, text):\n",
        "    words = text.split()\n",
        "    if len(words) > self.max_length:\n",
        "      words = words[:self.max_length]\n",
        "    else:\n",
        "      words += ['<PAD>']*(self.max_length-len(words))\n",
        "    enc = [self.vocab.index(w) if w in self.vocab else self.vocab.index('<UNK>') for w in words]\n",
        "    return enc\n",
        "  def encode_label(self, label):\n",
        "    enc = ast.literal_eval(label)\n",
        "    enc = [1 if l in enc else 0 for l in self.classes]\n",
        "    return enc\n",
        "  def __len__(self):\n",
        "    return len(self.labels)\n",
        "\n",
        "  def len_vocab(self):\n",
        "    return len(self.vocab)\n",
        "\n",
        "  def num_classes(self):\n",
        "    return len(self.classes)\n",
        "\n",
        "  def __getitem__(self, idx):\n",
        "    text = self.texts[idx]\n",
        "    label = self.labels[idx]\n",
        "    encode = self.encode_text(text)\n",
        "    label = self.encode_label(label)\n",
        "    encode = torch.tensor(encode, dtype=torch.long)\n",
        "    label = torch.tensor(label, dtype=torch.float32)\n",
        "    return encode, label"
      ],
      "metadata": {
        "id": "wvvOIVml8awq"
      },
      "execution_count": 32,
      "outputs": []
    },
    {
      "cell_type": "markdown",
      "source": [
        "## Create the model"
      ],
      "metadata": {
        "id": "e9aQW8j-vjmN"
      }
    },
    {
      "cell_type": "code",
      "source": [
        "class HashtagRecommendation(nn.Module):\n",
        "  def __init__(self, embedding_dim, hidden_dim, vocab_size, num_labels):\n",
        "    super(HashtagRecommendation, self).__init__()\n",
        "    self.word_embeddings = nn.Embedding(vocab_size, embedding_dim)\n",
        "    self.lstm = nn.LSTM(embedding_dim, hidden_dim, batch_first=True)\n",
        "    self.fc1 = nn.Linear(hidden_dim, 128)\n",
        "    self.fc2 = nn.Linear(128, 64)\n",
        "    self.fc3 = nn.Linear(64, num_labels)\n",
        "    self.relu = nn.ReLU()\n",
        "    self.sigmoid = nn.Sigmoid()\n",
        "    self.dropout = nn.Dropout(p=0.2)\n",
        "\n",
        "  def forward(self, sentence):\n",
        "    embeds = self.word_embeddings(sentence)\n",
        "    lstm_out, _ = self.lstm(embeds)\n",
        "    # Select the last output of LSTM layer\n",
        "    lstm_out = lstm_out[:, -1, :]\n",
        "    x = self.relu(self.fc1(lstm_out))\n",
        "    x = self.dropout(x)\n",
        "    x = self.relu(self.fc2(x))\n",
        "    x = self.dropout(x)\n",
        "    logits = self.fc3(x)\n",
        "    probs = self.sigmoid(logits)\n",
        "    return probs"
      ],
      "metadata": {
        "id": "xyAD52AnEpmV"
      },
      "execution_count": 33,
      "outputs": []
    },
    {
      "cell_type": "markdown",
      "source": [
        "# define metrics"
      ],
      "metadata": {
        "id": "o44RoMo44wt3"
      }
    },
    {
      "cell_type": "code",
      "source": [
        "def accuracy(y_true, y_pred):\n",
        "  temp = 0\n",
        "  for i in range(y_true.shape[0]):\n",
        "      temp += sum(np.logical_and(y_true[i], y_pred[i])) / sum(np.logical_or(y_true[i], y_pred[i]))\n",
        "  return temp / y_true.shape[0]\n",
        "def Recall(y_true, y_pred):\n",
        "  temp = 0\n",
        "  for i in range(y_true.shape[0]):\n",
        "      if sum(y_true[i]) == 0:\n",
        "          continue\n",
        "      temp+= sum(np.logical_and(y_true[i], y_pred[i]))/ sum(y_true[i])\n",
        "  return temp/ y_true.shape[0]\n",
        "def Precision(y_true, y_pred):\n",
        "  temp = 0\n",
        "  for i in range(y_true.shape[0]):\n",
        "      if sum(y_pred[i]) == 0:\n",
        "          continue\n",
        "      temp+= sum(np.logical_and(y_true[i], y_pred[i]))/ sum(y_pred[i])\n",
        "  return temp/ y_true.shape[0]\n",
        "def F1Measure(y_true, y_pred):\n",
        "  temp = 0\n",
        "  for i in range(y_true.shape[0]):\n",
        "      if (sum(y_true[i]) == 0) and (sum(y_pred[i]) == 0):\n",
        "          continue\n",
        "      temp+= (2*sum(np.logical_and(y_true[i], y_pred[i])))/ (sum(y_true[i])+sum(y_pred[i]))\n",
        "  return temp/ y_true.shape[0]"
      ],
      "metadata": {
        "id": "xNsY3tYR4yt4"
      },
      "execution_count": 34,
      "outputs": []
    },
    {
      "cell_type": "markdown",
      "source": [
        "# Training"
      ],
      "metadata": {
        "id": "3g2P0MKrH_bt"
      }
    },
    {
      "cell_type": "code",
      "source": [
        "train_set = HashTag_Dataset(root = \"train_data.csv\")\n",
        "test_set = HashTag_Dataset(root = \"test_data.csv\")\n",
        "test_loader = DataLoader(test_set, batch_size=2)\n",
        "train_loader = DataLoader(train_set, batch_size=2, shuffle=True, num_workers=2, drop_last=True)\n",
        "if torch.cuda.is_available():\n",
        "    device = 'cuda'\n",
        "else:\n",
        "    device = 'cpu'\n",
        "num_epochs = 300"
      ],
      "metadata": {
        "id": "jyL5Zt_cH-4v"
      },
      "execution_count": 40,
      "outputs": []
    },
    {
      "cell_type": "code",
      "source": [
        "model = HashtagRecommendation(embedding_dim=100,hidden_dim=256,num_labels=train_set.num_classes(), vocab_size=train_set.len_vocab())\n",
        "model = model.to(device)\n",
        "criterion = nn.BCELoss()\n",
        "optimizer = Adam(model.parameters(), lr=0.001)\n",
        "num_iters = len(train_loader)"
      ],
      "metadata": {
        "id": "vMQVkmd3IFoo"
      },
      "execution_count": 41,
      "outputs": []
    },
    {
      "cell_type": "code",
      "source": [
        "best_acc = 0\n",
        "trainingEpoch_loss = []\n",
        "for epoch in range(num_epochs):\n",
        "    model.train()\n",
        "    progress_bar = tqdm(train_loader, colour='green')\n",
        "    step_loss = []\n",
        "\n",
        "    for iter, (texts, labels) in enumerate(progress_bar):\n",
        "        texts = texts.to(device)\n",
        "        labels = labels.to(dtype=torch.float).to(device)\n",
        "\n",
        "        # forward\n",
        "        outputs = model(texts)\n",
        "        loss_value = criterion(outputs, labels)  # Find the loss\n",
        "\n",
        "        # backward\n",
        "        optimizer.zero_grad() # clear the gradients\n",
        "        loss_value.backward() # calculate gradients\n",
        "        optimizer.step() # update weights\n",
        "\n",
        "        # Calculate loss\n",
        "        progress_bar.set_description(\"Epoch {}/{}. Iteration {}/{}. Loss {:.5f}\".format(epoch+1, num_epochs, iter+1, num_iters, loss_value.item()))\n",
        "        step_loss.append(loss_value.item())\n",
        "    trainingEpoch_loss.append(np.array(step_loss).mean())\n",
        "\n",
        "    # evaluate\n",
        "    model.eval()\n",
        "    y_true = []\n",
        "    y_pred = []\n",
        "\n",
        "    with torch.no_grad():\n",
        "        for iter, (texts, labels) in enumerate(progress_bar):\n",
        "            texts = texts.to(device)\n",
        "            labels = labels.to(dtype=torch.float).to(device)\n",
        "            outputs = np.array(model(texts).tolist())\n",
        "            y_pred.extend((outputs >= 0.5).astype(np.float32))\n",
        "            y_true.extend(labels.cpu().numpy())\n",
        "\n",
        "    y_true = np.array(y_true)\n",
        "    y_pred = np.array(y_pred)\n",
        "    acc = accuracy(y_true, y_pred)\n",
        "\n",
        "    print(f\"Accuracy: {acc}\")\n",
        "\n",
        "    if acc > best_acc:\n",
        "        best_acc = acc\n",
        "        torch.save(model, '/content/drive/MyDrive/CS114/best1_model.pth')"
      ],
      "metadata": {
        "colab": {
          "base_uri": "https://localhost:8080/"
        },
        "id": "nfr0y9ojINq2",
        "outputId": "a5268648-b777-45ed-a6ae-4f003d953ee0"
      },
      "execution_count": 42,
      "outputs": [
        {
          "output_type": "stream",
          "name": "stderr",
          "text": [
            "Epoch 1/300. Iteration 524/524. Loss 0.27649: 100%|\u001b[32m██████████\u001b[0m| 524/524 [00:20<00:00, 25.50it/s]\n"
          ]
        },
        {
          "output_type": "stream",
          "name": "stdout",
          "text": [
            "Accuracy: 0.3652989821882946\n"
          ]
        },
        {
          "output_type": "stream",
          "name": "stderr",
          "text": [
            "Epoch 2/300. Iteration 524/524. Loss 0.40806: 100%|\u001b[32m██████████\u001b[0m| 524/524 [00:20<00:00, 25.86it/s]\n"
          ]
        },
        {
          "output_type": "stream",
          "name": "stdout",
          "text": [
            "Accuracy: 0.3652989821882949\n"
          ]
        },
        {
          "output_type": "stream",
          "name": "stderr",
          "text": [
            "Epoch 3/300. Iteration 524/524. Loss 0.34401: 100%|\u001b[32m██████████\u001b[0m| 524/524 [00:20<00:00, 25.22it/s]\n"
          ]
        },
        {
          "output_type": "stream",
          "name": "stdout",
          "text": [
            "Accuracy: 0.375954198473282\n"
          ]
        },
        {
          "output_type": "stream",
          "name": "stderr",
          "text": [
            "Epoch 4/300. Iteration 524/524. Loss 0.37269: 100%|\u001b[32m██████████\u001b[0m| 524/524 [00:20<00:00, 25.03it/s]\n"
          ]
        },
        {
          "output_type": "stream",
          "name": "stdout",
          "text": [
            "Accuracy: 0.377226463104325\n"
          ]
        },
        {
          "output_type": "stream",
          "name": "stderr",
          "text": [
            "Epoch 5/300. Iteration 524/524. Loss 0.39833: 100%|\u001b[32m██████████\u001b[0m| 524/524 [00:21<00:00, 24.55it/s]\n"
          ]
        },
        {
          "output_type": "stream",
          "name": "stdout",
          "text": [
            "Accuracy: 0.38056615776081376\n"
          ]
        },
        {
          "output_type": "stream",
          "name": "stderr",
          "text": [
            "Epoch 6/300. Iteration 524/524. Loss 0.56317: 100%|\u001b[32m██████████\u001b[0m| 524/524 [00:20<00:00, 26.04it/s]\n"
          ]
        },
        {
          "output_type": "stream",
          "name": "stdout",
          "text": [
            "Accuracy: 0.37865776081424907\n"
          ]
        },
        {
          "output_type": "stream",
          "name": "stderr",
          "text": [
            "Epoch 7/300. Iteration 524/524. Loss 0.47595: 100%|\u001b[32m██████████\u001b[0m| 524/524 [00:19<00:00, 26.42it/s]\n"
          ]
        },
        {
          "output_type": "stream",
          "name": "stdout",
          "text": [
            "Accuracy: 0.4999204834605589\n"
          ]
        },
        {
          "output_type": "stream",
          "name": "stderr",
          "text": [
            "Epoch 8/300. Iteration 524/524. Loss 0.24445: 100%|\u001b[32m██████████\u001b[0m| 524/524 [00:19<00:00, 26.31it/s]\n"
          ]
        },
        {
          "output_type": "stream",
          "name": "stdout",
          "text": [
            "Accuracy: 0.54309796437659\n"
          ]
        },
        {
          "output_type": "stream",
          "name": "stderr",
          "text": [
            "Epoch 9/300. Iteration 524/524. Loss 0.58357: 100%|\u001b[32m██████████\u001b[0m| 524/524 [00:19<00:00, 26.59it/s]\n"
          ]
        },
        {
          "output_type": "stream",
          "name": "stdout",
          "text": [
            "Accuracy: 0.5752226463104327\n"
          ]
        },
        {
          "output_type": "stream",
          "name": "stderr",
          "text": [
            "Epoch 10/300. Iteration 524/524. Loss 0.30446: 100%|\u001b[32m██████████\u001b[0m| 524/524 [00:20<00:00, 25.00it/s]\n"
          ]
        },
        {
          "output_type": "stream",
          "name": "stdout",
          "text": [
            "Accuracy: 0.5817430025445298\n"
          ]
        },
        {
          "output_type": "stream",
          "name": "stderr",
          "text": [
            "Epoch 11/300. Iteration 524/524. Loss 0.32891: 100%|\u001b[32m██████████\u001b[0m| 524/524 [00:21<00:00, 24.85it/s]\n"
          ]
        },
        {
          "output_type": "stream",
          "name": "stdout",
          "text": [
            "Accuracy: 0.5914440203562339\n"
          ]
        },
        {
          "output_type": "stream",
          "name": "stderr",
          "text": [
            "Epoch 12/300. Iteration 524/524. Loss 0.42373: 100%|\u001b[32m██████████\u001b[0m| 524/524 [00:20<00:00, 25.79it/s]\n"
          ]
        },
        {
          "output_type": "stream",
          "name": "stdout",
          "text": [
            "Accuracy: 0.5952608142493643\n"
          ]
        },
        {
          "output_type": "stream",
          "name": "stderr",
          "text": [
            "Epoch 13/300. Iteration 524/524. Loss 0.28149: 100%|\u001b[32m██████████\u001b[0m| 524/524 [00:20<00:00, 26.16it/s]\n"
          ]
        },
        {
          "output_type": "stream",
          "name": "stdout",
          "text": [
            "Accuracy: 0.596851145038168\n"
          ]
        },
        {
          "output_type": "stream",
          "name": "stderr",
          "text": [
            "Epoch 14/300. Iteration 524/524. Loss 0.09798: 100%|\u001b[32m██████████\u001b[0m| 524/524 [00:19<00:00, 26.69it/s]\n"
          ]
        },
        {
          "output_type": "stream",
          "name": "stdout",
          "text": [
            "Accuracy: 0.596533078880407\n"
          ]
        },
        {
          "output_type": "stream",
          "name": "stderr",
          "text": [
            "Epoch 15/300. Iteration 524/524. Loss 0.45651: 100%|\u001b[32m██████████\u001b[0m| 524/524 [00:19<00:00, 26.93it/s]\n"
          ]
        },
        {
          "output_type": "stream",
          "name": "stdout",
          "text": [
            "Accuracy: 0.5944656488549621\n"
          ]
        },
        {
          "output_type": "stream",
          "name": "stderr",
          "text": [
            "Epoch 16/300. Iteration 524/524. Loss 0.26489: 100%|\u001b[32m██████████\u001b[0m| 524/524 [00:19<00:00, 26.77it/s]\n"
          ]
        },
        {
          "output_type": "stream",
          "name": "stdout",
          "text": [
            "Accuracy: 0.6001908396946566\n"
          ]
        },
        {
          "output_type": "stream",
          "name": "stderr",
          "text": [
            "Epoch 17/300. Iteration 524/524. Loss 0.52951: 100%|\u001b[32m██████████\u001b[0m| 524/524 [00:21<00:00, 24.70it/s]\n"
          ]
        },
        {
          "output_type": "stream",
          "name": "stdout",
          "text": [
            "Accuracy: 0.601145038167939\n"
          ]
        },
        {
          "output_type": "stream",
          "name": "stderr",
          "text": [
            "Epoch 18/300. Iteration 524/524. Loss 0.35485: 100%|\u001b[32m██████████\u001b[0m| 524/524 [00:21<00:00, 24.75it/s]\n"
          ]
        },
        {
          "output_type": "stream",
          "name": "stdout",
          "text": [
            "Accuracy: 0.6009064885496183\n"
          ]
        },
        {
          "output_type": "stream",
          "name": "stderr",
          "text": [
            "Epoch 19/300. Iteration 524/524. Loss 0.38166: 100%|\u001b[32m██████████\u001b[0m| 524/524 [00:19<00:00, 26.35it/s]\n"
          ]
        },
        {
          "output_type": "stream",
          "name": "stdout",
          "text": [
            "Accuracy: 0.6046437659033084\n"
          ]
        },
        {
          "output_type": "stream",
          "name": "stderr",
          "text": [
            "Epoch 20/300. Iteration 524/524. Loss 0.45542: 100%|\u001b[32m██████████\u001b[0m| 524/524 [00:19<00:00, 26.57it/s]\n"
          ]
        },
        {
          "output_type": "stream",
          "name": "stdout",
          "text": [
            "Accuracy: 0.6048027989821885\n"
          ]
        },
        {
          "output_type": "stream",
          "name": "stderr",
          "text": [
            "Epoch 21/300. Iteration 524/524. Loss 0.28692: 100%|\u001b[32m██████████\u001b[0m| 524/524 [00:19<00:00, 26.63it/s]\n"
          ]
        },
        {
          "output_type": "stream",
          "name": "stdout",
          "text": [
            "Accuracy: 0.6060750636132322\n"
          ]
        },
        {
          "output_type": "stream",
          "name": "stderr",
          "text": [
            "Epoch 22/300. Iteration 524/524. Loss 0.27277: 100%|\u001b[32m██████████\u001b[0m| 524/524 [00:19<00:00, 26.44it/s]\n"
          ]
        },
        {
          "output_type": "stream",
          "name": "stdout",
          "text": [
            "Accuracy: 0.6027353689567433\n"
          ]
        },
        {
          "output_type": "stream",
          "name": "stderr",
          "text": [
            "Epoch 23/300. Iteration 524/524. Loss 0.22162: 100%|\u001b[32m██████████\u001b[0m| 524/524 [00:21<00:00, 24.76it/s]\n"
          ]
        },
        {
          "output_type": "stream",
          "name": "stdout",
          "text": [
            "Accuracy: 0.6073473282442748\n"
          ]
        },
        {
          "output_type": "stream",
          "name": "stderr",
          "text": [
            "Epoch 24/300. Iteration 524/524. Loss 0.48114: 100%|\u001b[32m██████████\u001b[0m| 524/524 [00:21<00:00, 24.95it/s]\n"
          ]
        },
        {
          "output_type": "stream",
          "name": "stdout",
          "text": [
            "Accuracy: 0.6087786259541988\n"
          ]
        },
        {
          "output_type": "stream",
          "name": "stderr",
          "text": [
            "Epoch 25/300. Iteration 524/524. Loss 0.29802: 100%|\u001b[32m██████████\u001b[0m| 524/524 [00:19<00:00, 26.54it/s]\n"
          ]
        },
        {
          "output_type": "stream",
          "name": "stdout",
          "text": [
            "Accuracy: 0.6086195928753185\n"
          ]
        },
        {
          "output_type": "stream",
          "name": "stderr",
          "text": [
            "Epoch 26/300. Iteration 524/524. Loss 0.38950: 100%|\u001b[32m██████████\u001b[0m| 524/524 [00:19<00:00, 26.26it/s]\n"
          ]
        },
        {
          "output_type": "stream",
          "name": "stdout",
          "text": [
            "Accuracy: 0.6119592875318072\n"
          ]
        },
        {
          "output_type": "stream",
          "name": "stderr",
          "text": [
            "Epoch 27/300. Iteration 524/524. Loss 0.12684: 100%|\u001b[32m██████████\u001b[0m| 524/524 [00:19<00:00, 26.27it/s]\n"
          ]
        },
        {
          "output_type": "stream",
          "name": "stdout",
          "text": [
            "Accuracy: 0.6106870229007636\n"
          ]
        },
        {
          "output_type": "stream",
          "name": "stderr",
          "text": [
            "Epoch 28/300. Iteration 524/524. Loss 0.27152: 100%|\u001b[32m██████████\u001b[0m| 524/524 [00:19<00:00, 26.61it/s]\n"
          ]
        },
        {
          "output_type": "stream",
          "name": "stdout",
          "text": [
            "Accuracy: 0.6133905852417306\n"
          ]
        },
        {
          "output_type": "stream",
          "name": "stderr",
          "text": [
            "Epoch 29/300. Iteration 524/524. Loss 0.31872: 100%|\u001b[32m██████████\u001b[0m| 524/524 [00:20<00:00, 25.36it/s]\n"
          ]
        },
        {
          "output_type": "stream",
          "name": "stdout",
          "text": [
            "Accuracy: 0.6157760814249363\n"
          ]
        },
        {
          "output_type": "stream",
          "name": "stderr",
          "text": [
            "Epoch 30/300. Iteration 524/524. Loss 0.31577: 100%|\u001b[32m██████████\u001b[0m| 524/524 [00:21<00:00, 24.36it/s]\n"
          ]
        },
        {
          "output_type": "stream",
          "name": "stdout",
          "text": [
            "Accuracy: 0.6132315521628504\n"
          ]
        },
        {
          "output_type": "stream",
          "name": "stderr",
          "text": [
            "Epoch 31/300. Iteration 524/524. Loss 0.63514: 100%|\u001b[32m██████████\u001b[0m| 524/524 [00:19<00:00, 26.25it/s]\n"
          ]
        },
        {
          "output_type": "stream",
          "name": "stdout",
          "text": [
            "Accuracy: 0.6130725190839696\n"
          ]
        },
        {
          "output_type": "stream",
          "name": "stderr",
          "text": [
            "Epoch 32/300. Iteration 524/524. Loss 0.40672: 100%|\u001b[32m██████████\u001b[0m| 524/524 [00:20<00:00, 26.09it/s]\n"
          ]
        },
        {
          "output_type": "stream",
          "name": "stdout",
          "text": [
            "Accuracy: 0.614026717557252\n"
          ]
        },
        {
          "output_type": "stream",
          "name": "stderr",
          "text": [
            "Epoch 33/300. Iteration 524/524. Loss 0.27628: 100%|\u001b[32m██████████\u001b[0m| 524/524 [00:19<00:00, 26.45it/s]\n"
          ]
        },
        {
          "output_type": "stream",
          "name": "stdout",
          "text": [
            "Accuracy: 0.6154580152671759\n"
          ]
        },
        {
          "output_type": "stream",
          "name": "stderr",
          "text": [
            "Epoch 34/300. Iteration 524/524. Loss 0.27042: 100%|\u001b[32m██████████\u001b[0m| 524/524 [00:20<00:00, 26.00it/s]\n"
          ]
        },
        {
          "output_type": "stream",
          "name": "stdout",
          "text": [
            "Accuracy: 0.6152989821882954\n"
          ]
        },
        {
          "output_type": "stream",
          "name": "stderr",
          "text": [
            "Epoch 35/300. Iteration 524/524. Loss 0.48848: 100%|\u001b[32m██████████\u001b[0m| 524/524 [00:21<00:00, 24.87it/s]\n"
          ]
        },
        {
          "output_type": "stream",
          "name": "stdout",
          "text": [
            "Accuracy: 0.6172073791348603\n"
          ]
        },
        {
          "output_type": "stream",
          "name": "stderr",
          "text": [
            "Epoch 36/300. Iteration 524/524. Loss 0.31342: 100%|\u001b[32m██████████\u001b[0m| 524/524 [00:21<00:00, 24.42it/s]\n"
          ]
        },
        {
          "output_type": "stream",
          "name": "stdout",
          "text": [
            "Accuracy: 0.6181615776081425\n"
          ]
        },
        {
          "output_type": "stream",
          "name": "stderr",
          "text": [
            "Epoch 37/300. Iteration 524/524. Loss 0.10883: 100%|\u001b[32m██████████\u001b[0m| 524/524 [00:19<00:00, 26.51it/s]\n"
          ]
        },
        {
          "output_type": "stream",
          "name": "stdout",
          "text": [
            "Accuracy: 0.6184796437659033\n"
          ]
        },
        {
          "output_type": "stream",
          "name": "stderr",
          "text": [
            "Epoch 38/300. Iteration 524/524. Loss 0.38757: 100%|\u001b[32m██████████\u001b[0m| 524/524 [00:19<00:00, 26.51it/s]\n"
          ]
        },
        {
          "output_type": "stream",
          "name": "stdout",
          "text": [
            "Accuracy: 0.6197519083969463\n"
          ]
        },
        {
          "output_type": "stream",
          "name": "stderr",
          "text": [
            "Epoch 39/300. Iteration 524/524. Loss 0.21006: 100%|\u001b[32m██████████\u001b[0m| 524/524 [00:19<00:00, 26.44it/s]\n"
          ]
        },
        {
          "output_type": "stream",
          "name": "stdout",
          "text": [
            "Accuracy: 0.6190362595419847\n"
          ]
        },
        {
          "output_type": "stream",
          "name": "stderr",
          "text": [
            "Epoch 40/300. Iteration 524/524. Loss 0.49733: 100%|\u001b[32m██████████\u001b[0m| 524/524 [00:19<00:00, 26.51it/s]\n"
          ]
        },
        {
          "output_type": "stream",
          "name": "stdout",
          "text": [
            "Accuracy: 0.6175254452926211\n"
          ]
        },
        {
          "output_type": "stream",
          "name": "stderr",
          "text": [
            "Epoch 41/300. Iteration 524/524. Loss 0.21082: 100%|\u001b[32m██████████\u001b[0m| 524/524 [00:19<00:00, 26.35it/s]\n"
          ]
        },
        {
          "output_type": "stream",
          "name": "stdout",
          "text": [
            "Accuracy: 0.6175254452926214\n"
          ]
        },
        {
          "output_type": "stream",
          "name": "stderr",
          "text": [
            "Epoch 42/300. Iteration 524/524. Loss 0.14692: 100%|\u001b[32m██████████\u001b[0m| 524/524 [00:21<00:00, 24.80it/s]\n"
          ]
        },
        {
          "output_type": "stream",
          "name": "stdout",
          "text": [
            "Accuracy: 0.6185591603053435\n"
          ]
        },
        {
          "output_type": "stream",
          "name": "stderr",
          "text": [
            "Epoch 43/300. Iteration 524/524. Loss 0.35580: 100%|\u001b[32m██████████\u001b[0m| 524/524 [00:21<00:00, 24.83it/s]\n"
          ]
        },
        {
          "output_type": "stream",
          "name": "stdout",
          "text": [
            "Accuracy: 0.6200699745547076\n"
          ]
        },
        {
          "output_type": "stream",
          "name": "stderr",
          "text": [
            "Epoch 44/300. Iteration 524/524. Loss 0.22775: 100%|\u001b[32m██████████\u001b[0m| 524/524 [00:20<00:00, 25.83it/s]\n"
          ]
        },
        {
          "output_type": "stream",
          "name": "stdout",
          "text": [
            "Accuracy: 0.6157760814249368\n"
          ]
        },
        {
          "output_type": "stream",
          "name": "stderr",
          "text": [
            "Epoch 45/300. Iteration 524/524. Loss 0.30602: 100%|\u001b[32m██████████\u001b[0m| 524/524 [00:19<00:00, 26.32it/s]\n"
          ]
        },
        {
          "output_type": "stream",
          "name": "stdout",
          "text": [
            "Accuracy: 0.6173664122137409\n"
          ]
        },
        {
          "output_type": "stream",
          "name": "stderr",
          "text": [
            "Epoch 46/300. Iteration 524/524. Loss 0.21157: 100%|\u001b[32m██████████\u001b[0m| 524/524 [00:19<00:00, 26.75it/s]\n"
          ]
        },
        {
          "output_type": "stream",
          "name": "stdout",
          "text": [
            "Accuracy: 0.6181615776081429\n"
          ]
        },
        {
          "output_type": "stream",
          "name": "stderr",
          "text": [
            "Epoch 47/300. Iteration 524/524. Loss 0.22393: 100%|\u001b[32m██████████\u001b[0m| 524/524 [00:19<00:00, 26.43it/s]\n"
          ]
        },
        {
          "output_type": "stream",
          "name": "stdout",
          "text": [
            "Accuracy: 0.6207061068702291\n"
          ]
        },
        {
          "output_type": "stream",
          "name": "stderr",
          "text": [
            "Epoch 48/300. Iteration 524/524. Loss 0.32107: 100%|\u001b[32m██████████\u001b[0m| 524/524 [00:19<00:00, 26.30it/s]\n"
          ]
        },
        {
          "output_type": "stream",
          "name": "stdout",
          "text": [
            "Accuracy: 0.6192748091603052\n"
          ]
        },
        {
          "output_type": "stream",
          "name": "stderr",
          "text": [
            "Epoch 49/300. Iteration 524/524. Loss 0.72155: 100%|\u001b[32m██████████\u001b[0m| 524/524 [00:21<00:00, 24.44it/s]\n"
          ]
        },
        {
          "output_type": "stream",
          "name": "stdout",
          "text": [
            "Accuracy: 0.6221374045801529\n"
          ]
        },
        {
          "output_type": "stream",
          "name": "stderr",
          "text": [
            "Epoch 50/300. Iteration 524/524. Loss 0.20564: 100%|\u001b[32m██████████\u001b[0m| 524/524 [00:20<00:00, 25.22it/s]\n"
          ]
        },
        {
          "output_type": "stream",
          "name": "stdout",
          "text": [
            "Accuracy: 0.6187977099236641\n"
          ]
        },
        {
          "output_type": "stream",
          "name": "stderr",
          "text": [
            "Epoch 51/300. Iteration 524/524. Loss 0.14509: 100%|\u001b[32m██████████\u001b[0m| 524/524 [00:19<00:00, 26.67it/s]\n"
          ]
        },
        {
          "output_type": "stream",
          "name": "stdout",
          "text": [
            "Accuracy: 0.6208651399491099\n"
          ]
        },
        {
          "output_type": "stream",
          "name": "stderr",
          "text": [
            "Epoch 52/300. Iteration 524/524. Loss 0.09192: 100%|\u001b[32m██████████\u001b[0m| 524/524 [00:19<00:00, 26.39it/s]\n"
          ]
        },
        {
          "output_type": "stream",
          "name": "stdout",
          "text": [
            "Accuracy: 0.6221374045801529\n"
          ]
        },
        {
          "output_type": "stream",
          "name": "stderr",
          "text": [
            "Epoch 53/300. Iteration 524/524. Loss 0.21732: 100%|\u001b[32m██████████\u001b[0m| 524/524 [00:19<00:00, 26.27it/s]\n"
          ]
        },
        {
          "output_type": "stream",
          "name": "stdout",
          "text": [
            "Accuracy: 0.6251590330788804\n"
          ]
        },
        {
          "output_type": "stream",
          "name": "stderr",
          "text": [
            "Epoch 54/300. Iteration 524/524. Loss 0.28225: 100%|\u001b[32m██████████\u001b[0m| 524/524 [00:19<00:00, 26.44it/s]\n"
          ]
        },
        {
          "output_type": "stream",
          "name": "stdout",
          "text": [
            "Accuracy: 0.6230916030534354\n"
          ]
        },
        {
          "output_type": "stream",
          "name": "stderr",
          "text": [
            "Epoch 55/300. Iteration 524/524. Loss 0.12045: 100%|\u001b[32m██████████\u001b[0m| 524/524 [00:20<00:00, 25.02it/s]\n"
          ]
        },
        {
          "output_type": "stream",
          "name": "stdout",
          "text": [
            "Accuracy: 0.6253180661577609\n"
          ]
        },
        {
          "output_type": "stream",
          "name": "stderr",
          "text": [
            "Epoch 56/300. Iteration 524/524. Loss 0.28065: 100%|\u001b[32m██████████\u001b[0m| 524/524 [00:21<00:00, 24.74it/s]\n"
          ]
        },
        {
          "output_type": "stream",
          "name": "stdout",
          "text": [
            "Accuracy: 0.6241253180661581\n"
          ]
        },
        {
          "output_type": "stream",
          "name": "stderr",
          "text": [
            "Epoch 57/300. Iteration 524/524. Loss 0.31162: 100%|\u001b[32m██████████\u001b[0m| 524/524 [00:20<00:00, 25.98it/s]\n"
          ]
        },
        {
          "output_type": "stream",
          "name": "stdout",
          "text": [
            "Accuracy: 0.6423505089058522\n"
          ]
        },
        {
          "output_type": "stream",
          "name": "stderr",
          "text": [
            "Epoch 58/300. Iteration 524/524. Loss 0.01612: 100%|\u001b[32m██████████\u001b[0m| 524/524 [00:20<00:00, 26.17it/s]\n"
          ]
        },
        {
          "output_type": "stream",
          "name": "stdout",
          "text": [
            "Accuracy: 0.6329516539440209\n"
          ]
        },
        {
          "output_type": "stream",
          "name": "stderr",
          "text": [
            "Epoch 59/300. Iteration 524/524. Loss 0.21576: 100%|\u001b[32m██████████\u001b[0m| 524/524 [00:19<00:00, 26.58it/s]\n"
          ]
        },
        {
          "output_type": "stream",
          "name": "stdout",
          "text": [
            "Accuracy: 0.6524332061068708\n"
          ]
        },
        {
          "output_type": "stream",
          "name": "stderr",
          "text": [
            "Epoch 60/300. Iteration 524/524. Loss 0.34255: 100%|\u001b[32m██████████\u001b[0m| 524/524 [00:19<00:00, 26.45it/s]\n"
          ]
        },
        {
          "output_type": "stream",
          "name": "stdout",
          "text": [
            "Accuracy: 0.6455947837150132\n"
          ]
        },
        {
          "output_type": "stream",
          "name": "stderr",
          "text": [
            "Epoch 61/300. Iteration 524/524. Loss 0.23840: 100%|\u001b[32m██████████\u001b[0m| 524/524 [00:19<00:00, 26.31it/s]\n"
          ]
        },
        {
          "output_type": "stream",
          "name": "stdout",
          "text": [
            "Accuracy: 0.6289758269720104\n"
          ]
        },
        {
          "output_type": "stream",
          "name": "stderr",
          "text": [
            "Epoch 62/300. Iteration 524/524. Loss 0.17606: 100%|\u001b[32m██████████\u001b[0m| 524/524 [00:20<00:00, 24.96it/s]\n"
          ]
        },
        {
          "output_type": "stream",
          "name": "stdout",
          "text": [
            "Accuracy: 0.6510973282442756\n"
          ]
        },
        {
          "output_type": "stream",
          "name": "stderr",
          "text": [
            "Epoch 63/300. Iteration 524/524. Loss 0.16197: 100%|\u001b[32m██████████\u001b[0m| 524/524 [00:21<00:00, 24.77it/s]\n"
          ]
        },
        {
          "output_type": "stream",
          "name": "stdout",
          "text": [
            "Accuracy: 0.6561863867684481\n"
          ]
        },
        {
          "output_type": "stream",
          "name": "stderr",
          "text": [
            "Epoch 64/300. Iteration 524/524. Loss 0.22703: 100%|\u001b[32m██████████\u001b[0m| 524/524 [00:20<00:00, 25.52it/s]\n"
          ]
        },
        {
          "output_type": "stream",
          "name": "stdout",
          "text": [
            "Accuracy: 0.6522264631043262\n"
          ]
        },
        {
          "output_type": "stream",
          "name": "stderr",
          "text": [
            "Epoch 65/300. Iteration 524/524. Loss 0.07750: 100%|\u001b[32m██████████\u001b[0m| 524/524 [00:20<00:00, 25.53it/s]\n"
          ]
        },
        {
          "output_type": "stream",
          "name": "stdout",
          "text": [
            "Accuracy: 0.6517970737913489\n"
          ]
        },
        {
          "output_type": "stream",
          "name": "stderr",
          "text": [
            "Epoch 66/300. Iteration 524/524. Loss 0.16795: 100%|\u001b[32m██████████\u001b[0m| 524/524 [00:20<00:00, 25.74it/s]\n"
          ]
        },
        {
          "output_type": "stream",
          "name": "stdout",
          "text": [
            "Accuracy: 0.6660305343511456\n"
          ]
        },
        {
          "output_type": "stream",
          "name": "stderr",
          "text": [
            "Epoch 67/300. Iteration 524/524. Loss 0.11393: 100%|\u001b[32m██████████\u001b[0m| 524/524 [00:19<00:00, 26.29it/s]\n"
          ]
        },
        {
          "output_type": "stream",
          "name": "stdout",
          "text": [
            "Accuracy: 0.6744592875318064\n"
          ]
        },
        {
          "output_type": "stream",
          "name": "stderr",
          "text": [
            "Epoch 68/300. Iteration 524/524. Loss 0.09371: 100%|\u001b[32m██████████\u001b[0m| 524/524 [00:21<00:00, 24.07it/s]\n"
          ]
        },
        {
          "output_type": "stream",
          "name": "stdout",
          "text": [
            "Accuracy: 0.6794688295165399\n"
          ]
        },
        {
          "output_type": "stream",
          "name": "stderr",
          "text": [
            "Epoch 69/300. Iteration 524/524. Loss 0.41173: 100%|\u001b[32m██████████\u001b[0m| 524/524 [00:21<00:00, 24.55it/s]\n"
          ]
        },
        {
          "output_type": "stream",
          "name": "stdout",
          "text": [
            "Accuracy: 0.6575222646310437\n"
          ]
        },
        {
          "output_type": "stream",
          "name": "stderr",
          "text": [
            "Epoch 70/300. Iteration 524/524. Loss 0.11205: 100%|\u001b[32m██████████\u001b[0m| 524/524 [00:20<00:00, 25.98it/s]\n"
          ]
        },
        {
          "output_type": "stream",
          "name": "stdout",
          "text": [
            "Accuracy: 0.6625318066157769\n"
          ]
        },
        {
          "output_type": "stream",
          "name": "stderr",
          "text": [
            "Epoch 71/300. Iteration 524/524. Loss 0.15559: 100%|\u001b[32m██████████\u001b[0m| 524/524 [00:20<00:00, 26.15it/s]\n"
          ]
        },
        {
          "output_type": "stream",
          "name": "stdout",
          "text": [
            "Accuracy: 0.6712786259541987\n"
          ]
        },
        {
          "output_type": "stream",
          "name": "stderr",
          "text": [
            "Epoch 72/300. Iteration 524/524. Loss 0.27216: 100%|\u001b[32m██████████\u001b[0m| 524/524 [00:19<00:00, 26.44it/s]\n"
          ]
        },
        {
          "output_type": "stream",
          "name": "stdout",
          "text": [
            "Accuracy: 0.6587945292620867\n"
          ]
        },
        {
          "output_type": "stream",
          "name": "stderr",
          "text": [
            "Epoch 73/300. Iteration 524/524. Loss 0.16593: 100%|\u001b[32m██████████\u001b[0m| 524/524 [00:19<00:00, 26.31it/s]\n"
          ]
        },
        {
          "output_type": "stream",
          "name": "stdout",
          "text": [
            "Accuracy: 0.6778784987277359\n"
          ]
        },
        {
          "output_type": "stream",
          "name": "stderr",
          "text": [
            "Epoch 74/300. Iteration 524/524. Loss 0.12722: 100%|\u001b[32m██████████\u001b[0m| 524/524 [00:21<00:00, 24.44it/s]\n"
          ]
        },
        {
          "output_type": "stream",
          "name": "stdout",
          "text": [
            "Accuracy: 0.6626908396946574\n"
          ]
        },
        {
          "output_type": "stream",
          "name": "stderr",
          "text": [
            "Epoch 75/300. Iteration 524/524. Loss 0.36400: 100%|\u001b[32m██████████\u001b[0m| 524/524 [00:21<00:00, 24.14it/s]\n"
          ]
        },
        {
          "output_type": "stream",
          "name": "stdout",
          "text": [
            "Accuracy: 0.6683365139949112\n"
          ]
        },
        {
          "output_type": "stream",
          "name": "stderr",
          "text": [
            "Epoch 76/300. Iteration 524/524. Loss 0.26212: 100%|\u001b[32m██████████\u001b[0m| 524/524 [00:20<00:00, 25.79it/s]\n"
          ]
        },
        {
          "output_type": "stream",
          "name": "stdout",
          "text": [
            "Accuracy: 0.6822837150127229\n"
          ]
        },
        {
          "output_type": "stream",
          "name": "stderr",
          "text": [
            "Epoch 77/300. Iteration 524/524. Loss 0.12285: 100%|\u001b[32m██████████\u001b[0m| 524/524 [00:20<00:00, 25.87it/s]\n"
          ]
        },
        {
          "output_type": "stream",
          "name": "stdout",
          "text": [
            "Accuracy: 0.693543256997456\n"
          ]
        },
        {
          "output_type": "stream",
          "name": "stderr",
          "text": [
            "Epoch 78/300. Iteration 524/524. Loss 0.07629: 100%|\u001b[32m██████████\u001b[0m| 524/524 [00:19<00:00, 26.27it/s]\n"
          ]
        },
        {
          "output_type": "stream",
          "name": "stdout",
          "text": [
            "Accuracy: 0.7054707379134867\n"
          ]
        },
        {
          "output_type": "stream",
          "name": "stderr",
          "text": [
            "Epoch 79/300. Iteration 524/524. Loss 0.15165: 100%|\u001b[32m██████████\u001b[0m| 524/524 [00:19<00:00, 26.33it/s]\n"
          ]
        },
        {
          "output_type": "stream",
          "name": "stdout",
          "text": [
            "Accuracy: 0.7045165394402031\n"
          ]
        },
        {
          "output_type": "stream",
          "name": "stderr",
          "text": [
            "Epoch 80/300. Iteration 524/524. Loss 0.41660: 100%|\u001b[32m██████████\u001b[0m| 524/524 [00:21<00:00, 24.94it/s]\n"
          ]
        },
        {
          "output_type": "stream",
          "name": "stdout",
          "text": [
            "Accuracy: 0.6940203562340969\n"
          ]
        },
        {
          "output_type": "stream",
          "name": "stderr",
          "text": [
            "Epoch 81/300. Iteration 524/524. Loss 0.19651: 100%|\u001b[32m██████████\u001b[0m| 524/524 [00:21<00:00, 24.25it/s]\n"
          ]
        },
        {
          "output_type": "stream",
          "name": "stdout",
          "text": [
            "Accuracy: 0.7204993638676845\n"
          ]
        },
        {
          "output_type": "stream",
          "name": "stderr",
          "text": [
            "Epoch 82/300. Iteration 524/524. Loss 0.16030: 100%|\u001b[32m██████████\u001b[0m| 524/524 [00:20<00:00, 25.29it/s]\n"
          ]
        },
        {
          "output_type": "stream",
          "name": "stdout",
          "text": [
            "Accuracy: 0.7045960559796436\n"
          ]
        },
        {
          "output_type": "stream",
          "name": "stderr",
          "text": [
            "Epoch 83/300. Iteration 524/524. Loss 0.22075: 100%|\u001b[32m██████████\u001b[0m| 524/524 [00:20<00:00, 26.06it/s]\n"
          ]
        },
        {
          "output_type": "stream",
          "name": "stdout",
          "text": [
            "Accuracy: 0.7239980916030533\n"
          ]
        },
        {
          "output_type": "stream",
          "name": "stderr",
          "text": [
            "Epoch 84/300. Iteration 524/524. Loss 0.24026: 100%|\u001b[32m██████████\u001b[0m| 524/524 [00:20<00:00, 25.76it/s]\n"
          ]
        },
        {
          "output_type": "stream",
          "name": "stdout",
          "text": [
            "Accuracy: 0.7098441475826974\n"
          ]
        },
        {
          "output_type": "stream",
          "name": "stderr",
          "text": [
            "Epoch 85/300. Iteration 524/524. Loss 0.13305: 100%|\u001b[32m██████████\u001b[0m| 524/524 [00:20<00:00, 25.95it/s]\n"
          ]
        },
        {
          "output_type": "stream",
          "name": "stdout",
          "text": [
            "Accuracy: 0.7014949109414768\n"
          ]
        },
        {
          "output_type": "stream",
          "name": "stderr",
          "text": [
            "Epoch 86/300. Iteration 524/524. Loss 0.09179: 100%|\u001b[32m██████████\u001b[0m| 524/524 [00:20<00:00, 25.73it/s]\n"
          ]
        },
        {
          "output_type": "stream",
          "name": "stdout",
          "text": [
            "Accuracy: 0.70316475826972\n"
          ]
        },
        {
          "output_type": "stream",
          "name": "stderr",
          "text": [
            "Epoch 87/300. Iteration 524/524. Loss 0.09960: 100%|\u001b[32m██████████\u001b[0m| 524/524 [00:22<00:00, 23.63it/s]\n"
          ]
        },
        {
          "output_type": "stream",
          "name": "stdout",
          "text": [
            "Accuracy: 0.7238390585241731\n"
          ]
        },
        {
          "output_type": "stream",
          "name": "stderr",
          "text": [
            "Epoch 88/300. Iteration 524/524. Loss 0.17723: 100%|\u001b[32m██████████\u001b[0m| 524/524 [00:20<00:00, 25.02it/s]\n"
          ]
        },
        {
          "output_type": "stream",
          "name": "stdout",
          "text": [
            "Accuracy: 0.7229643765903312\n"
          ]
        },
        {
          "output_type": "stream",
          "name": "stderr",
          "text": [
            "Epoch 89/300. Iteration 524/524. Loss 0.30002: 100%|\u001b[32m██████████\u001b[0m| 524/524 [00:20<00:00, 25.96it/s]\n"
          ]
        },
        {
          "output_type": "stream",
          "name": "stdout",
          "text": [
            "Accuracy: 0.7410941475826973\n"
          ]
        },
        {
          "output_type": "stream",
          "name": "stderr",
          "text": [
            "Epoch 90/300. Iteration 524/524. Loss 0.08809: 100%|\u001b[32m██████████\u001b[0m| 524/524 [00:20<00:00, 26.16it/s]\n"
          ]
        },
        {
          "output_type": "stream",
          "name": "stdout",
          "text": [
            "Accuracy: 0.7360050890585241\n"
          ]
        },
        {
          "output_type": "stream",
          "name": "stderr",
          "text": [
            "Epoch 91/300. Iteration 524/524. Loss 0.21610: 100%|\u001b[32m██████████\u001b[0m| 524/524 [00:20<00:00, 26.09it/s]\n"
          ]
        },
        {
          "output_type": "stream",
          "name": "stdout",
          "text": [
            "Accuracy: 0.7453880407124679\n"
          ]
        },
        {
          "output_type": "stream",
          "name": "stderr",
          "text": [
            "Epoch 92/300. Iteration 524/524. Loss 0.22252: 100%|\u001b[32m██████████\u001b[0m| 524/524 [00:20<00:00, 26.09it/s]\n"
          ]
        },
        {
          "output_type": "stream",
          "name": "stdout",
          "text": [
            "Accuracy: 0.7216125954198481\n"
          ]
        },
        {
          "output_type": "stream",
          "name": "stderr",
          "text": [
            "Epoch 93/300. Iteration 524/524. Loss 0.24184: 100%|\u001b[32m██████████\u001b[0m| 524/524 [00:21<00:00, 23.89it/s]\n"
          ]
        },
        {
          "output_type": "stream",
          "name": "stdout",
          "text": [
            "Accuracy: 0.7295642493638674\n"
          ]
        },
        {
          "output_type": "stream",
          "name": "stderr",
          "text": [
            "Epoch 94/300. Iteration 524/524. Loss 0.05508: 100%|\u001b[32m██████████\u001b[0m| 524/524 [00:21<00:00, 24.57it/s]\n"
          ]
        },
        {
          "output_type": "stream",
          "name": "stdout",
          "text": [
            "Accuracy: 0.7499204834605598\n"
          ]
        },
        {
          "output_type": "stream",
          "name": "stderr",
          "text": [
            "Epoch 95/300. Iteration 524/524. Loss 0.06817: 100%|\u001b[32m██████████\u001b[0m| 524/524 [00:20<00:00, 26.16it/s]\n"
          ]
        },
        {
          "output_type": "stream",
          "name": "stdout",
          "text": [
            "Accuracy: 0.7441952926208659\n"
          ]
        },
        {
          "output_type": "stream",
          "name": "stderr",
          "text": [
            "Epoch 96/300. Iteration 524/524. Loss 0.30951: 100%|\u001b[32m██████████\u001b[0m| 524/524 [00:20<00:00, 26.04it/s]\n"
          ]
        },
        {
          "output_type": "stream",
          "name": "stdout",
          "text": [
            "Accuracy: 0.7478530534351147\n"
          ]
        },
        {
          "output_type": "stream",
          "name": "stderr",
          "text": [
            "Epoch 97/300. Iteration 524/524. Loss 0.12015: 100%|\u001b[32m██████████\u001b[0m| 524/524 [00:20<00:00, 26.04it/s]\n"
          ]
        },
        {
          "output_type": "stream",
          "name": "stdout",
          "text": [
            "Accuracy: 0.7653466921119592\n"
          ]
        },
        {
          "output_type": "stream",
          "name": "stderr",
          "text": [
            "Epoch 98/300. Iteration 524/524. Loss 0.14081: 100%|\u001b[32m██████████\u001b[0m| 524/524 [00:20<00:00, 25.94it/s]\n"
          ]
        },
        {
          "output_type": "stream",
          "name": "stdout",
          "text": [
            "Accuracy: 0.7597805343511455\n"
          ]
        },
        {
          "output_type": "stream",
          "name": "stderr",
          "text": [
            "Epoch 99/300. Iteration 524/524. Loss 0.16229: 100%|\u001b[32m██████████\u001b[0m| 524/524 [00:21<00:00, 24.33it/s]\n"
          ]
        },
        {
          "output_type": "stream",
          "name": "stdout",
          "text": [
            "Accuracy: 0.7402830788804068\n"
          ]
        },
        {
          "output_type": "stream",
          "name": "stderr",
          "text": [
            "Epoch 100/300. Iteration 524/524. Loss 0.10439: 100%|\u001b[32m██████████\u001b[0m| 524/524 [00:21<00:00, 24.40it/s]\n"
          ]
        },
        {
          "output_type": "stream",
          "name": "stdout",
          "text": [
            "Accuracy: 0.7567589058524167\n"
          ]
        },
        {
          "output_type": "stream",
          "name": "stderr",
          "text": [
            "Epoch 101/300. Iteration 524/524. Loss 0.14083: 100%|\u001b[32m██████████\u001b[0m| 524/524 [00:20<00:00, 25.99it/s]\n"
          ]
        },
        {
          "output_type": "stream",
          "name": "stdout",
          "text": [
            "Accuracy: 0.7464217557251918\n"
          ]
        },
        {
          "output_type": "stream",
          "name": "stderr",
          "text": [
            "Epoch 102/300. Iteration 524/524. Loss 0.00711: 100%|\u001b[32m██████████\u001b[0m| 524/524 [00:19<00:00, 26.41it/s]\n"
          ]
        },
        {
          "output_type": "stream",
          "name": "stdout",
          "text": [
            "Accuracy: 0.7645515267175571\n"
          ]
        },
        {
          "output_type": "stream",
          "name": "stderr",
          "text": [
            "Epoch 103/300. Iteration 524/524. Loss 0.36945: 100%|\u001b[32m██████████\u001b[0m| 524/524 [00:20<00:00, 26.01it/s]\n"
          ]
        },
        {
          "output_type": "stream",
          "name": "stdout",
          "text": [
            "Accuracy: 0.7512722646310441\n"
          ]
        },
        {
          "output_type": "stream",
          "name": "stderr",
          "text": [
            "Epoch 104/300. Iteration 524/524. Loss 0.10121: 100%|\u001b[32m██████████\u001b[0m| 524/524 [00:20<00:00, 26.17it/s]\n"
          ]
        },
        {
          "output_type": "stream",
          "name": "stdout",
          "text": [
            "Accuracy: 0.781965648854961\n"
          ]
        },
        {
          "output_type": "stream",
          "name": "stderr",
          "text": [
            "Epoch 105/300. Iteration 524/524. Loss 0.63250: 100%|\u001b[32m██████████\u001b[0m| 524/524 [00:20<00:00, 25.40it/s]\n"
          ]
        },
        {
          "output_type": "stream",
          "name": "stdout",
          "text": [
            "Accuracy: 0.7694020356234095\n"
          ]
        },
        {
          "output_type": "stream",
          "name": "stderr",
          "text": [
            "Epoch 106/300. Iteration 524/524. Loss 0.02765: 100%|\u001b[32m██████████\u001b[0m| 524/524 [00:21<00:00, 24.09it/s]\n"
          ]
        },
        {
          "output_type": "stream",
          "name": "stdout",
          "text": [
            "Accuracy: 0.7768765903307887\n"
          ]
        },
        {
          "output_type": "stream",
          "name": "stderr",
          "text": [
            "Epoch 107/300. Iteration 524/524. Loss 0.15943: 100%|\u001b[32m██████████\u001b[0m| 524/524 [00:21<00:00, 24.54it/s]\n"
          ]
        },
        {
          "output_type": "stream",
          "name": "stdout",
          "text": [
            "Accuracy: 0.7838740458015265\n"
          ]
        },
        {
          "output_type": "stream",
          "name": "stderr",
          "text": [
            "Epoch 108/300. Iteration 524/524. Loss 0.05100: 100%|\u001b[32m██████████\u001b[0m| 524/524 [00:20<00:00, 26.00it/s]\n"
          ]
        },
        {
          "output_type": "stream",
          "name": "stdout",
          "text": [
            "Accuracy: 0.768368320610687\n"
          ]
        },
        {
          "output_type": "stream",
          "name": "stderr",
          "text": [
            "Epoch 109/300. Iteration 524/524. Loss 0.05025: 100%|\u001b[32m██████████\u001b[0m| 524/524 [00:20<00:00, 25.95it/s]\n"
          ]
        },
        {
          "output_type": "stream",
          "name": "stdout",
          "text": [
            "Accuracy: 0.7909510178117043\n"
          ]
        },
        {
          "output_type": "stream",
          "name": "stderr",
          "text": [
            "Epoch 110/300. Iteration 524/524. Loss 0.02276: 100%|\u001b[32m██████████\u001b[0m| 524/524 [00:20<00:00, 25.93it/s]\n"
          ]
        },
        {
          "output_type": "stream",
          "name": "stdout",
          "text": [
            "Accuracy: 0.7893606870229\n"
          ]
        },
        {
          "output_type": "stream",
          "name": "stderr",
          "text": [
            "Epoch 111/300. Iteration 524/524. Loss 0.29240: 100%|\u001b[32m██████████\u001b[0m| 524/524 [00:20<00:00, 26.00it/s]\n"
          ]
        },
        {
          "output_type": "stream",
          "name": "stdout",
          "text": [
            "Accuracy: 0.78668893129771\n"
          ]
        },
        {
          "output_type": "stream",
          "name": "stderr",
          "text": [
            "Epoch 112/300. Iteration 524/524. Loss 0.14380: 100%|\u001b[32m██████████\u001b[0m| 524/524 [00:21<00:00, 24.69it/s]\n"
          ]
        },
        {
          "output_type": "stream",
          "name": "stdout",
          "text": [
            "Accuracy: 0.788167938931297\n"
          ]
        },
        {
          "output_type": "stream",
          "name": "stderr",
          "text": [
            "Epoch 113/300. Iteration 524/524. Loss 0.58763: 100%|\u001b[32m██████████\u001b[0m| 524/524 [00:21<00:00, 24.28it/s]\n"
          ]
        },
        {
          "output_type": "stream",
          "name": "stdout",
          "text": [
            "Accuracy: 0.7954039440203569\n"
          ]
        },
        {
          "output_type": "stream",
          "name": "stderr",
          "text": [
            "Epoch 114/300. Iteration 524/524. Loss 0.07951: 100%|\u001b[32m██████████\u001b[0m| 524/524 [00:20<00:00, 26.00it/s]\n"
          ]
        },
        {
          "output_type": "stream",
          "name": "stdout",
          "text": [
            "Accuracy: 0.8009701017811707\n"
          ]
        },
        {
          "output_type": "stream",
          "name": "stderr",
          "text": [
            "Epoch 115/300. Iteration 524/524. Loss 0.12292: 100%|\u001b[32m██████████\u001b[0m| 524/524 [00:19<00:00, 26.25it/s]\n"
          ]
        },
        {
          "output_type": "stream",
          "name": "stdout",
          "text": [
            "Accuracy: 0.8022423664122136\n"
          ]
        },
        {
          "output_type": "stream",
          "name": "stderr",
          "text": [
            "Epoch 116/300. Iteration 524/524. Loss 0.11896: 100%|\u001b[32m██████████\u001b[0m| 524/524 [00:19<00:00, 26.47it/s]\n"
          ]
        },
        {
          "output_type": "stream",
          "name": "stdout",
          "text": [
            "Accuracy: 0.8075699745547074\n"
          ]
        },
        {
          "output_type": "stream",
          "name": "stderr",
          "text": [
            "Epoch 117/300. Iteration 524/524. Loss 0.12633: 100%|\u001b[32m██████████\u001b[0m| 524/524 [00:19<00:00, 26.36it/s]\n"
          ]
        },
        {
          "output_type": "stream",
          "name": "stdout",
          "text": [
            "Accuracy: 0.8254930025445291\n"
          ]
        },
        {
          "output_type": "stream",
          "name": "stderr",
          "text": [
            "Epoch 118/300. Iteration 524/524. Loss 0.33384: 100%|\u001b[32m██████████\u001b[0m| 524/524 [00:19<00:00, 26.22it/s]\n"
          ]
        },
        {
          "output_type": "stream",
          "name": "stdout",
          "text": [
            "Accuracy: 0.8274013994910934\n"
          ]
        },
        {
          "output_type": "stream",
          "name": "stderr",
          "text": [
            "Epoch 119/300. Iteration 524/524. Loss 0.05745: 100%|\u001b[32m██████████\u001b[0m| 524/524 [00:20<00:00, 25.33it/s]\n"
          ]
        },
        {
          "output_type": "stream",
          "name": "stdout",
          "text": [
            "Accuracy: 0.8302321882951655\n"
          ]
        },
        {
          "output_type": "stream",
          "name": "stderr",
          "text": [
            "Epoch 120/300. Iteration 524/524. Loss 0.02321: 100%|\u001b[32m██████████\u001b[0m| 524/524 [00:21<00:00, 23.92it/s]\n"
          ]
        },
        {
          "output_type": "stream",
          "name": "stdout",
          "text": [
            "Accuracy: 0.8395356234096695\n"
          ]
        },
        {
          "output_type": "stream",
          "name": "stderr",
          "text": [
            "Epoch 121/300. Iteration 524/524. Loss 0.00037: 100%|\u001b[32m██████████\u001b[0m| 524/524 [00:20<00:00, 25.21it/s]\n"
          ]
        },
        {
          "output_type": "stream",
          "name": "stdout",
          "text": [
            "Accuracy: 0.8379770992366411\n"
          ]
        },
        {
          "output_type": "stream",
          "name": "stderr",
          "text": [
            "Epoch 122/300. Iteration 524/524. Loss 0.21804: 100%|\u001b[32m██████████\u001b[0m| 524/524 [00:19<00:00, 26.33it/s]\n"
          ]
        },
        {
          "output_type": "stream",
          "name": "stdout",
          "text": [
            "Accuracy: 0.8486323155216282\n"
          ]
        },
        {
          "output_type": "stream",
          "name": "stderr",
          "text": [
            "Epoch 123/300. Iteration 524/524. Loss 0.22082: 100%|\u001b[32m██████████\u001b[0m| 524/524 [00:19<00:00, 26.20it/s]\n"
          ]
        },
        {
          "output_type": "stream",
          "name": "stdout",
          "text": [
            "Accuracy: 0.8221215012722651\n"
          ]
        },
        {
          "output_type": "stream",
          "name": "stderr",
          "text": [
            "Epoch 124/300. Iteration 524/524. Loss 0.36005: 100%|\u001b[32m██████████\u001b[0m| 524/524 [00:19<00:00, 26.26it/s]\n"
          ]
        },
        {
          "output_type": "stream",
          "name": "stdout",
          "text": [
            "Accuracy: 0.8241094147582697\n"
          ]
        },
        {
          "output_type": "stream",
          "name": "stderr",
          "text": [
            "Epoch 125/300. Iteration 524/524. Loss 0.16198: 100%|\u001b[32m██████████\u001b[0m| 524/524 [00:19<00:00, 26.47it/s]\n"
          ]
        },
        {
          "output_type": "stream",
          "name": "stdout",
          "text": [
            "Accuracy: 0.8312659033078886\n"
          ]
        },
        {
          "output_type": "stream",
          "name": "stderr",
          "text": [
            "Epoch 126/300. Iteration 524/524. Loss 0.00134: 100%|\u001b[32m██████████\u001b[0m| 524/524 [00:20<00:00, 25.62it/s]\n"
          ]
        },
        {
          "output_type": "stream",
          "name": "stdout",
          "text": [
            "Accuracy: 0.8456424936386769\n"
          ]
        },
        {
          "output_type": "stream",
          "name": "stderr",
          "text": [
            "Epoch 127/300. Iteration 524/524. Loss 0.15466: 100%|\u001b[32m██████████\u001b[0m| 524/524 [00:21<00:00, 24.50it/s]\n"
          ]
        },
        {
          "output_type": "stream",
          "name": "stdout",
          "text": [
            "Accuracy: 0.835639312977099\n"
          ]
        },
        {
          "output_type": "stream",
          "name": "stderr",
          "text": [
            "Epoch 128/300. Iteration 524/524. Loss 0.03307: 100%|\u001b[32m██████████\u001b[0m| 524/524 [00:21<00:00, 24.66it/s]\n"
          ]
        },
        {
          "output_type": "stream",
          "name": "stdout",
          "text": [
            "Accuracy: 0.8352735368956754\n"
          ]
        },
        {
          "output_type": "stream",
          "name": "stderr",
          "text": [
            "Epoch 129/300. Iteration 524/524. Loss 0.05538: 100%|\u001b[32m██████████\u001b[0m| 524/524 [00:20<00:00, 25.74it/s]\n"
          ]
        },
        {
          "output_type": "stream",
          "name": "stdout",
          "text": [
            "Accuracy: 0.8493161577608145\n"
          ]
        },
        {
          "output_type": "stream",
          "name": "stderr",
          "text": [
            "Epoch 130/300. Iteration 524/524. Loss 0.09021: 100%|\u001b[32m██████████\u001b[0m| 524/524 [00:19<00:00, 26.27it/s]\n"
          ]
        },
        {
          "output_type": "stream",
          "name": "stdout",
          "text": [
            "Accuracy: 0.8508269720101774\n"
          ]
        },
        {
          "output_type": "stream",
          "name": "stderr",
          "text": [
            "Epoch 131/300. Iteration 524/524. Loss 0.02832: 100%|\u001b[32m██████████\u001b[0m| 524/524 [00:20<00:00, 26.13it/s]\n"
          ]
        },
        {
          "output_type": "stream",
          "name": "stdout",
          "text": [
            "Accuracy: 0.8645038167938929\n"
          ]
        },
        {
          "output_type": "stream",
          "name": "stderr",
          "text": [
            "Epoch 132/300. Iteration 524/524. Loss 0.39318: 100%|\u001b[32m██████████\u001b[0m| 524/524 [00:20<00:00, 25.99it/s]\n"
          ]
        },
        {
          "output_type": "stream",
          "name": "stdout",
          "text": [
            "Accuracy: 0.8229484732824424\n"
          ]
        },
        {
          "output_type": "stream",
          "name": "stderr",
          "text": [
            "Epoch 133/300. Iteration 524/524. Loss 0.12301: 100%|\u001b[32m██████████\u001b[0m| 524/524 [00:20<00:00, 26.11it/s]\n"
          ]
        },
        {
          "output_type": "stream",
          "name": "stdout",
          "text": [
            "Accuracy: 0.8509860050890589\n"
          ]
        },
        {
          "output_type": "stream",
          "name": "stderr",
          "text": [
            "Epoch 134/300. Iteration 524/524. Loss 0.02737: 100%|\u001b[32m██████████\u001b[0m| 524/524 [00:21<00:00, 24.21it/s]\n"
          ]
        },
        {
          "output_type": "stream",
          "name": "stdout",
          "text": [
            "Accuracy: 0.8427162849872772\n"
          ]
        },
        {
          "output_type": "stream",
          "name": "stderr",
          "text": [
            "Epoch 135/300. Iteration 524/524. Loss 0.28215: 100%|\u001b[32m██████████\u001b[0m| 524/524 [00:21<00:00, 24.37it/s]\n"
          ]
        },
        {
          "output_type": "stream",
          "name": "stdout",
          "text": [
            "Accuracy: 0.8708651399491096\n"
          ]
        },
        {
          "output_type": "stream",
          "name": "stderr",
          "text": [
            "Epoch 136/300. Iteration 524/524. Loss 0.01849: 100%|\u001b[32m██████████\u001b[0m| 524/524 [00:20<00:00, 25.93it/s]\n"
          ]
        },
        {
          "output_type": "stream",
          "name": "stdout",
          "text": [
            "Accuracy: 0.8641062340966925\n"
          ]
        },
        {
          "output_type": "stream",
          "name": "stderr",
          "text": [
            "Epoch 137/300. Iteration 524/524. Loss 0.14982: 100%|\u001b[32m██████████\u001b[0m| 524/524 [00:20<00:00, 26.11it/s]\n"
          ]
        },
        {
          "output_type": "stream",
          "name": "stdout",
          "text": [
            "Accuracy: 0.8786100508905852\n"
          ]
        },
        {
          "output_type": "stream",
          "name": "stderr",
          "text": [
            "Epoch 138/300. Iteration 524/524. Loss 0.02153: 100%|\u001b[32m██████████\u001b[0m| 524/524 [00:19<00:00, 26.25it/s]\n"
          ]
        },
        {
          "output_type": "stream",
          "name": "stdout",
          "text": [
            "Accuracy: 0.8901081424936383\n"
          ]
        },
        {
          "output_type": "stream",
          "name": "stderr",
          "text": [
            "Epoch 139/300. Iteration 524/524. Loss 0.00009: 100%|\u001b[32m██████████\u001b[0m| 524/524 [00:19<00:00, 26.21it/s]\n"
          ]
        },
        {
          "output_type": "stream",
          "name": "stdout",
          "text": [
            "Accuracy: 0.9009860050890579\n"
          ]
        },
        {
          "output_type": "stream",
          "name": "stderr",
          "text": [
            "Epoch 140/300. Iteration 524/524. Loss 0.19152: 100%|\u001b[32m██████████\u001b[0m| 524/524 [00:20<00:00, 25.32it/s]\n"
          ]
        },
        {
          "output_type": "stream",
          "name": "stdout",
          "text": [
            "Accuracy: 0.895499363867684\n"
          ]
        },
        {
          "output_type": "stream",
          "name": "stderr",
          "text": [
            "Epoch 141/300. Iteration 524/524. Loss 0.00217: 100%|\u001b[32m██████████\u001b[0m| 524/524 [00:21<00:00, 23.88it/s]\n"
          ]
        },
        {
          "output_type": "stream",
          "name": "stdout",
          "text": [
            "Accuracy: 0.8992366412213738\n"
          ]
        },
        {
          "output_type": "stream",
          "name": "stderr",
          "text": [
            "Epoch 142/300. Iteration 524/524. Loss 0.33524: 100%|\u001b[32m██████████\u001b[0m| 524/524 [00:21<00:00, 24.92it/s]\n"
          ]
        },
        {
          "output_type": "stream",
          "name": "stdout",
          "text": [
            "Accuracy: 0.8929548346055975\n"
          ]
        },
        {
          "output_type": "stream",
          "name": "stderr",
          "text": [
            "Epoch 143/300. Iteration 524/524. Loss 0.08599: 100%|\u001b[32m██████████\u001b[0m| 524/524 [00:20<00:00, 26.08it/s]\n"
          ]
        },
        {
          "output_type": "stream",
          "name": "stdout",
          "text": [
            "Accuracy: 0.9045324427480909\n"
          ]
        },
        {
          "output_type": "stream",
          "name": "stderr",
          "text": [
            "Epoch 144/300. Iteration 524/524. Loss 0.05394: 100%|\u001b[32m██████████\u001b[0m| 524/524 [00:20<00:00, 25.98it/s]\n"
          ]
        },
        {
          "output_type": "stream",
          "name": "stdout",
          "text": [
            "Accuracy: 0.9050890585241721\n"
          ]
        },
        {
          "output_type": "stream",
          "name": "stderr",
          "text": [
            "Epoch 145/300. Iteration 524/524. Loss 0.02253: 100%|\u001b[32m██████████\u001b[0m| 524/524 [00:20<00:00, 26.13it/s]\n"
          ]
        },
        {
          "output_type": "stream",
          "name": "stdout",
          "text": [
            "Accuracy: 0.9075858778625947\n"
          ]
        },
        {
          "output_type": "stream",
          "name": "stderr",
          "text": [
            "Epoch 146/300. Iteration 524/524. Loss 0.31667: 100%|\u001b[32m██████████\u001b[0m| 524/524 [00:20<00:00, 26.06it/s]\n"
          ]
        },
        {
          "output_type": "stream",
          "name": "stdout",
          "text": [
            "Accuracy: 0.8998409669211194\n"
          ]
        },
        {
          "output_type": "stream",
          "name": "stderr",
          "text": [
            "Epoch 147/300. Iteration 524/524. Loss 0.02390: 100%|\u001b[32m██████████\u001b[0m| 524/524 [00:20<00:00, 25.08it/s]\n"
          ]
        },
        {
          "output_type": "stream",
          "name": "stdout",
          "text": [
            "Accuracy: 0.9094942748091596\n"
          ]
        },
        {
          "output_type": "stream",
          "name": "stderr",
          "text": [
            "Epoch 148/300. Iteration 524/524. Loss 0.31252: 100%|\u001b[32m██████████\u001b[0m| 524/524 [00:22<00:00, 23.69it/s]\n"
          ]
        },
        {
          "output_type": "stream",
          "name": "stdout",
          "text": [
            "Accuracy: 0.9179707379134853\n"
          ]
        },
        {
          "output_type": "stream",
          "name": "stderr",
          "text": [
            "Epoch 149/300. Iteration 524/524. Loss 0.00762: 100%|\u001b[32m██████████\u001b[0m| 524/524 [00:21<00:00, 24.82it/s]\n"
          ]
        },
        {
          "output_type": "stream",
          "name": "stdout",
          "text": [
            "Accuracy: 0.9212627226463103\n"
          ]
        },
        {
          "output_type": "stream",
          "name": "stderr",
          "text": [
            "Epoch 150/300. Iteration 524/524. Loss 0.01638: 100%|\u001b[32m██████████\u001b[0m| 524/524 [00:20<00:00, 26.11it/s]\n"
          ]
        },
        {
          "output_type": "stream",
          "name": "stdout",
          "text": [
            "Accuracy: 0.9089694656488546\n"
          ]
        },
        {
          "output_type": "stream",
          "name": "stderr",
          "text": [
            "Epoch 151/300. Iteration 524/524. Loss 0.34457: 100%|\u001b[32m██████████\u001b[0m| 524/524 [00:20<00:00, 26.07it/s]\n"
          ]
        },
        {
          "output_type": "stream",
          "name": "stdout",
          "text": [
            "Accuracy: 0.9231393129770986\n"
          ]
        },
        {
          "output_type": "stream",
          "name": "stderr",
          "text": [
            "Epoch 152/300. Iteration 524/524. Loss 0.00325: 100%|\u001b[32m██████████\u001b[0m| 524/524 [00:20<00:00, 26.01it/s]\n"
          ]
        },
        {
          "output_type": "stream",
          "name": "stdout",
          "text": [
            "Accuracy: 0.9262722646310425\n"
          ]
        },
        {
          "output_type": "stream",
          "name": "stderr",
          "text": [
            "Epoch 153/300. Iteration 524/524. Loss 0.01365: 100%|\u001b[32m██████████\u001b[0m| 524/524 [00:20<00:00, 25.72it/s]\n"
          ]
        },
        {
          "output_type": "stream",
          "name": "stdout",
          "text": [
            "Accuracy: 0.9018924936386771\n"
          ]
        },
        {
          "output_type": "stream",
          "name": "stderr",
          "text": [
            "Epoch 154/300. Iteration 524/524. Loss 0.00208: 100%|\u001b[32m██████████\u001b[0m| 524/524 [00:21<00:00, 24.24it/s]\n"
          ]
        },
        {
          "output_type": "stream",
          "name": "stdout",
          "text": [
            "Accuracy: 0.920276717557251\n"
          ]
        },
        {
          "output_type": "stream",
          "name": "stderr",
          "text": [
            "Epoch 155/300. Iteration 524/524. Loss 0.05437: 100%|\u001b[32m██████████\u001b[0m| 524/524 [00:21<00:00, 24.36it/s]\n"
          ]
        },
        {
          "output_type": "stream",
          "name": "stdout",
          "text": [
            "Accuracy: 0.9266380407124678\n"
          ]
        },
        {
          "output_type": "stream",
          "name": "stderr",
          "text": [
            "Epoch 156/300. Iteration 524/524. Loss 0.23990: 100%|\u001b[32m██████████\u001b[0m| 524/524 [00:20<00:00, 24.99it/s]\n"
          ]
        },
        {
          "output_type": "stream",
          "name": "stdout",
          "text": [
            "Accuracy: 0.9236959287531799\n"
          ]
        },
        {
          "output_type": "stream",
          "name": "stderr",
          "text": [
            "Epoch 157/300. Iteration 524/524. Loss 0.01636: 100%|\u001b[32m██████████\u001b[0m| 524/524 [00:20<00:00, 25.90it/s]\n"
          ]
        },
        {
          "output_type": "stream",
          "name": "stdout",
          "text": [
            "Accuracy: 0.9277830788804066\n"
          ]
        },
        {
          "output_type": "stream",
          "name": "stderr",
          "text": [
            "Epoch 158/300. Iteration 524/524. Loss 0.00044: 100%|\u001b[32m██████████\u001b[0m| 524/524 [00:20<00:00, 25.87it/s]\n"
          ]
        },
        {
          "output_type": "stream",
          "name": "stdout",
          "text": [
            "Accuracy: 0.9187181933842236\n"
          ]
        },
        {
          "output_type": "stream",
          "name": "stderr",
          "text": [
            "Epoch 159/300. Iteration 524/524. Loss 0.04693: 100%|\u001b[32m██████████\u001b[0m| 524/524 [00:20<00:00, 25.91it/s]\n"
          ]
        },
        {
          "output_type": "stream",
          "name": "stdout",
          "text": [
            "Accuracy: 0.9267970737913483\n"
          ]
        },
        {
          "output_type": "stream",
          "name": "stderr",
          "text": [
            "Epoch 160/300. Iteration 524/524. Loss 0.05226: 100%|\u001b[32m██████████\u001b[0m| 524/524 [00:20<00:00, 25.85it/s]\n"
          ]
        },
        {
          "output_type": "stream",
          "name": "stdout",
          "text": [
            "Accuracy: 0.9340330788804065\n"
          ]
        },
        {
          "output_type": "stream",
          "name": "stderr",
          "text": [
            "Epoch 161/300. Iteration 524/524. Loss 0.00676: 100%|\u001b[32m██████████\u001b[0m| 524/524 [00:21<00:00, 24.38it/s]\n"
          ]
        },
        {
          "output_type": "stream",
          "name": "stdout",
          "text": [
            "Accuracy: 0.9229802798982185\n"
          ]
        },
        {
          "output_type": "stream",
          "name": "stderr",
          "text": [
            "Epoch 162/300. Iteration 524/524. Loss 0.22026: 100%|\u001b[32m██████████\u001b[0m| 524/524 [00:21<00:00, 24.33it/s]\n"
          ]
        },
        {
          "output_type": "stream",
          "name": "stdout",
          "text": [
            "Accuracy: 0.9076335877862594\n"
          ]
        },
        {
          "output_type": "stream",
          "name": "stderr",
          "text": [
            "Epoch 163/300. Iteration 524/524. Loss 0.04427: 100%|\u001b[32m██████████\u001b[0m| 524/524 [00:21<00:00, 24.71it/s]\n"
          ]
        },
        {
          "output_type": "stream",
          "name": "stdout",
          "text": [
            "Accuracy: 0.9306138676844775\n"
          ]
        },
        {
          "output_type": "stream",
          "name": "stderr",
          "text": [
            "Epoch 164/300. Iteration 524/524. Loss 0.00493: 100%|\u001b[32m██████████\u001b[0m| 524/524 [00:20<00:00, 25.88it/s]\n"
          ]
        },
        {
          "output_type": "stream",
          "name": "stdout",
          "text": [
            "Accuracy: 0.9398377862595414\n"
          ]
        },
        {
          "output_type": "stream",
          "name": "stderr",
          "text": [
            "Epoch 165/300. Iteration 524/524. Loss 0.25492: 100%|\u001b[32m██████████\u001b[0m| 524/524 [00:20<00:00, 25.85it/s]\n"
          ]
        },
        {
          "output_type": "stream",
          "name": "stdout",
          "text": [
            "Accuracy: 0.9438772264631037\n"
          ]
        },
        {
          "output_type": "stream",
          "name": "stderr",
          "text": [
            "Epoch 166/300. Iteration 524/524. Loss 0.05716: 100%|\u001b[32m██████████\u001b[0m| 524/524 [00:20<00:00, 25.99it/s]\n"
          ]
        },
        {
          "output_type": "stream",
          "name": "stdout",
          "text": [
            "Accuracy: 0.9421437659033073\n"
          ]
        },
        {
          "output_type": "stream",
          "name": "stderr",
          "text": [
            "Epoch 167/300. Iteration 524/524. Loss 0.02740: 100%|\u001b[32m██████████\u001b[0m| 524/524 [00:20<00:00, 25.82it/s]\n"
          ]
        },
        {
          "output_type": "stream",
          "name": "stdout",
          "text": [
            "Accuracy: 0.9391062340966915\n"
          ]
        },
        {
          "output_type": "stream",
          "name": "stderr",
          "text": [
            "Epoch 168/300. Iteration 524/524. Loss 0.03543: 100%|\u001b[32m██████████\u001b[0m| 524/524 [00:21<00:00, 24.86it/s]\n"
          ]
        },
        {
          "output_type": "stream",
          "name": "stdout",
          "text": [
            "Accuracy: 0.9442430025445285\n"
          ]
        },
        {
          "output_type": "stream",
          "name": "stderr",
          "text": [
            "Epoch 169/300. Iteration 524/524. Loss 0.06942: 100%|\u001b[32m██████████\u001b[0m| 524/524 [00:21<00:00, 24.06it/s]\n"
          ]
        },
        {
          "output_type": "stream",
          "name": "stdout",
          "text": [
            "Accuracy: 0.941284987277353\n"
          ]
        },
        {
          "output_type": "stream",
          "name": "stderr",
          "text": [
            "Epoch 170/300. Iteration 524/524. Loss 0.01658: 100%|\u001b[32m██████████\u001b[0m| 524/524 [00:21<00:00, 24.66it/s]\n"
          ]
        },
        {
          "output_type": "stream",
          "name": "stdout",
          "text": [
            "Accuracy: 0.9362436386768437\n"
          ]
        },
        {
          "output_type": "stream",
          "name": "stderr",
          "text": [
            "Epoch 171/300. Iteration 524/524. Loss 0.02629: 100%|\u001b[32m██████████\u001b[0m| 524/524 [00:20<00:00, 26.08it/s]\n"
          ]
        },
        {
          "output_type": "stream",
          "name": "stdout",
          "text": [
            "Accuracy: 0.9335559796437654\n"
          ]
        },
        {
          "output_type": "stream",
          "name": "stderr",
          "text": [
            "Epoch 172/300. Iteration 524/524. Loss 0.02124: 100%|\u001b[32m██████████\u001b[0m| 524/524 [00:20<00:00, 25.89it/s]\n"
          ]
        },
        {
          "output_type": "stream",
          "name": "stdout",
          "text": [
            "Accuracy: 0.9346692111959283\n"
          ]
        },
        {
          "output_type": "stream",
          "name": "stderr",
          "text": [
            "Epoch 173/300. Iteration 524/524. Loss 0.19107: 100%|\u001b[32m██████████\u001b[0m| 524/524 [00:20<00:00, 25.95it/s]\n"
          ]
        },
        {
          "output_type": "stream",
          "name": "stdout",
          "text": [
            "Accuracy: 0.9413804071246812\n"
          ]
        },
        {
          "output_type": "stream",
          "name": "stderr",
          "text": [
            "Epoch 174/300. Iteration 524/524. Loss 0.01494: 100%|\u001b[32m██████████\u001b[0m| 524/524 [00:20<00:00, 26.12it/s]\n"
          ]
        },
        {
          "output_type": "stream",
          "name": "stdout",
          "text": [
            "Accuracy: 0.9448950381679384\n"
          ]
        },
        {
          "output_type": "stream",
          "name": "stderr",
          "text": [
            "Epoch 175/300. Iteration 524/524. Loss 0.09308: 100%|\u001b[32m██████████\u001b[0m| 524/524 [00:21<00:00, 24.93it/s]\n"
          ]
        },
        {
          "output_type": "stream",
          "name": "stdout",
          "text": [
            "Accuracy: 0.9415076335877854\n"
          ]
        },
        {
          "output_type": "stream",
          "name": "stderr",
          "text": [
            "Epoch 176/300. Iteration 524/524. Loss 0.00314: 100%|\u001b[32m██████████\u001b[0m| 524/524 [00:22<00:00, 23.59it/s]\n"
          ]
        },
        {
          "output_type": "stream",
          "name": "stdout",
          "text": [
            "Accuracy: 0.9431297709923656\n"
          ]
        },
        {
          "output_type": "stream",
          "name": "stderr",
          "text": [
            "Epoch 177/300. Iteration 524/524. Loss 0.12186: 100%|\u001b[32m██████████\u001b[0m| 524/524 [00:21<00:00, 24.78it/s]\n"
          ]
        },
        {
          "output_type": "stream",
          "name": "stdout",
          "text": [
            "Accuracy: 0.9055502544529256\n"
          ]
        },
        {
          "output_type": "stream",
          "name": "stderr",
          "text": [
            "Epoch 178/300. Iteration 524/524. Loss 0.03418: 100%|\u001b[32m██████████\u001b[0m| 524/524 [00:20<00:00, 26.13it/s]\n"
          ]
        },
        {
          "output_type": "stream",
          "name": "stdout",
          "text": [
            "Accuracy: 0.9446723918575055\n"
          ]
        },
        {
          "output_type": "stream",
          "name": "stderr",
          "text": [
            "Epoch 179/300. Iteration 524/524. Loss 0.10128: 100%|\u001b[32m██████████\u001b[0m| 524/524 [00:20<00:00, 25.98it/s]\n"
          ]
        },
        {
          "output_type": "stream",
          "name": "stdout",
          "text": [
            "Accuracy: 0.9346692111959283\n"
          ]
        },
        {
          "output_type": "stream",
          "name": "stderr",
          "text": [
            "Epoch 180/300. Iteration 524/524. Loss 0.00091: 100%|\u001b[32m██████████\u001b[0m| 524/524 [00:20<00:00, 25.81it/s]\n"
          ]
        },
        {
          "output_type": "stream",
          "name": "stdout",
          "text": [
            "Accuracy: 0.9480279898218826\n"
          ]
        },
        {
          "output_type": "stream",
          "name": "stderr",
          "text": [
            "Epoch 181/300. Iteration 524/524. Loss 0.37034: 100%|\u001b[32m██████████\u001b[0m| 524/524 [00:20<00:00, 25.50it/s]\n"
          ]
        },
        {
          "output_type": "stream",
          "name": "stdout",
          "text": [
            "Accuracy: 0.9477894402035615\n"
          ]
        },
        {
          "output_type": "stream",
          "name": "stderr",
          "text": [
            "Epoch 182/300. Iteration 524/524. Loss 0.18679: 100%|\u001b[32m██████████\u001b[0m| 524/524 [00:21<00:00, 24.65it/s]\n"
          ]
        },
        {
          "output_type": "stream",
          "name": "stdout",
          "text": [
            "Accuracy: 0.948107506361322\n"
          ]
        },
        {
          "output_type": "stream",
          "name": "stderr",
          "text": [
            "Epoch 183/300. Iteration 524/524. Loss 0.01161: 100%|\u001b[32m██████████\u001b[0m| 524/524 [00:21<00:00, 24.01it/s]\n"
          ]
        },
        {
          "output_type": "stream",
          "name": "stdout",
          "text": [
            "Accuracy: 0.9482665394402029\n"
          ]
        },
        {
          "output_type": "stream",
          "name": "stderr",
          "text": [
            "Epoch 184/300. Iteration 524/524. Loss 0.01243: 100%|\u001b[32m██████████\u001b[0m| 524/524 [00:21<00:00, 24.47it/s]\n"
          ]
        },
        {
          "output_type": "stream",
          "name": "stdout",
          "text": [
            "Accuracy: 0.9387086513994906\n"
          ]
        },
        {
          "output_type": "stream",
          "name": "stderr",
          "text": [
            "Epoch 185/300. Iteration 524/524. Loss 0.00124: 100%|\u001b[32m██████████\u001b[0m| 524/524 [00:20<00:00, 25.33it/s]\n"
          ]
        },
        {
          "output_type": "stream",
          "name": "stdout",
          "text": [
            "Accuracy: 0.9454039440203558\n"
          ]
        },
        {
          "output_type": "stream",
          "name": "stderr",
          "text": [
            "Epoch 186/300. Iteration 524/524. Loss 0.00013: 100%|\u001b[32m██████████\u001b[0m| 524/524 [00:20<00:00, 25.63it/s]\n"
          ]
        },
        {
          "output_type": "stream",
          "name": "stdout",
          "text": [
            "Accuracy: 0.9431774809160303\n"
          ]
        },
        {
          "output_type": "stream",
          "name": "stderr",
          "text": [
            "Epoch 187/300. Iteration 524/524. Loss 0.04825: 100%|\u001b[32m██████████\u001b[0m| 524/524 [00:20<00:00, 25.68it/s]\n"
          ]
        },
        {
          "output_type": "stream",
          "name": "stdout",
          "text": [
            "Accuracy: 0.9425731552162847\n"
          ]
        },
        {
          "output_type": "stream",
          "name": "stderr",
          "text": [
            "Epoch 188/300. Iteration 524/524. Loss 0.26102: 100%|\u001b[32m██████████\u001b[0m| 524/524 [00:20<00:00, 25.52it/s]\n"
          ]
        },
        {
          "output_type": "stream",
          "name": "stdout",
          "text": [
            "Accuracy: 0.9456424936386765\n"
          ]
        },
        {
          "output_type": "stream",
          "name": "stderr",
          "text": [
            "Epoch 189/300. Iteration 524/524. Loss 0.00670: 100%|\u001b[32m██████████\u001b[0m| 524/524 [00:21<00:00, 24.71it/s]\n"
          ]
        },
        {
          "output_type": "stream",
          "name": "stdout",
          "text": [
            "Accuracy: 0.9460082697201014\n"
          ]
        },
        {
          "output_type": "stream",
          "name": "stderr",
          "text": [
            "Epoch 190/300. Iteration 524/524. Loss 0.00005: 100%|\u001b[32m██████████\u001b[0m| 524/524 [00:21<00:00, 24.34it/s]\n"
          ]
        },
        {
          "output_type": "stream",
          "name": "stdout",
          "text": [
            "Accuracy: 0.9487913486005085\n"
          ]
        },
        {
          "output_type": "stream",
          "name": "stderr",
          "text": [
            "Epoch 191/300. Iteration 524/524. Loss 0.00521: 100%|\u001b[32m██████████\u001b[0m| 524/524 [00:21<00:00, 24.31it/s]\n"
          ]
        },
        {
          "output_type": "stream",
          "name": "stdout",
          "text": [
            "Accuracy: 0.9429389312977093\n"
          ]
        },
        {
          "output_type": "stream",
          "name": "stderr",
          "text": [
            "Epoch 192/300. Iteration 524/524. Loss 0.00012: 100%|\u001b[32m██████████\u001b[0m| 524/524 [00:20<00:00, 25.24it/s]\n"
          ]
        },
        {
          "output_type": "stream",
          "name": "stdout",
          "text": [
            "Accuracy: 0.9472010178117044\n"
          ]
        },
        {
          "output_type": "stream",
          "name": "stderr",
          "text": [
            "Epoch 193/300. Iteration 524/524. Loss 0.00000: 100%|\u001b[32m██████████\u001b[0m| 524/524 [00:20<00:00, 25.68it/s]\n"
          ]
        },
        {
          "output_type": "stream",
          "name": "stdout",
          "text": [
            "Accuracy: 0.9432092875318062\n"
          ]
        },
        {
          "output_type": "stream",
          "name": "stderr",
          "text": [
            "Epoch 194/300. Iteration 524/524. Loss 0.00068: 100%|\u001b[32m██████████\u001b[0m| 524/524 [00:20<00:00, 25.73it/s]\n"
          ]
        },
        {
          "output_type": "stream",
          "name": "stdout",
          "text": [
            "Accuracy: 0.9447996183206102\n"
          ]
        },
        {
          "output_type": "stream",
          "name": "stderr",
          "text": [
            "Epoch 195/300. Iteration 524/524. Loss 0.33730: 100%|\u001b[32m██████████\u001b[0m| 524/524 [00:20<00:00, 25.57it/s]\n"
          ]
        },
        {
          "output_type": "stream",
          "name": "stdout",
          "text": [
            "Accuracy: 0.9457220101781167\n"
          ]
        },
        {
          "output_type": "stream",
          "name": "stderr",
          "text": [
            "Epoch 196/300. Iteration 524/524. Loss 0.00279: 100%|\u001b[32m██████████\u001b[0m| 524/524 [00:20<00:00, 25.64it/s]\n"
          ]
        },
        {
          "output_type": "stream",
          "name": "stdout",
          "text": [
            "Accuracy: 0.9367843511450379\n"
          ]
        },
        {
          "output_type": "stream",
          "name": "stderr",
          "text": [
            "Epoch 197/300. Iteration 524/524. Loss 0.17385: 100%|\u001b[32m██████████\u001b[0m| 524/524 [00:21<00:00, 24.79it/s]\n"
          ]
        },
        {
          "output_type": "stream",
          "name": "stdout",
          "text": [
            "Accuracy: 0.9398854961832053\n"
          ]
        },
        {
          "output_type": "stream",
          "name": "stderr",
          "text": [
            "Epoch 198/300. Iteration 524/524. Loss 0.02895: 100%|\u001b[32m██████████\u001b[0m| 524/524 [00:21<00:00, 23.85it/s]\n"
          ]
        },
        {
          "output_type": "stream",
          "name": "stdout",
          "text": [
            "Accuracy: 0.9488549618320605\n"
          ]
        },
        {
          "output_type": "stream",
          "name": "stderr",
          "text": [
            "Epoch 199/300. Iteration 524/524. Loss 0.00000: 100%|\u001b[32m██████████\u001b[0m| 524/524 [00:21<00:00, 24.47it/s]\n"
          ]
        },
        {
          "output_type": "stream",
          "name": "stdout",
          "text": [
            "Accuracy: 0.9519402035623403\n"
          ]
        },
        {
          "output_type": "stream",
          "name": "stderr",
          "text": [
            "Epoch 200/300. Iteration 524/524. Loss 0.00227: 100%|\u001b[32m██████████\u001b[0m| 524/524 [00:20<00:00, 25.57it/s]\n"
          ]
        },
        {
          "output_type": "stream",
          "name": "stdout",
          "text": [
            "Accuracy: 0.955263994910941\n"
          ]
        },
        {
          "output_type": "stream",
          "name": "stderr",
          "text": [
            "Epoch 201/300. Iteration 524/524. Loss 0.09984: 100%|\u001b[32m██████████\u001b[0m| 524/524 [00:20<00:00, 25.49it/s]\n"
          ]
        },
        {
          "output_type": "stream",
          "name": "stdout",
          "text": [
            "Accuracy: 0.954516539440203\n"
          ]
        },
        {
          "output_type": "stream",
          "name": "stderr",
          "text": [
            "Epoch 202/300. Iteration 524/524. Loss 0.00056: 100%|\u001b[32m██████████\u001b[0m| 524/524 [00:20<00:00, 25.58it/s]\n"
          ]
        },
        {
          "output_type": "stream",
          "name": "stdout",
          "text": [
            "Accuracy: 0.9383905852417299\n"
          ]
        },
        {
          "output_type": "stream",
          "name": "stderr",
          "text": [
            "Epoch 203/300. Iteration 524/524. Loss 0.04322: 100%|\u001b[32m██████████\u001b[0m| 524/524 [00:20<00:00, 25.76it/s]\n"
          ]
        },
        {
          "output_type": "stream",
          "name": "stdout",
          "text": [
            "Accuracy: 0.9513199745547073\n"
          ]
        },
        {
          "output_type": "stream",
          "name": "stderr",
          "text": [
            "Epoch 204/300. Iteration 524/524. Loss 0.04812: 100%|\u001b[32m██████████\u001b[0m| 524/524 [00:21<00:00, 24.34it/s]\n"
          ]
        },
        {
          "output_type": "stream",
          "name": "stdout",
          "text": [
            "Accuracy: 0.9263358778625947\n"
          ]
        },
        {
          "output_type": "stream",
          "name": "stderr",
          "text": [
            "Epoch 205/300. Iteration 524/524. Loss 0.00313: 100%|\u001b[32m██████████\u001b[0m| 524/524 [00:22<00:00, 23.21it/s]\n"
          ]
        },
        {
          "output_type": "stream",
          "name": "stdout",
          "text": [
            "Accuracy: 0.9495069974554701\n"
          ]
        },
        {
          "output_type": "stream",
          "name": "stderr",
          "text": [
            "Epoch 206/300. Iteration 524/524. Loss 0.02312: 100%|\u001b[32m██████████\u001b[0m| 524/524 [00:21<00:00, 24.38it/s]\n"
          ]
        },
        {
          "output_type": "stream",
          "name": "stdout",
          "text": [
            "Accuracy: 0.9365458015267167\n"
          ]
        },
        {
          "output_type": "stream",
          "name": "stderr",
          "text": [
            "Epoch 207/300. Iteration 524/524. Loss 0.00006: 100%|\u001b[32m██████████\u001b[0m| 524/524 [00:20<00:00, 25.67it/s]\n"
          ]
        },
        {
          "output_type": "stream",
          "name": "stdout",
          "text": [
            "Accuracy: 0.9442748091603046\n"
          ]
        },
        {
          "output_type": "stream",
          "name": "stderr",
          "text": [
            "Epoch 208/300. Iteration 524/524. Loss 0.13489: 100%|\u001b[32m██████████\u001b[0m| 524/524 [00:20<00:00, 25.59it/s]\n"
          ]
        },
        {
          "output_type": "stream",
          "name": "stdout",
          "text": [
            "Accuracy: 0.9510814249363863\n"
          ]
        },
        {
          "output_type": "stream",
          "name": "stderr",
          "text": [
            "Epoch 209/300. Iteration 524/524. Loss 0.00110: 100%|\u001b[32m██████████\u001b[0m| 524/524 [00:20<00:00, 25.53it/s]\n"
          ]
        },
        {
          "output_type": "stream",
          "name": "stdout",
          "text": [
            "Accuracy: 0.9590330788804066\n"
          ]
        },
        {
          "output_type": "stream",
          "name": "stderr",
          "text": [
            "Epoch 210/300. Iteration 524/524. Loss 0.00114: 100%|\u001b[32m██████████\u001b[0m| 524/524 [00:20<00:00, 25.23it/s]\n"
          ]
        },
        {
          "output_type": "stream",
          "name": "stdout",
          "text": [
            "Accuracy: 0.9556297709923657\n"
          ]
        },
        {
          "output_type": "stream",
          "name": "stderr",
          "text": [
            "Epoch 211/300. Iteration 524/524. Loss 0.01330: 100%|\u001b[32m██████████\u001b[0m| 524/524 [00:22<00:00, 23.65it/s]\n"
          ]
        },
        {
          "output_type": "stream",
          "name": "stdout",
          "text": [
            "Accuracy: 0.9528784987277346\n"
          ]
        },
        {
          "output_type": "stream",
          "name": "stderr",
          "text": [
            "Epoch 212/300. Iteration 524/524. Loss 0.07007: 100%|\u001b[32m██████████\u001b[0m| 524/524 [00:21<00:00, 23.95it/s]\n"
          ]
        },
        {
          "output_type": "stream",
          "name": "stdout",
          "text": [
            "Accuracy: 0.9535146310432568\n"
          ]
        },
        {
          "output_type": "stream",
          "name": "stderr",
          "text": [
            "Epoch 213/300. Iteration 524/524. Loss 0.00463: 100%|\u001b[32m██████████\u001b[0m| 524/524 [00:20<00:00, 25.15it/s]\n"
          ]
        },
        {
          "output_type": "stream",
          "name": "stdout",
          "text": [
            "Accuracy: 0.9518129770992358\n"
          ]
        },
        {
          "output_type": "stream",
          "name": "stderr",
          "text": [
            "Epoch 214/300. Iteration 524/524. Loss 0.01297: 100%|\u001b[32m██████████\u001b[0m| 524/524 [00:20<00:00, 25.52it/s]\n"
          ]
        },
        {
          "output_type": "stream",
          "name": "stdout",
          "text": [
            "Accuracy: 0.947837150127226\n"
          ]
        },
        {
          "output_type": "stream",
          "name": "stderr",
          "text": [
            "Epoch 215/300. Iteration 524/524. Loss 0.00001: 100%|\u001b[32m██████████\u001b[0m| 524/524 [00:20<00:00, 25.61it/s]\n"
          ]
        },
        {
          "output_type": "stream",
          "name": "stdout",
          "text": [
            "Accuracy: 0.9517811704834598\n"
          ]
        },
        {
          "output_type": "stream",
          "name": "stderr",
          "text": [
            "Epoch 216/300. Iteration 524/524. Loss 0.05304: 100%|\u001b[32m██████████\u001b[0m| 524/524 [00:20<00:00, 25.23it/s]\n"
          ]
        },
        {
          "output_type": "stream",
          "name": "stdout",
          "text": [
            "Accuracy: 0.9576335877862592\n"
          ]
        },
        {
          "output_type": "stream",
          "name": "stderr",
          "text": [
            "Epoch 217/300. Iteration 524/524. Loss 0.00464: 100%|\u001b[32m██████████\u001b[0m| 524/524 [00:22<00:00, 23.66it/s]\n"
          ]
        },
        {
          "output_type": "stream",
          "name": "stdout",
          "text": [
            "Accuracy: 0.9551526717557246\n"
          ]
        },
        {
          "output_type": "stream",
          "name": "stderr",
          "text": [
            "Epoch 218/300. Iteration 524/524. Loss 0.03416: 100%|\u001b[32m██████████\u001b[0m| 524/524 [00:22<00:00, 23.74it/s]\n"
          ]
        },
        {
          "output_type": "stream",
          "name": "stdout",
          "text": [
            "Accuracy: 0.928848600508905\n"
          ]
        },
        {
          "output_type": "stream",
          "name": "stderr",
          "text": [
            "Epoch 219/300. Iteration 524/524. Loss 0.06737: 100%|\u001b[32m██████████\u001b[0m| 524/524 [00:21<00:00, 24.74it/s]\n"
          ]
        },
        {
          "output_type": "stream",
          "name": "stdout",
          "text": [
            "Accuracy: 0.9542779898218824\n"
          ]
        },
        {
          "output_type": "stream",
          "name": "stderr",
          "text": [
            "Epoch 220/300. Iteration 524/524. Loss 0.00046: 100%|\u001b[32m██████████\u001b[0m| 524/524 [00:20<00:00, 25.32it/s]\n"
          ]
        },
        {
          "output_type": "stream",
          "name": "stdout",
          "text": [
            "Accuracy: 0.9554548346055971\n"
          ]
        },
        {
          "output_type": "stream",
          "name": "stderr",
          "text": [
            "Epoch 221/300. Iteration 524/524. Loss 0.02523: 100%|\u001b[32m██████████\u001b[0m| 524/524 [00:20<00:00, 25.43it/s]\n"
          ]
        },
        {
          "output_type": "stream",
          "name": "stdout",
          "text": [
            "Accuracy: 0.9582856234096683\n"
          ]
        },
        {
          "output_type": "stream",
          "name": "stderr",
          "text": [
            "Epoch 222/300. Iteration 524/524. Loss 0.00015: 100%|\u001b[32m██████████\u001b[0m| 524/524 [00:20<00:00, 25.14it/s]\n"
          ]
        },
        {
          "output_type": "stream",
          "name": "stdout",
          "text": [
            "Accuracy: 0.9554866412213735\n"
          ]
        },
        {
          "output_type": "stream",
          "name": "stderr",
          "text": [
            "Epoch 223/300. Iteration 524/524. Loss 0.01146: 100%|\u001b[32m██████████\u001b[0m| 524/524 [00:21<00:00, 24.87it/s]\n"
          ]
        },
        {
          "output_type": "stream",
          "name": "stdout",
          "text": [
            "Accuracy: 0.9521469465648846\n"
          ]
        },
        {
          "output_type": "stream",
          "name": "stderr",
          "text": [
            "Epoch 224/300. Iteration 524/524. Loss 0.00000: 100%|\u001b[32m██████████\u001b[0m| 524/524 [00:21<00:00, 23.86it/s]\n"
          ]
        },
        {
          "output_type": "stream",
          "name": "stdout",
          "text": [
            "Accuracy: 0.9554707379134854\n"
          ]
        },
        {
          "output_type": "stream",
          "name": "stderr",
          "text": [
            "Epoch 225/300. Iteration 524/524. Loss 0.00771: 100%|\u001b[32m██████████\u001b[0m| 524/524 [00:22<00:00, 23.76it/s]\n"
          ]
        },
        {
          "output_type": "stream",
          "name": "stdout",
          "text": [
            "Accuracy: 0.9561863867684475\n"
          ]
        },
        {
          "output_type": "stream",
          "name": "stderr",
          "text": [
            "Epoch 226/300. Iteration 524/524. Loss 0.01673: 100%|\u001b[32m██████████\u001b[0m| 524/524 [00:21<00:00, 24.66it/s]\n"
          ]
        },
        {
          "output_type": "stream",
          "name": "stdout",
          "text": [
            "Accuracy: 0.9575699745547068\n"
          ]
        },
        {
          "output_type": "stream",
          "name": "stderr",
          "text": [
            "Epoch 227/300. Iteration 524/524. Loss 0.07908: 100%|\u001b[32m██████████\u001b[0m| 524/524 [00:20<00:00, 25.65it/s]\n"
          ]
        },
        {
          "output_type": "stream",
          "name": "stdout",
          "text": [
            "Accuracy: 0.9493638676844778\n"
          ]
        },
        {
          "output_type": "stream",
          "name": "stderr",
          "text": [
            "Epoch 228/300. Iteration 524/524. Loss 0.06628: 100%|\u001b[32m██████████\u001b[0m| 524/524 [00:20<00:00, 25.36it/s]\n"
          ]
        },
        {
          "output_type": "stream",
          "name": "stdout",
          "text": [
            "Accuracy: 0.9532283715012715\n"
          ]
        },
        {
          "output_type": "stream",
          "name": "stderr",
          "text": [
            "Epoch 229/300. Iteration 524/524. Loss 0.00056: 100%|\u001b[32m██████████\u001b[0m| 524/524 [00:20<00:00, 25.45it/s]\n"
          ]
        },
        {
          "output_type": "stream",
          "name": "stdout",
          "text": [
            "Accuracy: 0.9437181933842238\n"
          ]
        },
        {
          "output_type": "stream",
          "name": "stderr",
          "text": [
            "Epoch 230/300. Iteration 524/524. Loss 0.00029: 100%|\u001b[32m██████████\u001b[0m| 524/524 [00:20<00:00, 25.06it/s]\n"
          ]
        },
        {
          "output_type": "stream",
          "name": "stdout",
          "text": [
            "Accuracy: 0.9573155216284979\n"
          ]
        },
        {
          "output_type": "stream",
          "name": "stderr",
          "text": [
            "Epoch 231/300. Iteration 524/524. Loss 0.01293: 100%|\u001b[32m██████████\u001b[0m| 524/524 [00:21<00:00, 23.89it/s]\n"
          ]
        },
        {
          "output_type": "stream",
          "name": "stdout",
          "text": [
            "Accuracy: 0.9573791348600503\n"
          ]
        },
        {
          "output_type": "stream",
          "name": "stderr",
          "text": [
            "Epoch 232/300. Iteration 524/524. Loss 0.00529: 100%|\u001b[32m██████████\u001b[0m| 524/524 [00:22<00:00, 23.79it/s]\n"
          ]
        },
        {
          "output_type": "stream",
          "name": "stdout",
          "text": [
            "Accuracy: 0.9582538167938927\n"
          ]
        },
        {
          "output_type": "stream",
          "name": "stderr",
          "text": [
            "Epoch 233/300. Iteration 524/524. Loss 0.03104: 100%|\u001b[32m██████████\u001b[0m| 524/524 [00:21<00:00, 24.60it/s]\n"
          ]
        },
        {
          "output_type": "stream",
          "name": "stdout",
          "text": [
            "Accuracy: 0.95640903307888\n"
          ]
        },
        {
          "output_type": "stream",
          "name": "stderr",
          "text": [
            "Epoch 234/300. Iteration 524/524. Loss 0.01691: 100%|\u001b[32m██████████\u001b[0m| 524/524 [00:20<00:00, 25.36it/s]\n"
          ]
        },
        {
          "output_type": "stream",
          "name": "stdout",
          "text": [
            "Accuracy: 0.955391221374045\n"
          ]
        },
        {
          "output_type": "stream",
          "name": "stderr",
          "text": [
            "Epoch 235/300. Iteration 524/524. Loss 0.00184: 100%|\u001b[32m██████████\u001b[0m| 524/524 [00:20<00:00, 24.99it/s]\n"
          ]
        },
        {
          "output_type": "stream",
          "name": "stdout",
          "text": [
            "Accuracy: 0.9349077608142485\n"
          ]
        },
        {
          "output_type": "stream",
          "name": "stderr",
          "text": [
            "Epoch 236/300. Iteration 524/524. Loss 0.13528: 100%|\u001b[32m██████████\u001b[0m| 524/524 [00:20<00:00, 25.11it/s]\n"
          ]
        },
        {
          "output_type": "stream",
          "name": "stdout",
          "text": [
            "Accuracy: 0.9515267175572517\n"
          ]
        },
        {
          "output_type": "stream",
          "name": "stderr",
          "text": [
            "Epoch 237/300. Iteration 524/524. Loss 0.00005: 100%|\u001b[32m██████████\u001b[0m| 524/524 [00:21<00:00, 24.31it/s]\n"
          ]
        },
        {
          "output_type": "stream",
          "name": "stdout",
          "text": [
            "Accuracy: 0.9404421119592868\n"
          ]
        },
        {
          "output_type": "stream",
          "name": "stderr",
          "text": [
            "Epoch 238/300. Iteration 524/524. Loss 0.02932: 100%|\u001b[32m██████████\u001b[0m| 524/524 [00:22<00:00, 23.49it/s]\n"
          ]
        },
        {
          "output_type": "stream",
          "name": "stdout",
          "text": [
            "Accuracy: 0.9604325699745544\n"
          ]
        },
        {
          "output_type": "stream",
          "name": "stderr",
          "text": [
            "Epoch 239/300. Iteration 524/524. Loss 0.00242: 100%|\u001b[32m██████████\u001b[0m| 524/524 [00:21<00:00, 24.30it/s]\n"
          ]
        },
        {
          "output_type": "stream",
          "name": "stdout",
          "text": [
            "Accuracy: 0.9576176844783709\n"
          ]
        },
        {
          "output_type": "stream",
          "name": "stderr",
          "text": [
            "Epoch 240/300. Iteration 524/524. Loss 0.00000: 100%|\u001b[32m██████████\u001b[0m| 524/524 [00:20<00:00, 25.52it/s]\n"
          ]
        },
        {
          "output_type": "stream",
          "name": "stdout",
          "text": [
            "Accuracy: 0.9586832061068694\n"
          ]
        },
        {
          "output_type": "stream",
          "name": "stderr",
          "text": [
            "Epoch 241/300. Iteration 524/524. Loss 0.10306: 100%|\u001b[32m██████████\u001b[0m| 524/524 [00:20<00:00, 25.10it/s]\n"
          ]
        },
        {
          "output_type": "stream",
          "name": "stdout",
          "text": [
            "Accuracy: 0.9615298982188291\n"
          ]
        },
        {
          "output_type": "stream",
          "name": "stderr",
          "text": [
            "Epoch 242/300. Iteration 524/524. Loss 0.00245: 100%|\u001b[32m██████████\u001b[0m| 524/524 [00:20<00:00, 25.06it/s]\n"
          ]
        },
        {
          "output_type": "stream",
          "name": "stdout",
          "text": [
            "Accuracy: 0.9517652671755719\n"
          ]
        },
        {
          "output_type": "stream",
          "name": "stderr",
          "text": [
            "Epoch 243/300. Iteration 524/524. Loss 0.08766: 100%|\u001b[32m██████████\u001b[0m| 524/524 [00:21<00:00, 24.86it/s]\n"
          ]
        },
        {
          "output_type": "stream",
          "name": "stdout",
          "text": [
            "Accuracy: 0.9549459287531801\n"
          ]
        },
        {
          "output_type": "stream",
          "name": "stderr",
          "text": [
            "Epoch 244/300. Iteration 524/524. Loss 0.09988: 100%|\u001b[32m██████████\u001b[0m| 524/524 [00:22<00:00, 23.41it/s]\n"
          ]
        },
        {
          "output_type": "stream",
          "name": "stdout",
          "text": [
            "Accuracy: 0.960003180661577\n"
          ]
        },
        {
          "output_type": "stream",
          "name": "stderr",
          "text": [
            "Epoch 245/300. Iteration 524/524. Loss 0.14634: 100%|\u001b[32m██████████\u001b[0m| 524/524 [00:22<00:00, 23.71it/s]\n"
          ]
        },
        {
          "output_type": "stream",
          "name": "stdout",
          "text": [
            "Accuracy: 0.9571405852417302\n"
          ]
        },
        {
          "output_type": "stream",
          "name": "stderr",
          "text": [
            "Epoch 246/300. Iteration 524/524. Loss 0.03815: 100%|\u001b[32m██████████\u001b[0m| 524/524 [00:20<00:00, 24.96it/s]\n"
          ]
        },
        {
          "output_type": "stream",
          "name": "stdout",
          "text": [
            "Accuracy: 0.9575381679389305\n"
          ]
        },
        {
          "output_type": "stream",
          "name": "stderr",
          "text": [
            "Epoch 247/300. Iteration 524/524. Loss 0.02761: 100%|\u001b[32m██████████\u001b[0m| 524/524 [00:20<00:00, 25.39it/s]\n"
          ]
        },
        {
          "output_type": "stream",
          "name": "stdout",
          "text": [
            "Accuracy: 0.9549777353689564\n"
          ]
        },
        {
          "output_type": "stream",
          "name": "stderr",
          "text": [
            "Epoch 248/300. Iteration 524/524. Loss 0.01467: 100%|\u001b[32m██████████\u001b[0m| 524/524 [00:20<00:00, 25.25it/s]\n"
          ]
        },
        {
          "output_type": "stream",
          "name": "stdout",
          "text": [
            "Accuracy: 0.9534351145038163\n"
          ]
        },
        {
          "output_type": "stream",
          "name": "stderr",
          "text": [
            "Epoch 249/300. Iteration 524/524. Loss 0.01559: 100%|\u001b[32m██████████\u001b[0m| 524/524 [00:20<00:00, 25.31it/s]\n"
          ]
        },
        {
          "output_type": "stream",
          "name": "stdout",
          "text": [
            "Accuracy: 0.9557410941475815\n"
          ]
        },
        {
          "output_type": "stream",
          "name": "stderr",
          "text": [
            "Epoch 250/300. Iteration 524/524. Loss 0.00965: 100%|\u001b[32m██████████\u001b[0m| 524/524 [00:21<00:00, 24.78it/s]\n"
          ]
        },
        {
          "output_type": "stream",
          "name": "stdout",
          "text": [
            "Accuracy: 0.9574904580152663\n"
          ]
        },
        {
          "output_type": "stream",
          "name": "stderr",
          "text": [
            "Epoch 251/300. Iteration 524/524. Loss 0.00726: 100%|\u001b[32m██████████\u001b[0m| 524/524 [00:22<00:00, 23.24it/s]\n"
          ]
        },
        {
          "output_type": "stream",
          "name": "stdout",
          "text": [
            "Accuracy: 0.9623091603053427\n"
          ]
        },
        {
          "output_type": "stream",
          "name": "stderr",
          "text": [
            "Epoch 252/300. Iteration 524/524. Loss 0.12816: 100%|\u001b[32m██████████\u001b[0m| 524/524 [00:22<00:00, 23.76it/s]\n"
          ]
        },
        {
          "output_type": "stream",
          "name": "stdout",
          "text": [
            "Accuracy: 0.9610368956742998\n"
          ]
        },
        {
          "output_type": "stream",
          "name": "stderr",
          "text": [
            "Epoch 253/300. Iteration 524/524. Loss 0.00216: 100%|\u001b[32m██████████\u001b[0m| 524/524 [00:20<00:00, 25.09it/s]\n"
          ]
        },
        {
          "output_type": "stream",
          "name": "stdout",
          "text": [
            "Accuracy: 0.9691475826972005\n"
          ]
        },
        {
          "output_type": "stream",
          "name": "stderr",
          "text": [
            "Epoch 254/300. Iteration 524/524. Loss 0.00057: 100%|\u001b[32m██████████\u001b[0m| 524/524 [00:20<00:00, 25.30it/s]\n"
          ]
        },
        {
          "output_type": "stream",
          "name": "stdout",
          "text": [
            "Accuracy: 0.9644561068702283\n"
          ]
        },
        {
          "output_type": "stream",
          "name": "stderr",
          "text": [
            "Epoch 255/300. Iteration 524/524. Loss 0.01138: 100%|\u001b[32m██████████\u001b[0m| 524/524 [00:20<00:00, 25.08it/s]\n"
          ]
        },
        {
          "output_type": "stream",
          "name": "stdout",
          "text": [
            "Accuracy: 0.9570292620865133\n"
          ]
        },
        {
          "output_type": "stream",
          "name": "stderr",
          "text": [
            "Epoch 256/300. Iteration 524/524. Loss 0.01165: 100%|\u001b[32m██████████\u001b[0m| 524/524 [00:20<00:00, 25.14it/s]\n"
          ]
        },
        {
          "output_type": "stream",
          "name": "stdout",
          "text": [
            "Accuracy: 0.9585718829516531\n"
          ]
        },
        {
          "output_type": "stream",
          "name": "stderr",
          "text": [
            "Epoch 257/300. Iteration 524/524. Loss 0.04614: 100%|\u001b[32m██████████\u001b[0m| 524/524 [00:22<00:00, 23.59it/s]\n"
          ]
        },
        {
          "output_type": "stream",
          "name": "stdout",
          "text": [
            "Accuracy: 0.9618161577608136\n"
          ]
        },
        {
          "output_type": "stream",
          "name": "stderr",
          "text": [
            "Epoch 258/300. Iteration 524/524. Loss 0.00021: 100%|\u001b[32m██████████\u001b[0m| 524/524 [00:22<00:00, 23.22it/s]\n"
          ]
        },
        {
          "output_type": "stream",
          "name": "stdout",
          "text": [
            "Accuracy: 0.9633746819338419\n"
          ]
        },
        {
          "output_type": "stream",
          "name": "stderr",
          "text": [
            "Epoch 259/300. Iteration 524/524. Loss 0.01373: 100%|\u001b[32m██████████\u001b[0m| 524/524 [00:20<00:00, 24.96it/s]\n"
          ]
        },
        {
          "output_type": "stream",
          "name": "stdout",
          "text": [
            "Accuracy: 0.9642175572519076\n"
          ]
        },
        {
          "output_type": "stream",
          "name": "stderr",
          "text": [
            "Epoch 260/300. Iteration 524/524. Loss 0.00097: 100%|\u001b[32m██████████\u001b[0m| 524/524 [00:20<00:00, 25.36it/s]\n"
          ]
        },
        {
          "output_type": "stream",
          "name": "stdout",
          "text": [
            "Accuracy: 0.9673823155216279\n"
          ]
        },
        {
          "output_type": "stream",
          "name": "stderr",
          "text": [
            "Epoch 261/300. Iteration 524/524. Loss 0.00189: 100%|\u001b[32m██████████\u001b[0m| 524/524 [00:20<00:00, 25.17it/s]\n"
          ]
        },
        {
          "output_type": "stream",
          "name": "stdout",
          "text": [
            "Accuracy: 0.9388994910941463\n"
          ]
        },
        {
          "output_type": "stream",
          "name": "stderr",
          "text": [
            "Epoch 262/300. Iteration 524/524. Loss 0.12545: 100%|\u001b[32m██████████\u001b[0m| 524/524 [00:21<00:00, 24.80it/s]\n"
          ]
        },
        {
          "output_type": "stream",
          "name": "stdout",
          "text": [
            "Accuracy: 0.9623409669211185\n"
          ]
        },
        {
          "output_type": "stream",
          "name": "stderr",
          "text": [
            "Epoch 263/300. Iteration 524/524. Loss 0.00248: 100%|\u001b[32m██████████\u001b[0m| 524/524 [00:22<00:00, 23.82it/s]\n"
          ]
        },
        {
          "output_type": "stream",
          "name": "stdout",
          "text": [
            "Accuracy: 0.9630566157760809\n"
          ]
        },
        {
          "output_type": "stream",
          "name": "stderr",
          "text": [
            "Epoch 264/300. Iteration 524/524. Loss 0.01164: 100%|\u001b[32m██████████\u001b[0m| 524/524 [00:22<00:00, 23.25it/s]\n"
          ]
        },
        {
          "output_type": "stream",
          "name": "stdout",
          "text": [
            "Accuracy: 0.9684319338422389\n"
          ]
        },
        {
          "output_type": "stream",
          "name": "stderr",
          "text": [
            "Epoch 265/300. Iteration 524/524. Loss 0.00000: 100%|\u001b[32m██████████\u001b[0m| 524/524 [00:21<00:00, 24.62it/s]\n"
          ]
        },
        {
          "output_type": "stream",
          "name": "stdout",
          "text": [
            "Accuracy: 0.9654898218829511\n"
          ]
        },
        {
          "output_type": "stream",
          "name": "stderr",
          "text": [
            "Epoch 266/300. Iteration 524/524. Loss 0.03517: 100%|\u001b[32m██████████\u001b[0m| 524/524 [00:20<00:00, 25.03it/s]\n"
          ]
        },
        {
          "output_type": "stream",
          "name": "stdout",
          "text": [
            "Accuracy: 0.9647105597964373\n"
          ]
        },
        {
          "output_type": "stream",
          "name": "stderr",
          "text": [
            "Epoch 267/300. Iteration 524/524. Loss 0.00089: 100%|\u001b[32m██████████\u001b[0m| 524/524 [00:20<00:00, 25.04it/s]\n"
          ]
        },
        {
          "output_type": "stream",
          "name": "stdout",
          "text": [
            "Accuracy: 0.9627862595419842\n"
          ]
        },
        {
          "output_type": "stream",
          "name": "stderr",
          "text": [
            "Epoch 268/300. Iteration 524/524. Loss 0.28673: 100%|\u001b[32m██████████\u001b[0m| 524/524 [00:20<00:00, 24.98it/s]\n"
          ]
        },
        {
          "output_type": "stream",
          "name": "stdout",
          "text": [
            "Accuracy: 0.9645356234096686\n"
          ]
        },
        {
          "output_type": "stream",
          "name": "stderr",
          "text": [
            "Epoch 269/300. Iteration 524/524. Loss 0.05759: 100%|\u001b[32m██████████\u001b[0m| 524/524 [00:21<00:00, 24.77it/s]\n"
          ]
        },
        {
          "output_type": "stream",
          "name": "stdout",
          "text": [
            "Accuracy: 0.955009541984732\n"
          ]
        },
        {
          "output_type": "stream",
          "name": "stderr",
          "text": [
            "Epoch 270/300. Iteration 524/524. Loss 0.07010: 100%|\u001b[32m██████████\u001b[0m| 524/524 [00:22<00:00, 23.58it/s]\n"
          ]
        },
        {
          "output_type": "stream",
          "name": "stdout",
          "text": [
            "Accuracy: 0.9534669211195922\n"
          ]
        },
        {
          "output_type": "stream",
          "name": "stderr",
          "text": [
            "Epoch 271/300. Iteration 524/524. Loss 0.00251: 100%|\u001b[32m██████████\u001b[0m| 524/524 [00:21<00:00, 23.86it/s]\n"
          ]
        },
        {
          "output_type": "stream",
          "name": "stdout",
          "text": [
            "Accuracy: 0.9630089058524166\n"
          ]
        },
        {
          "output_type": "stream",
          "name": "stderr",
          "text": [
            "Epoch 272/300. Iteration 524/524. Loss 0.00024: 100%|\u001b[32m██████████\u001b[0m| 524/524 [00:20<00:00, 25.10it/s]\n"
          ]
        },
        {
          "output_type": "stream",
          "name": "stdout",
          "text": [
            "Accuracy: 0.9623091603053431\n"
          ]
        },
        {
          "output_type": "stream",
          "name": "stderr",
          "text": [
            "Epoch 273/300. Iteration 524/524. Loss 0.09995: 100%|\u001b[32m██████████\u001b[0m| 524/524 [00:20<00:00, 25.13it/s]\n"
          ]
        },
        {
          "output_type": "stream",
          "name": "stdout",
          "text": [
            "Accuracy: 0.9672550890585234\n"
          ]
        },
        {
          "output_type": "stream",
          "name": "stderr",
          "text": [
            "Epoch 274/300. Iteration 524/524. Loss 0.00017: 100%|\u001b[32m██████████\u001b[0m| 524/524 [00:20<00:00, 25.13it/s]\n"
          ]
        },
        {
          "output_type": "stream",
          "name": "stdout",
          "text": [
            "Accuracy: 0.9654739185750632\n"
          ]
        },
        {
          "output_type": "stream",
          "name": "stderr",
          "text": [
            "Epoch 275/300. Iteration 524/524. Loss 0.02062: 100%|\u001b[32m██████████\u001b[0m| 524/524 [00:20<00:00, 24.98it/s]\n"
          ]
        },
        {
          "output_type": "stream",
          "name": "stdout",
          "text": [
            "Accuracy: 0.9652989821882947\n"
          ]
        },
        {
          "output_type": "stream",
          "name": "stderr",
          "text": [
            "Epoch 276/300. Iteration 524/524. Loss 0.01806: 100%|\u001b[32m██████████\u001b[0m| 524/524 [00:22<00:00, 23.67it/s]\n"
          ]
        },
        {
          "output_type": "stream",
          "name": "stdout",
          "text": [
            "Accuracy: 0.9642175572519078\n"
          ]
        },
        {
          "output_type": "stream",
          "name": "stderr",
          "text": [
            "Epoch 277/300. Iteration 524/524. Loss 0.00063: 100%|\u001b[32m██████████\u001b[0m| 524/524 [00:22<00:00, 23.33it/s]\n"
          ]
        },
        {
          "output_type": "stream",
          "name": "stdout",
          "text": [
            "Accuracy: 0.9594465648854955\n"
          ]
        },
        {
          "output_type": "stream",
          "name": "stderr",
          "text": [
            "Epoch 278/300. Iteration 524/524. Loss 0.00000: 100%|\u001b[32m██████████\u001b[0m| 524/524 [00:21<00:00, 23.94it/s]\n"
          ]
        },
        {
          "output_type": "stream",
          "name": "stdout",
          "text": [
            "Accuracy: 0.9645356234096685\n"
          ]
        },
        {
          "output_type": "stream",
          "name": "stderr",
          "text": [
            "Epoch 279/300. Iteration 524/524. Loss 0.04214: 100%|\u001b[32m██████████\u001b[0m| 524/524 [00:21<00:00, 24.87it/s]\n"
          ]
        },
        {
          "output_type": "stream",
          "name": "stdout",
          "text": [
            "Accuracy: 0.9618638676844781\n"
          ]
        },
        {
          "output_type": "stream",
          "name": "stderr",
          "text": [
            "Epoch 280/300. Iteration 524/524. Loss 0.31832: 100%|\u001b[32m██████████\u001b[0m| 524/524 [00:20<00:00, 25.19it/s]\n"
          ]
        },
        {
          "output_type": "stream",
          "name": "stdout",
          "text": [
            "Accuracy: 0.9595260814249355\n"
          ]
        },
        {
          "output_type": "stream",
          "name": "stderr",
          "text": [
            "Epoch 281/300. Iteration 524/524. Loss 0.26201: 100%|\u001b[32m██████████\u001b[0m| 524/524 [00:20<00:00, 25.22it/s]\n"
          ]
        },
        {
          "output_type": "stream",
          "name": "stdout",
          "text": [
            "Accuracy: 0.9513517811704828\n"
          ]
        },
        {
          "output_type": "stream",
          "name": "stderr",
          "text": [
            "Epoch 282/300. Iteration 524/524. Loss 0.01455: 100%|\u001b[32m██████████\u001b[0m| 524/524 [00:21<00:00, 24.41it/s]\n"
          ]
        },
        {
          "output_type": "stream",
          "name": "stdout",
          "text": [
            "Accuracy: 0.9634223918575057\n"
          ]
        },
        {
          "output_type": "stream",
          "name": "stderr",
          "text": [
            "Epoch 283/300. Iteration 524/524. Loss 0.00084: 100%|\u001b[32m██████████\u001b[0m| 524/524 [00:21<00:00, 23.88it/s]\n"
          ]
        },
        {
          "output_type": "stream",
          "name": "stdout",
          "text": [
            "Accuracy: 0.9641539440203554\n"
          ]
        },
        {
          "output_type": "stream",
          "name": "stderr",
          "text": [
            "Epoch 284/300. Iteration 524/524. Loss 0.00020: 100%|\u001b[32m██████████\u001b[0m| 524/524 [00:22<00:00, 23.09it/s]\n"
          ]
        },
        {
          "output_type": "stream",
          "name": "stdout",
          "text": [
            "Accuracy: 0.9603530534351141\n"
          ]
        },
        {
          "output_type": "stream",
          "name": "stderr",
          "text": [
            "Epoch 285/300. Iteration 524/524. Loss 0.04132: 100%|\u001b[32m██████████\u001b[0m| 524/524 [00:21<00:00, 24.29it/s]\n"
          ]
        },
        {
          "output_type": "stream",
          "name": "stdout",
          "text": [
            "Accuracy: 0.9572041984732815\n"
          ]
        },
        {
          "output_type": "stream",
          "name": "stderr",
          "text": [
            "Epoch 286/300. Iteration 524/524. Loss 0.00000: 100%|\u001b[32m██████████\u001b[0m| 524/524 [00:21<00:00, 24.93it/s]\n"
          ]
        },
        {
          "output_type": "stream",
          "name": "stdout",
          "text": [
            "Accuracy: 0.9654739185750629\n"
          ]
        },
        {
          "output_type": "stream",
          "name": "stderr",
          "text": [
            "Epoch 287/300. Iteration 524/524. Loss 0.07762: 100%|\u001b[32m██████████\u001b[0m| 524/524 [00:21<00:00, 24.87it/s]\n"
          ]
        },
        {
          "output_type": "stream",
          "name": "stdout",
          "text": [
            "Accuracy: 0.9634064885496181\n"
          ]
        },
        {
          "output_type": "stream",
          "name": "stderr",
          "text": [
            "Epoch 288/300. Iteration 524/524. Loss 0.24958: 100%|\u001b[32m██████████\u001b[0m| 524/524 [00:21<00:00, 24.83it/s]\n"
          ]
        },
        {
          "output_type": "stream",
          "name": "stdout",
          "text": [
            "Accuracy: 0.9695133587786252\n"
          ]
        },
        {
          "output_type": "stream",
          "name": "stderr",
          "text": [
            "Epoch 289/300. Iteration 524/524. Loss 0.00529: 100%|\u001b[32m██████████\u001b[0m| 524/524 [00:21<00:00, 24.14it/s]\n"
          ]
        },
        {
          "output_type": "stream",
          "name": "stdout",
          "text": [
            "Accuracy: 0.9636609414758261\n"
          ]
        },
        {
          "output_type": "stream",
          "name": "stderr",
          "text": [
            "Epoch 290/300. Iteration 524/524. Loss 0.00062: 100%|\u001b[32m██████████\u001b[0m| 524/524 [00:22<00:00, 23.19it/s]\n"
          ]
        },
        {
          "output_type": "stream",
          "name": "stdout",
          "text": [
            "Accuracy: 0.9602099236641216\n"
          ]
        },
        {
          "output_type": "stream",
          "name": "stderr",
          "text": [
            "Epoch 291/300. Iteration 524/524. Loss 0.00732: 100%|\u001b[32m██████████\u001b[0m| 524/524 [00:22<00:00, 23.54it/s]\n"
          ]
        },
        {
          "output_type": "stream",
          "name": "stdout",
          "text": [
            "Accuracy: 0.955868320610686\n"
          ]
        },
        {
          "output_type": "stream",
          "name": "stderr",
          "text": [
            "Epoch 292/300. Iteration 524/524. Loss 0.00497: 100%|\u001b[32m██████████\u001b[0m| 524/524 [00:20<00:00, 25.04it/s]\n"
          ]
        },
        {
          "output_type": "stream",
          "name": "stdout",
          "text": [
            "Accuracy: 0.9643765903307885\n"
          ]
        },
        {
          "output_type": "stream",
          "name": "stderr",
          "text": [
            "Epoch 293/300. Iteration 524/524. Loss 0.00020: 100%|\u001b[32m██████████\u001b[0m| 524/524 [00:21<00:00, 24.77it/s]\n"
          ]
        },
        {
          "output_type": "stream",
          "name": "stdout",
          "text": [
            "Accuracy: 0.9553117048346049\n"
          ]
        },
        {
          "output_type": "stream",
          "name": "stderr",
          "text": [
            "Epoch 294/300. Iteration 524/524. Loss 0.07775: 100%|\u001b[32m██████████\u001b[0m| 524/524 [00:21<00:00, 24.82it/s]\n"
          ]
        },
        {
          "output_type": "stream",
          "name": "stdout",
          "text": [
            "Accuracy: 0.968034351145038\n"
          ]
        },
        {
          "output_type": "stream",
          "name": "stderr",
          "text": [
            "Epoch 295/300. Iteration 524/524. Loss 0.06160: 100%|\u001b[32m██████████\u001b[0m| 524/524 [00:21<00:00, 24.67it/s]\n"
          ]
        },
        {
          "output_type": "stream",
          "name": "stdout",
          "text": [
            "Accuracy: 0.9669211195928746\n"
          ]
        },
        {
          "output_type": "stream",
          "name": "stderr",
          "text": [
            "Epoch 296/300. Iteration 524/524. Loss 0.00037: 100%|\u001b[32m██████████\u001b[0m| 524/524 [00:22<00:00, 23.03it/s]\n"
          ]
        },
        {
          "output_type": "stream",
          "name": "stdout",
          "text": [
            "Accuracy: 0.9587309160305342\n"
          ]
        },
        {
          "output_type": "stream",
          "name": "stderr",
          "text": [
            "Epoch 297/300. Iteration 524/524. Loss 0.10315: 100%|\u001b[32m██████████\u001b[0m| 524/524 [00:22<00:00, 23.73it/s]\n"
          ]
        },
        {
          "output_type": "stream",
          "name": "stdout",
          "text": [
            "Accuracy: 0.9604961832061063\n"
          ]
        },
        {
          "output_type": "stream",
          "name": "stderr",
          "text": [
            "Epoch 298/300. Iteration 524/524. Loss 0.02826: 100%|\u001b[32m██████████\u001b[0m| 524/524 [00:21<00:00, 24.74it/s]\n"
          ]
        },
        {
          "output_type": "stream",
          "name": "stdout",
          "text": [
            "Accuracy: 0.9599236641221365\n"
          ]
        },
        {
          "output_type": "stream",
          "name": "stderr",
          "text": [
            "Epoch 299/300. Iteration 524/524. Loss 0.00018: 100%|\u001b[32m██████████\u001b[0m| 524/524 [00:20<00:00, 25.05it/s]\n"
          ]
        },
        {
          "output_type": "stream",
          "name": "stdout",
          "text": [
            "Accuracy: 0.9649968193384217\n"
          ]
        },
        {
          "output_type": "stream",
          "name": "stderr",
          "text": [
            "Epoch 300/300. Iteration 524/524. Loss 0.03318: 100%|\u001b[32m██████████\u001b[0m| 524/524 [00:21<00:00, 24.86it/s]\n"
          ]
        },
        {
          "output_type": "stream",
          "name": "stdout",
          "text": [
            "Accuracy: 0.9677798982188291\n"
          ]
        }
      ]
    },
    {
      "cell_type": "code",
      "source": [
        "# Plot the loss history\n",
        "plt.plot(trainingEpoch_loss, label='Training Loss')\n",
        "plt.xlabel('Iteration')\n",
        "plt.ylabel('Loss')\n",
        "plt.legend()\n",
        "plt.show()"
      ],
      "metadata": {
        "colab": {
          "base_uri": "https://localhost:8080/",
          "height": 449
        },
        "id": "M1BeXmVAOzTP",
        "outputId": "0c281867-b67e-44a4-a45e-faf144ff5fc2"
      },
      "execution_count": 43,
      "outputs": [
        {
          "output_type": "display_data",
          "data": {
            "text/plain": [
              "<Figure size 640x480 with 1 Axes>"
            ],
            "image/png": "[encoded data removed]"
          },
          "metadata": {}
        }
      ]
    },
    {
      "cell_type": "markdown",
      "source": [
        "## Evaluate on test set"
      ],
      "metadata": {
        "id": "7IaCRIe6w6FW"
      }
    },
    {
      "cell_type": "code",
      "source": [
        "model = torch.load('/content/drive/MyDrive/CS114/best1_model.pth')\n",
        "model.eval()\n",
        "y_true = []\n",
        "y_pred = []\n",
        "progress_bar = tqdm(test_loader, colour='yellow')\n",
        "with torch.no_grad():\n",
        "    for iter, (texts, labels) in enumerate(progress_bar):\n",
        "        texts = texts.to(device)\n",
        "        labels = labels.to(dtype=torch.float).to(device)\n",
        "        outputs = np.array(model(texts).tolist())\n",
        "        y_pred.extend((outputs >= 0.5).astype(np.float32))\n",
        "        y_true.extend(labels.cpu().numpy())\n",
        "\n",
        "y_true = np.array(y_true)\n",
        "y_pred = np.array(y_pred)\n",
        "acc = accuracy(y_true, y_pred)\n",
        "precision = Precision(y_true, y_pred)\n",
        "recall = Recall(y_true, y_pred)\n",
        "F1_score = F1Measure(y_true, y_pred)\n",
        "\n",
        "# Define the table format\n",
        "table_format = \"{:<12} {:<10}\"\n",
        "\n",
        "# Print the title\n",
        "print(\"Evaluate on test set\")\n",
        "\n",
        "# Print the table header\n",
        "print(table_format.format(\"Metric\", \"Value\"))\n",
        "print(\"-\" * 22)  # Separating line\n",
        "\n",
        "# Print rows with metrics\n",
        "print(table_format.format(\"Accuracy:\", f\"{acc:.2%}\"))\n",
        "print(table_format.format(\"Precision:\", f\"{precision:.2%}\"))\n",
        "print(table_format.format(\"Recall:\", f\"{recall:.2%}\"))\n",
        "print(table_format.format(\"F1 Score:\", f\"{F1_score:.2%}\"))"
      ],
      "metadata": {
        "colab": {
          "base_uri": "https://localhost:8080/"
        },
        "id": "9FooyjfaOc9v",
        "outputId": "38b6d744-f0c4-45d1-de3f-7cfcc423a842"
      },
      "execution_count": 45,
      "outputs": [
        {
          "output_type": "stream",
          "name": "stderr",
          "text": [
            "100%|\u001b[33m██████████\u001b[0m| 117/117 [00:02<00:00, 49.03it/s]"
          ]
        },
        {
          "output_type": "stream",
          "name": "stdout",
          "text": [
            "Evaluate on test set\n",
            "Metric       Value     \n",
            "----------------------\n",
            "Accuracy:    23.75%    \n",
            "Precision:   33.55%    \n",
            "Recall:      30.84%    \n",
            "F1 Score:    31.03%    \n"
          ]
        },
        {
          "output_type": "stream",
          "name": "stderr",
          "text": [
            "\n"
          ]
        }
      ]
    },
    {
      "cell_type": "markdown",
      "source": [
        "#Testing"
      ],
      "metadata": {
        "id": "W66nZ8oWd-Ia"
      }
    },
    {
      "cell_type": "code",
      "source": [
        "#load model\n",
        "model = torch.load('/content/drive/MyDrive/CS114/best_model.pth')\n",
        "print(model)"
      ],
      "metadata": {
        "id": "paYaqHPQ5NWB",
        "colab": {
          "base_uri": "https://localhost:8080/"
        },
        "outputId": "34d716b3-e09a-47a2-a334-ac2383ccc0c1"
      },
      "execution_count": 28,
      "outputs": [
        {
          "output_type": "stream",
          "name": "stdout",
          "text": [
            "HashtagRecommendation(\n",
            "  (word_embeddings): Embedding(2180, 100)\n",
            "  (lstm): LSTM(100, 256, batch_first=True)\n",
            "  (fc1): Linear(in_features=256, out_features=128, bias=True)\n",
            "  (fc2): Linear(in_features=128, out_features=64, bias=True)\n",
            "  (fc3): Linear(in_features=64, out_features=9, bias=True)\n",
            "  (relu): ReLU()\n",
            "  (sigmoid): Sigmoid()\n",
            "  (dropout): Dropout(p=0.2, inplace=False)\n",
            ")\n"
          ]
        }
      ]
    },
    {
      "cell_type": "code",
      "source": [
        "sentence = input()"
      ],
      "metadata": {
        "id": "fCjrYMEAREUZ",
        "colab": {
          "base_uri": "https://localhost:8080/"
        },
        "outputId": "af22d12c-c360-4172-eaab-cd4fb7fc26dc"
      },
      "execution_count": 30,
      "outputs": [
        {
          "name": "stdout",
          "output_type": "stream",
          "text": [
            "cho mình hỏi\n"
          ]
        }
      ]
    },
    {
      "cell_type": "code",
      "source": [
        "# test = preprocessing(sentence)\n",
        "test = train_set.encode_text(sentence)\n",
        "test = ToTensor()(test)[None, :]\n",
        "test = test.to(device)\n",
        "pred = model(test)[0].tolist()\n",
        "pred = [train_set.classes[i] for i in range(len(pred)) if pred[i]>0.5]\n",
        "print(\"Predict label: \", *pred)"
      ],
      "metadata": {
        "id": "EVh4eA44eAuH"
      },
      "execution_count": null,
      "outputs": []
    },
    {
      "cell_type": "code",
      "source": [],
      "metadata": {
        "id": "53nlPTCVYVL6"
      },
      "execution_count": null,
      "outputs": []
    }
  ]
}